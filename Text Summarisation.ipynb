{
 "cells": [
  {
   "cell_type": "markdown",
   "id": "3df2aac6",
   "metadata": {
    "id": "3df2aac6"
   },
   "source": [
    "### 1. Reading dataset and pre-processing"
   ]
  },
  {
   "cell_type": "markdown",
   "id": "d5f85d8a",
   "metadata": {
    "id": "d5f85d8a"
   },
   "source": [
    "Assignment Dataset\n",
    "In this Assignment we Read data from the **COVID-19 Open Research Dataset Challenge (CORD-19)** available in https://www.kaggle.com/datasets/allen-institute-for-ai/CORD-19-research-challenge.From which we subsample over 1,000,000 scholarly articles, including over 400,000 with full text, about COVID-19, SARS-CoV-2, and related coronaviruses. to get 10,000 random articles which are considered as dataset and used to create a factoid based question answering system that can find relevant article snippets matching a simple fact-based query in natural language.\n"
   ]
  },
  {
   "cell_type": "markdown",
   "id": "bb5da4e9",
   "metadata": {
    "id": "bb5da4e9"
   },
   "source": [
    "\n",
    "The Data subsampling and reading can be found submitted Data.ipynb this file was run as a kaggle notebook on kaggle server to randomly select 10,000 articles. which were then exported as csv into covid_articles.csv. We extract\n",
    "* paper_id\n",
    "* body_text\n",
    "* authors\n",
    "* title\n",
    "* abstract\n",
    " <br />and use these to create a simple factoid based question answering system."
   ]
  },
  {
   "cell_type": "code",
   "execution_count": null,
   "id": "xAHxQSrbkJyD",
   "metadata": {
    "id": "xAHxQSrbkJyD"
   },
   "outputs": [],
   "source": [
    "# from gensim.models import Word2Vec"
   ]
  },
  {
   "cell_type": "code",
   "execution_count": null,
   "id": "e967e07b",
   "metadata": {
    "colab": {
     "base_uri": "https://localhost:8080/"
    },
    "id": "e967e07b",
    "outputId": "125ecdb0-09f6-41df-d6f3-db13c27a2db5"
   },
   "outputs": [
    {
     "name": "stdout",
     "output_type": "stream",
     "text": [
      "Looking in indexes: https://pypi.org/simple, https://us-python.pkg.dev/colab-wheels/public/simple/\n",
      "Requirement already satisfied: spacy_fastlang in /usr/local/lib/python3.9/dist-packages (1.0.1)\n",
      "Requirement already satisfied: fasttext<0.10.0,>=0.9.2 in /usr/local/lib/python3.9/dist-packages (from spacy_fastlang) (0.9.2)\n",
      "Requirement already satisfied: spacy<4.0.0,>=3.0.6 in /usr/local/lib/python3.9/dist-packages (from spacy_fastlang) (3.5.1)\n",
      "Requirement already satisfied: pybind11>=2.2 in /usr/local/lib/python3.9/dist-packages (from fasttext<0.10.0,>=0.9.2->spacy_fastlang) (2.10.4)\n",
      "Requirement already satisfied: numpy in /usr/local/lib/python3.9/dist-packages (from fasttext<0.10.0,>=0.9.2->spacy_fastlang) (1.22.4)\n",
      "Requirement already satisfied: setuptools>=0.7.0 in /usr/local/lib/python3.9/dist-packages (from fasttext<0.10.0,>=0.9.2->spacy_fastlang) (67.6.1)\n",
      "Requirement already satisfied: cymem<2.1.0,>=2.0.2 in /usr/local/lib/python3.9/dist-packages (from spacy<4.0.0,>=3.0.6->spacy_fastlang) (2.0.7)\n",
      "Requirement already satisfied: wasabi<1.2.0,>=0.9.1 in /usr/local/lib/python3.9/dist-packages (from spacy<4.0.0,>=3.0.6->spacy_fastlang) (1.1.1)\n",
      "Requirement already satisfied: packaging>=20.0 in /usr/local/lib/python3.9/dist-packages (from spacy<4.0.0,>=3.0.6->spacy_fastlang) (23.0)\n",
      "Requirement already satisfied: tqdm<5.0.0,>=4.38.0 in /usr/local/lib/python3.9/dist-packages (from spacy<4.0.0,>=3.0.6->spacy_fastlang) (4.65.0)\n",
      "Requirement already satisfied: catalogue<2.1.0,>=2.0.6 in /usr/local/lib/python3.9/dist-packages (from spacy<4.0.0,>=3.0.6->spacy_fastlang) (2.0.8)\n",
      "Requirement already satisfied: thinc<8.2.0,>=8.1.8 in /usr/local/lib/python3.9/dist-packages (from spacy<4.0.0,>=3.0.6->spacy_fastlang) (8.1.9)\n",
      "Requirement already satisfied: pathy>=0.10.0 in /usr/local/lib/python3.9/dist-packages (from spacy<4.0.0,>=3.0.6->spacy_fastlang) (0.10.1)\n",
      "Requirement already satisfied: srsly<3.0.0,>=2.4.3 in /usr/local/lib/python3.9/dist-packages (from spacy<4.0.0,>=3.0.6->spacy_fastlang) (2.4.6)\n",
      "Requirement already satisfied: jinja2 in /usr/local/lib/python3.9/dist-packages (from spacy<4.0.0,>=3.0.6->spacy_fastlang) (3.1.2)\n",
      "Requirement already satisfied: spacy-legacy<3.1.0,>=3.0.11 in /usr/local/lib/python3.9/dist-packages (from spacy<4.0.0,>=3.0.6->spacy_fastlang) (3.0.12)\n",
      "Requirement already satisfied: typer<0.8.0,>=0.3.0 in /usr/local/lib/python3.9/dist-packages (from spacy<4.0.0,>=3.0.6->spacy_fastlang) (0.7.0)\n",
      "Requirement already satisfied: pydantic!=1.8,!=1.8.1,<1.11.0,>=1.7.4 in /usr/local/lib/python3.9/dist-packages (from spacy<4.0.0,>=3.0.6->spacy_fastlang) (1.10.7)\n",
      "Requirement already satisfied: murmurhash<1.1.0,>=0.28.0 in /usr/local/lib/python3.9/dist-packages (from spacy<4.0.0,>=3.0.6->spacy_fastlang) (1.0.9)\n",
      "Requirement already satisfied: requests<3.0.0,>=2.13.0 in /usr/local/lib/python3.9/dist-packages (from spacy<4.0.0,>=3.0.6->spacy_fastlang) (2.27.1)\n",
      "Requirement already satisfied: smart-open<7.0.0,>=5.2.1 in /usr/local/lib/python3.9/dist-packages (from spacy<4.0.0,>=3.0.6->spacy_fastlang) (6.3.0)\n",
      "Requirement already satisfied: spacy-loggers<2.0.0,>=1.0.0 in /usr/local/lib/python3.9/dist-packages (from spacy<4.0.0,>=3.0.6->spacy_fastlang) (1.0.4)\n",
      "Requirement already satisfied: langcodes<4.0.0,>=3.2.0 in /usr/local/lib/python3.9/dist-packages (from spacy<4.0.0,>=3.0.6->spacy_fastlang) (3.3.0)\n",
      "Requirement already satisfied: preshed<3.1.0,>=3.0.2 in /usr/local/lib/python3.9/dist-packages (from spacy<4.0.0,>=3.0.6->spacy_fastlang) (3.0.8)\n",
      "Requirement already satisfied: typing-extensions>=4.2.0 in /usr/local/lib/python3.9/dist-packages (from pydantic!=1.8,!=1.8.1,<1.11.0,>=1.7.4->spacy<4.0.0,>=3.0.6->spacy_fastlang) (4.5.0)\n",
      "Requirement already satisfied: certifi>=2017.4.17 in /usr/local/lib/python3.9/dist-packages (from requests<3.0.0,>=2.13.0->spacy<4.0.0,>=3.0.6->spacy_fastlang) (2022.12.7)\n",
      "Requirement already satisfied: idna<4,>=2.5 in /usr/local/lib/python3.9/dist-packages (from requests<3.0.0,>=2.13.0->spacy<4.0.0,>=3.0.6->spacy_fastlang) (3.4)\n",
      "Requirement already satisfied: urllib3<1.27,>=1.21.1 in /usr/local/lib/python3.9/dist-packages (from requests<3.0.0,>=2.13.0->spacy<4.0.0,>=3.0.6->spacy_fastlang) (1.26.15)\n",
      "Requirement already satisfied: charset-normalizer~=2.0.0 in /usr/local/lib/python3.9/dist-packages (from requests<3.0.0,>=2.13.0->spacy<4.0.0,>=3.0.6->spacy_fastlang) (2.0.12)\n",
      "Requirement already satisfied: confection<1.0.0,>=0.0.1 in /usr/local/lib/python3.9/dist-packages (from thinc<8.2.0,>=8.1.8->spacy<4.0.0,>=3.0.6->spacy_fastlang) (0.0.4)\n",
      "Requirement already satisfied: blis<0.8.0,>=0.7.8 in /usr/local/lib/python3.9/dist-packages (from thinc<8.2.0,>=8.1.8->spacy<4.0.0,>=3.0.6->spacy_fastlang) (0.7.9)\n",
      "Requirement already satisfied: click<9.0.0,>=7.1.1 in /usr/local/lib/python3.9/dist-packages (from typer<0.8.0,>=0.3.0->spacy<4.0.0,>=3.0.6->spacy_fastlang) (8.1.3)\n",
      "Requirement already satisfied: MarkupSafe>=2.0 in /usr/local/lib/python3.9/dist-packages (from jinja2->spacy<4.0.0,>=3.0.6->spacy_fastlang) (2.1.2)\n",
      "Looking in indexes: https://pypi.org/simple, https://us-python.pkg.dev/colab-wheels/public/simple/\n",
      "Requirement already satisfied: transformers in /usr/local/lib/python3.9/dist-packages (4.28.1)\n",
      "Requirement already satisfied: packaging>=20.0 in /usr/local/lib/python3.9/dist-packages (from transformers) (23.0)\n",
      "Requirement already satisfied: huggingface-hub<1.0,>=0.11.0 in /usr/local/lib/python3.9/dist-packages (from transformers) (0.13.4)\n",
      "Requirement already satisfied: requests in /usr/local/lib/python3.9/dist-packages (from transformers) (2.27.1)\n",
      "Requirement already satisfied: numpy>=1.17 in /usr/local/lib/python3.9/dist-packages (from transformers) (1.22.4)\n",
      "Requirement already satisfied: regex!=2019.12.17 in /usr/local/lib/python3.9/dist-packages (from transformers) (2022.10.31)\n",
      "Requirement already satisfied: tokenizers!=0.11.3,<0.14,>=0.11.1 in /usr/local/lib/python3.9/dist-packages (from transformers) (0.13.3)\n",
      "Requirement already satisfied: tqdm>=4.27 in /usr/local/lib/python3.9/dist-packages (from transformers) (4.65.0)\n",
      "Requirement already satisfied: filelock in /usr/local/lib/python3.9/dist-packages (from transformers) (3.11.0)\n",
      "Requirement already satisfied: pyyaml>=5.1 in /usr/local/lib/python3.9/dist-packages (from transformers) (6.0)\n",
      "Requirement already satisfied: typing-extensions>=3.7.4.3 in /usr/local/lib/python3.9/dist-packages (from huggingface-hub<1.0,>=0.11.0->transformers) (4.5.0)\n",
      "Requirement already satisfied: idna<4,>=2.5 in /usr/local/lib/python3.9/dist-packages (from requests->transformers) (3.4)\n",
      "Requirement already satisfied: charset-normalizer~=2.0.0 in /usr/local/lib/python3.9/dist-packages (from requests->transformers) (2.0.12)\n",
      "Requirement already satisfied: urllib3<1.27,>=1.21.1 in /usr/local/lib/python3.9/dist-packages (from requests->transformers) (1.26.15)\n",
      "Requirement already satisfied: certifi>=2017.4.17 in /usr/local/lib/python3.9/dist-packages (from requests->transformers) (2022.12.7)\n",
      "Looking in indexes: https://pypi.org/simple, https://us-python.pkg.dev/colab-wheels/public/simple/\n",
      "Requirement already satisfied: SentencePiece in /usr/local/lib/python3.9/dist-packages (0.1.98)\n",
      "Looking in indexes: https://pypi.org/simple, https://us-python.pkg.dev/colab-wheels/public/simple/\n",
      "Requirement already satisfied: datasets in /usr/local/lib/python3.9/dist-packages (2.11.0)\n",
      "Requirement already satisfied: multiprocess in /usr/local/lib/python3.9/dist-packages (from datasets) (0.70.14)\n",
      "Requirement already satisfied: huggingface-hub<1.0.0,>=0.11.0 in /usr/local/lib/python3.9/dist-packages (from datasets) (0.13.4)\n",
      "Requirement already satisfied: pandas in /usr/local/lib/python3.9/dist-packages (from datasets) (1.5.3)\n",
      "Requirement already satisfied: requests>=2.19.0 in /usr/local/lib/python3.9/dist-packages (from datasets) (2.27.1)\n",
      "Requirement already satisfied: dill<0.3.7,>=0.3.0 in /usr/local/lib/python3.9/dist-packages (from datasets) (0.3.6)\n",
      "Requirement already satisfied: xxhash in /usr/local/lib/python3.9/dist-packages (from datasets) (3.2.0)\n",
      "Requirement already satisfied: fsspec[http]>=2021.11.1 in /usr/local/lib/python3.9/dist-packages (from datasets) (2023.4.0)\n",
      "Requirement already satisfied: tqdm>=4.62.1 in /usr/local/lib/python3.9/dist-packages (from datasets) (4.65.0)\n",
      "Requirement already satisfied: packaging in /usr/local/lib/python3.9/dist-packages (from datasets) (23.0)\n",
      "Requirement already satisfied: pyarrow>=8.0.0 in /usr/local/lib/python3.9/dist-packages (from datasets) (9.0.0)\n",
      "Requirement already satisfied: aiohttp in /usr/local/lib/python3.9/dist-packages (from datasets) (3.8.4)\n",
      "Requirement already satisfied: numpy>=1.17 in /usr/local/lib/python3.9/dist-packages (from datasets) (1.22.4)\n",
      "Requirement already satisfied: pyyaml>=5.1 in /usr/local/lib/python3.9/dist-packages (from datasets) (6.0)\n",
      "Requirement already satisfied: responses<0.19 in /usr/local/lib/python3.9/dist-packages (from datasets) (0.18.0)\n",
      "Requirement already satisfied: multidict<7.0,>=4.5 in /usr/local/lib/python3.9/dist-packages (from aiohttp->datasets) (6.0.4)\n",
      "Requirement already satisfied: yarl<2.0,>=1.0 in /usr/local/lib/python3.9/dist-packages (from aiohttp->datasets) (1.8.2)\n",
      "Requirement already satisfied: frozenlist>=1.1.1 in /usr/local/lib/python3.9/dist-packages (from aiohttp->datasets) (1.3.3)\n",
      "Requirement already satisfied: aiosignal>=1.1.2 in /usr/local/lib/python3.9/dist-packages (from aiohttp->datasets) (1.3.1)\n",
      "Requirement already satisfied: charset-normalizer<4.0,>=2.0 in /usr/local/lib/python3.9/dist-packages (from aiohttp->datasets) (2.0.12)\n",
      "Requirement already satisfied: async-timeout<5.0,>=4.0.0a3 in /usr/local/lib/python3.9/dist-packages (from aiohttp->datasets) (4.0.2)\n",
      "Requirement already satisfied: attrs>=17.3.0 in /usr/local/lib/python3.9/dist-packages (from aiohttp->datasets) (22.2.0)\n",
      "Requirement already satisfied: typing-extensions>=3.7.4.3 in /usr/local/lib/python3.9/dist-packages (from huggingface-hub<1.0.0,>=0.11.0->datasets) (4.5.0)\n",
      "Requirement already satisfied: filelock in /usr/local/lib/python3.9/dist-packages (from huggingface-hub<1.0.0,>=0.11.0->datasets) (3.11.0)\n",
      "Requirement already satisfied: idna<4,>=2.5 in /usr/local/lib/python3.9/dist-packages (from requests>=2.19.0->datasets) (3.4)\n",
      "Requirement already satisfied: certifi>=2017.4.17 in /usr/local/lib/python3.9/dist-packages (from requests>=2.19.0->datasets) (2022.12.7)\n",
      "Requirement already satisfied: urllib3<1.27,>=1.21.1 in /usr/local/lib/python3.9/dist-packages (from requests>=2.19.0->datasets) (1.26.15)\n",
      "Requirement already satisfied: pytz>=2020.1 in /usr/local/lib/python3.9/dist-packages (from pandas->datasets) (2022.7.1)\n",
      "Requirement already satisfied: python-dateutil>=2.8.1 in /usr/local/lib/python3.9/dist-packages (from pandas->datasets) (2.8.2)\n",
      "Requirement already satisfied: six>=1.5 in /usr/local/lib/python3.9/dist-packages (from python-dateutil>=2.8.1->pandas->datasets) (1.16.0)\n",
      "Looking in indexes: https://pypi.org/simple, https://us-python.pkg.dev/colab-wheels/public/simple/\n",
      "Requirement already satisfied: evaluate in /usr/local/lib/python3.9/dist-packages (0.4.0)\n",
      "Requirement already satisfied: fsspec[http]>=2021.05.0 in /usr/local/lib/python3.9/dist-packages (from evaluate) (2023.4.0)\n",
      "Requirement already satisfied: requests>=2.19.0 in /usr/local/lib/python3.9/dist-packages (from evaluate) (2.27.1)\n",
      "Requirement already satisfied: huggingface-hub>=0.7.0 in /usr/local/lib/python3.9/dist-packages (from evaluate) (0.13.4)\n",
      "Requirement already satisfied: packaging in /usr/local/lib/python3.9/dist-packages (from evaluate) (23.0)\n",
      "Requirement already satisfied: multiprocess in /usr/local/lib/python3.9/dist-packages (from evaluate) (0.70.14)\n",
      "Requirement already satisfied: pandas in /usr/local/lib/python3.9/dist-packages (from evaluate) (1.5.3)\n",
      "Requirement already satisfied: tqdm>=4.62.1 in /usr/local/lib/python3.9/dist-packages (from evaluate) (4.65.0)\n",
      "Requirement already satisfied: dill in /usr/local/lib/python3.9/dist-packages (from evaluate) (0.3.6)\n",
      "Requirement already satisfied: numpy>=1.17 in /usr/local/lib/python3.9/dist-packages (from evaluate) (1.22.4)\n",
      "Requirement already satisfied: datasets>=2.0.0 in /usr/local/lib/python3.9/dist-packages (from evaluate) (2.11.0)\n",
      "Requirement already satisfied: xxhash in /usr/local/lib/python3.9/dist-packages (from evaluate) (3.2.0)\n",
      "Requirement already satisfied: responses<0.19 in /usr/local/lib/python3.9/dist-packages (from evaluate) (0.18.0)\n",
      "Requirement already satisfied: aiohttp in /usr/local/lib/python3.9/dist-packages (from datasets>=2.0.0->evaluate) (3.8.4)\n",
      "Requirement already satisfied: pyarrow>=8.0.0 in /usr/local/lib/python3.9/dist-packages (from datasets>=2.0.0->evaluate) (9.0.0)\n",
      "Requirement already satisfied: pyyaml>=5.1 in /usr/local/lib/python3.9/dist-packages (from datasets>=2.0.0->evaluate) (6.0)\n",
      "Requirement already satisfied: filelock in /usr/local/lib/python3.9/dist-packages (from huggingface-hub>=0.7.0->evaluate) (3.11.0)\n",
      "Requirement already satisfied: typing-extensions>=3.7.4.3 in /usr/local/lib/python3.9/dist-packages (from huggingface-hub>=0.7.0->evaluate) (4.5.0)\n",
      "Requirement already satisfied: certifi>=2017.4.17 in /usr/local/lib/python3.9/dist-packages (from requests>=2.19.0->evaluate) (2022.12.7)\n",
      "Requirement already satisfied: charset-normalizer~=2.0.0 in /usr/local/lib/python3.9/dist-packages (from requests>=2.19.0->evaluate) (2.0.12)\n",
      "Requirement already satisfied: urllib3<1.27,>=1.21.1 in /usr/local/lib/python3.9/dist-packages (from requests>=2.19.0->evaluate) (1.26.15)\n",
      "Requirement already satisfied: idna<4,>=2.5 in /usr/local/lib/python3.9/dist-packages (from requests>=2.19.0->evaluate) (3.4)\n",
      "Requirement already satisfied: pytz>=2020.1 in /usr/local/lib/python3.9/dist-packages (from pandas->evaluate) (2022.7.1)\n",
      "Requirement already satisfied: python-dateutil>=2.8.1 in /usr/local/lib/python3.9/dist-packages (from pandas->evaluate) (2.8.2)\n",
      "Requirement already satisfied: async-timeout<5.0,>=4.0.0a3 in /usr/local/lib/python3.9/dist-packages (from aiohttp->datasets>=2.0.0->evaluate) (4.0.2)\n",
      "Requirement already satisfied: frozenlist>=1.1.1 in /usr/local/lib/python3.9/dist-packages (from aiohttp->datasets>=2.0.0->evaluate) (1.3.3)\n",
      "Requirement already satisfied: aiosignal>=1.1.2 in /usr/local/lib/python3.9/dist-packages (from aiohttp->datasets>=2.0.0->evaluate) (1.3.1)\n",
      "Requirement already satisfied: multidict<7.0,>=4.5 in /usr/local/lib/python3.9/dist-packages (from aiohttp->datasets>=2.0.0->evaluate) (6.0.4)\n",
      "Requirement already satisfied: yarl<2.0,>=1.0 in /usr/local/lib/python3.9/dist-packages (from aiohttp->datasets>=2.0.0->evaluate) (1.8.2)\n",
      "Requirement already satisfied: attrs>=17.3.0 in /usr/local/lib/python3.9/dist-packages (from aiohttp->datasets>=2.0.0->evaluate) (22.2.0)\n",
      "Requirement already satisfied: six>=1.5 in /usr/local/lib/python3.9/dist-packages (from python-dateutil>=2.8.1->pandas->evaluate) (1.16.0)\n",
      "Looking in indexes: https://pypi.org/simple, https://us-python.pkg.dev/colab-wheels/public/simple/\n",
      "Requirement already satisfied: rouge-score in /usr/local/lib/python3.9/dist-packages (0.1.2)\n",
      "Requirement already satisfied: nltk in /usr/local/lib/python3.9/dist-packages (from rouge-score) (3.8.1)\n",
      "Requirement already satisfied: six>=1.14.0 in /usr/local/lib/python3.9/dist-packages (from rouge-score) (1.16.0)\n",
      "Requirement already satisfied: absl-py in /usr/local/lib/python3.9/dist-packages (from rouge-score) (1.4.0)\n",
      "Requirement already satisfied: numpy in /usr/local/lib/python3.9/dist-packages (from rouge-score) (1.22.4)\n",
      "Requirement already satisfied: joblib in /usr/local/lib/python3.9/dist-packages (from nltk->rouge-score) (1.2.0)\n",
      "Requirement already satisfied: tqdm in /usr/local/lib/python3.9/dist-packages (from nltk->rouge-score) (4.65.0)\n",
      "Requirement already satisfied: click in /usr/local/lib/python3.9/dist-packages (from nltk->rouge-score) (8.1.3)\n",
      "Requirement already satisfied: regex>=2021.8.3 in /usr/local/lib/python3.9/dist-packages (from nltk->rouge-score) (2022.10.31)\n"
     ]
    },
    {
     "name": "stderr",
     "output_type": "stream",
     "text": [
      "[nltk_data] Downloading package stopwords to /root/nltk_data...\n",
      "[nltk_data]   Package stopwords is already up-to-date!\n",
      "[nltk_data] Downloading package wordnet to /root/nltk_data...\n",
      "[nltk_data]   Package wordnet is already up-to-date!\n",
      "[nltk_data] Downloading package punkt to /root/nltk_data...\n",
      "[nltk_data]   Package punkt is already up-to-date!\n",
      "<ipython-input-1-3364f6825f34>:46: FutureWarning: load_metric is deprecated and will be removed in the next major version of datasets. Use 'evaluate.load' instead, from the new library 🤗 Evaluate: https://huggingface.co/docs/evaluate\n",
      "  metric = load_metric(\"rouge\")\n"
     ]
    },
    {
     "name": "stdout",
     "output_type": "stream",
     "text": [
      "Drive already mounted at /content/drive; to attempt to forcibly remount, call drive.mount(\"/content/drive\", force_remount=True).\n"
     ]
    }
   ],
   "source": [
    "# Import Libraries\n",
    "import locale\n",
    "# locale.getpreferredencoding = lambda: \"UTF-8\"\n",
    "!pip install spacy_fastlang\n",
    "!pip install transformers\n",
    "!pip install SentencePiece\n",
    "!pip install datasets\n",
    "!pip install evaluate\n",
    "!pip install rouge-score\n",
    "import torch\n",
    "import numpy as np\n",
    "import pandas as pd\n",
    "import string\n",
    "import re\n",
    "import textwrap\n",
    "import nltk\n",
    "nltk.download('stopwords')\n",
    "nltk.download('wordnet')\n",
    "from nltk.corpus import stopwords #Importing Stop Words\n",
    "#Tokenize the words\n",
    "nltk.download('punkt')\n",
    "from nltk.tokenize import word_tokenize #to TOkenize the words\n",
    "from nltk.stem import WordNetLemmatizer\n",
    "lemmatizer = WordNetLemmatizer()\n",
    "\n",
    "from wordcloud import WordCloud \n",
    "import matplotlib.pyplot as plt\n",
    "import matplotlib.pyplot as plt\n",
    "\n",
    "\n",
    "import spacy\n",
    "from spacy import displacy\n",
    "from tqdm import tqdm\n",
    "import spacy_fastlang\n",
    "\n",
    "import os\n",
    "import re\n",
    "import time\n",
    "# !pip install --upgrade gensim\n",
    "from gensim.models import Word2Vec\n",
    "from tqdm import tqdm\n",
    "\n",
    "tqdm.pandas()\n",
    "\n",
    "from datasets import load_metric\n",
    "metric = load_metric(\"rouge\")\n",
    "\n",
    "import pprint\n",
    "import pickle \n",
    "# !python -m spacy download en_core_web_md\n",
    "# !pip install -U spacy[cuda92]\n",
    "# !pip install spacy-language-detection\n",
    "# !pip install spacy_fastlang\n",
    "from google.colab import drive\n",
    "drive.mount('/content/drive')\n",
    "data_dir = '/content/drive/MyDrive/NLP/Ass3/'\n",
    "\n",
    "# #Reading the Dataset\n",
    "# # article_df = pd.read_csv(data_dir + 'md_pmc_covid_articles.csv')\n",
    "# article_df = pd.read_csv(data_dir + 'pmc_covid_articles.csv')\n",
    "# #removing repeated index column\n",
    "# article_df = article_df.drop(['Unnamed: 0'], axis=1)\n",
    "# # # # article_df.head(5)\n",
    "# proc_article_df = pd.read_csv(data_dir + 'Processed_covid_articles.csv')\n",
    "# #removing repeated index column\n",
    "# proc_article_df = proc_article_df.drop(['Unnamed: 0'], axis=1)"
   ]
  },
  {
   "cell_type": "markdown",
   "id": "ipsXdIf4xbDS",
   "metadata": {
    "id": "ipsXdIf4xbDS"
   },
   "source": [
    "Dataset was filtered and 10,000 articles were extracted using kaggle notebook which can be found at : https://www.kaggle.com/code/neilanu1702/nlp-covid19-preprocess-neil"
   ]
  },
  {
   "cell_type": "code",
   "execution_count": null,
   "id": "NcsqXFQ4Y887",
   "metadata": {
    "id": "NcsqXFQ4Y887"
   },
   "outputs": [],
   "source": [
    "#Reading the Dataset\n",
    "article_df = pd.read_csv(data_dir + 'pmc_covid_articles.csv')\n",
    "#removing repeated index column\n",
    "article_df = article_df.drop(['Unnamed: 0'], axis=1)"
   ]
  },
  {
   "cell_type": "code",
   "execution_count": null,
   "id": "761625b5",
   "metadata": {
    "colab": {
     "base_uri": "https://localhost:8080/"
    },
    "id": "761625b5",
    "outputId": "63085057-b296-430f-ceda-ff04977640a1"
   },
   "outputs": [
    {
     "name": "stderr",
     "output_type": "stream",
     "text": [
      "Warning : `load_model` does not return WordVectorModel or SupervisedModel any more, but a `FastText` object which is very similar.\n"
     ]
    },
    {
     "data": {
      "text/plain": [
       "<spacy_fastlang.LanguageDetector at 0x7f75a91afbe0>"
      ]
     },
     "execution_count": 2,
     "metadata": {},
     "output_type": "execute_result"
    }
   ],
   "source": [
    "# !pip install spacy_fastlang\n",
    "# import spacy_fastlang\n",
    "lang_detect = spacy.load(\"en_core_web_sm\")\n",
    "lang_detect.add_pipe('language_detector')"
   ]
  },
  {
   "cell_type": "code",
   "execution_count": null,
   "id": "a703f12f",
   "metadata": {
    "colab": {
     "base_uri": "https://localhost:8080/",
     "height": 319
    },
    "id": "a703f12f",
    "outputId": "ba268c0c-f145-4e6e-d425-d848aea8a711"
   },
   "outputs": [
    {
     "data": {
      "text/html": [
       "\n",
       "  <div id=\"df-919a47c0-ba9c-4a13-ad08-4085ef8392d6\">\n",
       "    <div class=\"colab-df-container\">\n",
       "      <div>\n",
       "<style scoped>\n",
       "    .dataframe tbody tr th:only-of-type {\n",
       "        vertical-align: middle;\n",
       "    }\n",
       "\n",
       "    .dataframe tbody tr th {\n",
       "        vertical-align: top;\n",
       "    }\n",
       "\n",
       "    .dataframe thead th {\n",
       "        text-align: right;\n",
       "    }\n",
       "</style>\n",
       "<table border=\"1\" class=\"dataframe\">\n",
       "  <thead>\n",
       "    <tr style=\"text-align: right;\">\n",
       "      <th></th>\n",
       "      <th>paper_id</th>\n",
       "      <th>body_text</th>\n",
       "      <th>authors</th>\n",
       "      <th>title</th>\n",
       "      <th>abstract</th>\n",
       "    </tr>\n",
       "  </thead>\n",
       "  <tbody>\n",
       "    <tr>\n",
       "      <th>0</th>\n",
       "      <td>PMC8524215</td>\n",
       "      <td>Cancer is the most prevalent cause of mortalit...</td>\n",
       "      <td>['Muhammad  Sufyan ', 'Farah  Shahid ', 'Faiza...</td>\n",
       "      <td>Implementation of Vaccinomics and In-Silico Ap...</td>\n",
       "      <td>68591    One of the most common gynecologic ca...</td>\n",
       "    </tr>\n",
       "    <tr>\n",
       "      <th>1</th>\n",
       "      <td>PMC7698314</td>\n",
       "      <td>SARS-CoV-2, the virus responsible for COVID-19...</td>\n",
       "      <td>['Enrique  Casalino ', 'Christophe  Choquet ',...</td>\n",
       "      <td>Analysis of Emergency Department Visits and Ho...</td>\n",
       "      <td>813557    ED-visits and through-ED admissions ...</td>\n",
       "    </tr>\n",
       "    <tr>\n",
       "      <th>2</th>\n",
       "      <td>PMC8050998</td>\n",
       "      <td>Artificial intelligence (AI) is a methodology ...</td>\n",
       "      <td>['Martina  Gurgitano ', 'Salvatore Alessio Ang...</td>\n",
       "      <td>Interventional Radiology ex-machina: impact of...</td>\n",
       "      <td>757155    Artificial intelligence (AI) is a br...</td>\n",
       "    </tr>\n",
       "    <tr>\n",
       "      <th>3</th>\n",
       "      <td>PMC7581283</td>\n",
       "      <td>A common feature of most patients admitted wit...</td>\n",
       "      <td>['Ejvind Frausing Hansen ', 'Charlotte Sandau ...</td>\n",
       "      <td>Automatic oxygen titration with O2matic® to pa...</td>\n",
       "      <td>942009    INTRODUCTION: Patients with coronavi...</td>\n",
       "    </tr>\n",
       "    <tr>\n",
       "      <th>4</th>\n",
       "      <td>PMC7392455</td>\n",
       "      <td>Coronavirus disease (COVID-19), caused by seve...</td>\n",
       "      <td>['Daniel O. Griffin ', 'Alexandra  Jensen ', '...</td>\n",
       "      <td>Pulmonary Embolism and Increased Levels of d-D...</td>\n",
       "      <td>843714    We report 3 patients with coronaviru...</td>\n",
       "    </tr>\n",
       "  </tbody>\n",
       "</table>\n",
       "</div>\n",
       "      <button class=\"colab-df-convert\" onclick=\"convertToInteractive('df-919a47c0-ba9c-4a13-ad08-4085ef8392d6')\"\n",
       "              title=\"Convert this dataframe to an interactive table.\"\n",
       "              style=\"display:none;\">\n",
       "        \n",
       "  <svg xmlns=\"http://www.w3.org/2000/svg\" height=\"24px\"viewBox=\"0 0 24 24\"\n",
       "       width=\"24px\">\n",
       "    <path d=\"M0 0h24v24H0V0z\" fill=\"none\"/>\n",
       "    <path d=\"M18.56 5.44l.94 2.06.94-2.06 2.06-.94-2.06-.94-.94-2.06-.94 2.06-2.06.94zm-11 1L8.5 8.5l.94-2.06 2.06-.94-2.06-.94L8.5 2.5l-.94 2.06-2.06.94zm10 10l.94 2.06.94-2.06 2.06-.94-2.06-.94-.94-2.06-.94 2.06-2.06.94z\"/><path d=\"M17.41 7.96l-1.37-1.37c-.4-.4-.92-.59-1.43-.59-.52 0-1.04.2-1.43.59L10.3 9.45l-7.72 7.72c-.78.78-.78 2.05 0 2.83L4 21.41c.39.39.9.59 1.41.59.51 0 1.02-.2 1.41-.59l7.78-7.78 2.81-2.81c.8-.78.8-2.07 0-2.86zM5.41 20L4 18.59l7.72-7.72 1.47 1.35L5.41 20z\"/>\n",
       "  </svg>\n",
       "      </button>\n",
       "      \n",
       "  <style>\n",
       "    .colab-df-container {\n",
       "      display:flex;\n",
       "      flex-wrap:wrap;\n",
       "      gap: 12px;\n",
       "    }\n",
       "\n",
       "    .colab-df-convert {\n",
       "      background-color: #E8F0FE;\n",
       "      border: none;\n",
       "      border-radius: 50%;\n",
       "      cursor: pointer;\n",
       "      display: none;\n",
       "      fill: #1967D2;\n",
       "      height: 32px;\n",
       "      padding: 0 0 0 0;\n",
       "      width: 32px;\n",
       "    }\n",
       "\n",
       "    .colab-df-convert:hover {\n",
       "      background-color: #E2EBFA;\n",
       "      box-shadow: 0px 1px 2px rgba(60, 64, 67, 0.3), 0px 1px 3px 1px rgba(60, 64, 67, 0.15);\n",
       "      fill: #174EA6;\n",
       "    }\n",
       "\n",
       "    [theme=dark] .colab-df-convert {\n",
       "      background-color: #3B4455;\n",
       "      fill: #D2E3FC;\n",
       "    }\n",
       "\n",
       "    [theme=dark] .colab-df-convert:hover {\n",
       "      background-color: #434B5C;\n",
       "      box-shadow: 0px 1px 3px 1px rgba(0, 0, 0, 0.15);\n",
       "      filter: drop-shadow(0px 1px 2px rgba(0, 0, 0, 0.3));\n",
       "      fill: #FFFFFF;\n",
       "    }\n",
       "  </style>\n",
       "\n",
       "      <script>\n",
       "        const buttonEl =\n",
       "          document.querySelector('#df-919a47c0-ba9c-4a13-ad08-4085ef8392d6 button.colab-df-convert');\n",
       "        buttonEl.style.display =\n",
       "          google.colab.kernel.accessAllowed ? 'block' : 'none';\n",
       "\n",
       "        async function convertToInteractive(key) {\n",
       "          const element = document.querySelector('#df-919a47c0-ba9c-4a13-ad08-4085ef8392d6');\n",
       "          const dataTable =\n",
       "            await google.colab.kernel.invokeFunction('convertToInteractive',\n",
       "                                                     [key], {});\n",
       "          if (!dataTable) return;\n",
       "\n",
       "          const docLinkHtml = 'Like what you see? Visit the ' +\n",
       "            '<a target=\"_blank\" href=https://colab.research.google.com/notebooks/data_table.ipynb>data table notebook</a>'\n",
       "            + ' to learn more about interactive tables.';\n",
       "          element.innerHTML = '';\n",
       "          dataTable['output_type'] = 'display_data';\n",
       "          await google.colab.output.renderOutput(dataTable, element);\n",
       "          const docLink = document.createElement('div');\n",
       "          docLink.innerHTML = docLinkHtml;\n",
       "          element.appendChild(docLink);\n",
       "        }\n",
       "      </script>\n",
       "    </div>\n",
       "  </div>\n",
       "  "
      ],
      "text/plain": [
       "     paper_id                                          body_text  \\\n",
       "0  PMC8524215  Cancer is the most prevalent cause of mortalit...   \n",
       "1  PMC7698314  SARS-CoV-2, the virus responsible for COVID-19...   \n",
       "2  PMC8050998  Artificial intelligence (AI) is a methodology ...   \n",
       "3  PMC7581283  A common feature of most patients admitted wit...   \n",
       "4  PMC7392455  Coronavirus disease (COVID-19), caused by seve...   \n",
       "\n",
       "                                             authors  \\\n",
       "0  ['Muhammad  Sufyan ', 'Farah  Shahid ', 'Faiza...   \n",
       "1  ['Enrique  Casalino ', 'Christophe  Choquet ',...   \n",
       "2  ['Martina  Gurgitano ', 'Salvatore Alessio Ang...   \n",
       "3  ['Ejvind Frausing Hansen ', 'Charlotte Sandau ...   \n",
       "4  ['Daniel O. Griffin ', 'Alexandra  Jensen ', '...   \n",
       "\n",
       "                                               title  \\\n",
       "0  Implementation of Vaccinomics and In-Silico Ap...   \n",
       "1  Analysis of Emergency Department Visits and Ho...   \n",
       "2  Interventional Radiology ex-machina: impact of...   \n",
       "3  Automatic oxygen titration with O2matic® to pa...   \n",
       "4  Pulmonary Embolism and Increased Levels of d-D...   \n",
       "\n",
       "                                            abstract  \n",
       "0  68591    One of the most common gynecologic ca...  \n",
       "1  813557    ED-visits and through-ED admissions ...  \n",
       "2  757155    Artificial intelligence (AI) is a br...  \n",
       "3  942009    INTRODUCTION: Patients with coronavi...  \n",
       "4  843714    We report 3 patients with coronaviru...  "
      ]
     },
     "execution_count": 3,
     "metadata": {},
     "output_type": "execute_result"
    }
   ],
   "source": [
    "article_df.head()"
   ]
  },
  {
   "cell_type": "code",
   "execution_count": null,
   "id": "78f93346",
   "metadata": {
    "colab": {
     "base_uri": "https://localhost:8080/"
    },
    "id": "78f93346",
    "outputId": "4536ce78-3b54-4e9d-ce59-e2f6198fe952"
   },
   "outputs": [
    {
     "name": "stdout",
     "output_type": "stream",
     "text": [
      "['en' 'lv' 'es' 'de' 'fr' 'cs' 'zh' 'lt' 'nl' 'it' 'pt' 'oc' 'id' 'sl'\n",
      " 'th' 'ms' 'ar' 'fi' 'ca' 'ja' 'la' 'sr' 'pl']\n"
     ]
    }
   ],
   "source": [
    "#Detecting Articles of different Languages in our Datset\n",
    "article_df['Language'] = [lang_detect(i)._.language for i in article_df['title']]\n",
    "print(article_df['Language'].unique())"
   ]
  },
  {
   "cell_type": "code",
   "execution_count": null,
   "id": "44bc4062",
   "metadata": {
    "colab": {
     "base_uri": "https://localhost:8080/"
    },
    "id": "44bc4062",
    "outputId": "b6c5cf2c-5476-4434-8b7c-34457ad57ad2"
   },
   "outputs": [
    {
     "name": "stdout",
     "output_type": "stream",
     "text": [
      "['en']\n"
     ]
    }
   ],
   "source": [
    "#Filtering and considering only english articles \n",
    "fltr_article_df = article_df[article_df['Language'] == 'en']\n",
    "print(fltr_article_df['Language'].unique())"
   ]
  },
  {
   "cell_type": "code",
   "execution_count": null,
   "id": "98990d4f",
   "metadata": {
    "colab": {
     "base_uri": "https://localhost:8080/",
     "height": 337
    },
    "id": "98990d4f",
    "outputId": "d2df6734-41f5-457d-bbbe-d445672c7630"
   },
   "outputs": [
    {
     "data": {
      "text/html": [
       "\n",
       "  <div id=\"df-639a35ae-40e6-42ea-bb8f-72585c8520c3\">\n",
       "    <div class=\"colab-df-container\">\n",
       "      <div>\n",
       "<style scoped>\n",
       "    .dataframe tbody tr th:only-of-type {\n",
       "        vertical-align: middle;\n",
       "    }\n",
       "\n",
       "    .dataframe tbody tr th {\n",
       "        vertical-align: top;\n",
       "    }\n",
       "\n",
       "    .dataframe thead th {\n",
       "        text-align: right;\n",
       "    }\n",
       "</style>\n",
       "<table border=\"1\" class=\"dataframe\">\n",
       "  <thead>\n",
       "    <tr style=\"text-align: right;\">\n",
       "      <th></th>\n",
       "      <th>paper_id</th>\n",
       "      <th>body_text</th>\n",
       "      <th>authors</th>\n",
       "      <th>title</th>\n",
       "      <th>abstract</th>\n",
       "      <th>Language</th>\n",
       "    </tr>\n",
       "  </thead>\n",
       "  <tbody>\n",
       "    <tr>\n",
       "      <th>0</th>\n",
       "      <td>PMC8524215</td>\n",
       "      <td>Cancer is the most prevalent cause of mortalit...</td>\n",
       "      <td>['Muhammad  Sufyan ', 'Farah  Shahid ', 'Faiza...</td>\n",
       "      <td>Implementation of Vaccinomics and In-Silico Ap...</td>\n",
       "      <td>68591    One of the most common gynecologic ca...</td>\n",
       "      <td>en</td>\n",
       "    </tr>\n",
       "    <tr>\n",
       "      <th>1</th>\n",
       "      <td>PMC7698314</td>\n",
       "      <td>SARS-CoV-2, the virus responsible for COVID-19...</td>\n",
       "      <td>['Enrique  Casalino ', 'Christophe  Choquet ',...</td>\n",
       "      <td>Analysis of Emergency Department Visits and Ho...</td>\n",
       "      <td>813557    ED-visits and through-ED admissions ...</td>\n",
       "      <td>en</td>\n",
       "    </tr>\n",
       "    <tr>\n",
       "      <th>2</th>\n",
       "      <td>PMC8050998</td>\n",
       "      <td>Artificial intelligence (AI) is a methodology ...</td>\n",
       "      <td>['Martina  Gurgitano ', 'Salvatore Alessio Ang...</td>\n",
       "      <td>Interventional Radiology ex-machina: impact of...</td>\n",
       "      <td>757155    Artificial intelligence (AI) is a br...</td>\n",
       "      <td>en</td>\n",
       "    </tr>\n",
       "    <tr>\n",
       "      <th>3</th>\n",
       "      <td>PMC7581283</td>\n",
       "      <td>A common feature of most patients admitted wit...</td>\n",
       "      <td>['Ejvind Frausing Hansen ', 'Charlotte Sandau ...</td>\n",
       "      <td>Automatic oxygen titration with O2matic® to pa...</td>\n",
       "      <td>942009    INTRODUCTION: Patients with coronavi...</td>\n",
       "      <td>en</td>\n",
       "    </tr>\n",
       "    <tr>\n",
       "      <th>4</th>\n",
       "      <td>PMC7392455</td>\n",
       "      <td>Coronavirus disease (COVID-19), caused by seve...</td>\n",
       "      <td>['Daniel O. Griffin ', 'Alexandra  Jensen ', '...</td>\n",
       "      <td>Pulmonary Embolism and Increased Levels of d-D...</td>\n",
       "      <td>843714    We report 3 patients with coronaviru...</td>\n",
       "      <td>en</td>\n",
       "    </tr>\n",
       "  </tbody>\n",
       "</table>\n",
       "</div>\n",
       "      <button class=\"colab-df-convert\" onclick=\"convertToInteractive('df-639a35ae-40e6-42ea-bb8f-72585c8520c3')\"\n",
       "              title=\"Convert this dataframe to an interactive table.\"\n",
       "              style=\"display:none;\">\n",
       "        \n",
       "  <svg xmlns=\"http://www.w3.org/2000/svg\" height=\"24px\"viewBox=\"0 0 24 24\"\n",
       "       width=\"24px\">\n",
       "    <path d=\"M0 0h24v24H0V0z\" fill=\"none\"/>\n",
       "    <path d=\"M18.56 5.44l.94 2.06.94-2.06 2.06-.94-2.06-.94-.94-2.06-.94 2.06-2.06.94zm-11 1L8.5 8.5l.94-2.06 2.06-.94-2.06-.94L8.5 2.5l-.94 2.06-2.06.94zm10 10l.94 2.06.94-2.06 2.06-.94-2.06-.94-.94-2.06-.94 2.06-2.06.94z\"/><path d=\"M17.41 7.96l-1.37-1.37c-.4-.4-.92-.59-1.43-.59-.52 0-1.04.2-1.43.59L10.3 9.45l-7.72 7.72c-.78.78-.78 2.05 0 2.83L4 21.41c.39.39.9.59 1.41.59.51 0 1.02-.2 1.41-.59l7.78-7.78 2.81-2.81c.8-.78.8-2.07 0-2.86zM5.41 20L4 18.59l7.72-7.72 1.47 1.35L5.41 20z\"/>\n",
       "  </svg>\n",
       "      </button>\n",
       "      \n",
       "  <style>\n",
       "    .colab-df-container {\n",
       "      display:flex;\n",
       "      flex-wrap:wrap;\n",
       "      gap: 12px;\n",
       "    }\n",
       "\n",
       "    .colab-df-convert {\n",
       "      background-color: #E8F0FE;\n",
       "      border: none;\n",
       "      border-radius: 50%;\n",
       "      cursor: pointer;\n",
       "      display: none;\n",
       "      fill: #1967D2;\n",
       "      height: 32px;\n",
       "      padding: 0 0 0 0;\n",
       "      width: 32px;\n",
       "    }\n",
       "\n",
       "    .colab-df-convert:hover {\n",
       "      background-color: #E2EBFA;\n",
       "      box-shadow: 0px 1px 2px rgba(60, 64, 67, 0.3), 0px 1px 3px 1px rgba(60, 64, 67, 0.15);\n",
       "      fill: #174EA6;\n",
       "    }\n",
       "\n",
       "    [theme=dark] .colab-df-convert {\n",
       "      background-color: #3B4455;\n",
       "      fill: #D2E3FC;\n",
       "    }\n",
       "\n",
       "    [theme=dark] .colab-df-convert:hover {\n",
       "      background-color: #434B5C;\n",
       "      box-shadow: 0px 1px 3px 1px rgba(0, 0, 0, 0.15);\n",
       "      filter: drop-shadow(0px 1px 2px rgba(0, 0, 0, 0.3));\n",
       "      fill: #FFFFFF;\n",
       "    }\n",
       "  </style>\n",
       "\n",
       "      <script>\n",
       "        const buttonEl =\n",
       "          document.querySelector('#df-639a35ae-40e6-42ea-bb8f-72585c8520c3 button.colab-df-convert');\n",
       "        buttonEl.style.display =\n",
       "          google.colab.kernel.accessAllowed ? 'block' : 'none';\n",
       "\n",
       "        async function convertToInteractive(key) {\n",
       "          const element = document.querySelector('#df-639a35ae-40e6-42ea-bb8f-72585c8520c3');\n",
       "          const dataTable =\n",
       "            await google.colab.kernel.invokeFunction('convertToInteractive',\n",
       "                                                     [key], {});\n",
       "          if (!dataTable) return;\n",
       "\n",
       "          const docLinkHtml = 'Like what you see? Visit the ' +\n",
       "            '<a target=\"_blank\" href=https://colab.research.google.com/notebooks/data_table.ipynb>data table notebook</a>'\n",
       "            + ' to learn more about interactive tables.';\n",
       "          element.innerHTML = '';\n",
       "          dataTable['output_type'] = 'display_data';\n",
       "          await google.colab.output.renderOutput(dataTable, element);\n",
       "          const docLink = document.createElement('div');\n",
       "          docLink.innerHTML = docLinkHtml;\n",
       "          element.appendChild(docLink);\n",
       "        }\n",
       "      </script>\n",
       "    </div>\n",
       "  </div>\n",
       "  "
      ],
      "text/plain": [
       "     paper_id                                          body_text  \\\n",
       "0  PMC8524215  Cancer is the most prevalent cause of mortalit...   \n",
       "1  PMC7698314  SARS-CoV-2, the virus responsible for COVID-19...   \n",
       "2  PMC8050998  Artificial intelligence (AI) is a methodology ...   \n",
       "3  PMC7581283  A common feature of most patients admitted wit...   \n",
       "4  PMC7392455  Coronavirus disease (COVID-19), caused by seve...   \n",
       "\n",
       "                                             authors  \\\n",
       "0  ['Muhammad  Sufyan ', 'Farah  Shahid ', 'Faiza...   \n",
       "1  ['Enrique  Casalino ', 'Christophe  Choquet ',...   \n",
       "2  ['Martina  Gurgitano ', 'Salvatore Alessio Ang...   \n",
       "3  ['Ejvind Frausing Hansen ', 'Charlotte Sandau ...   \n",
       "4  ['Daniel O. Griffin ', 'Alexandra  Jensen ', '...   \n",
       "\n",
       "                                               title  \\\n",
       "0  Implementation of Vaccinomics and In-Silico Ap...   \n",
       "1  Analysis of Emergency Department Visits and Ho...   \n",
       "2  Interventional Radiology ex-machina: impact of...   \n",
       "3  Automatic oxygen titration with O2matic® to pa...   \n",
       "4  Pulmonary Embolism and Increased Levels of d-D...   \n",
       "\n",
       "                                            abstract Language  \n",
       "0  68591    One of the most common gynecologic ca...       en  \n",
       "1  813557    ED-visits and through-ED admissions ...       en  \n",
       "2  757155    Artificial intelligence (AI) is a br...       en  \n",
       "3  942009    INTRODUCTION: Patients with coronavi...       en  \n",
       "4  843714    We report 3 patients with coronaviru...       en  "
      ]
     },
     "execution_count": 6,
     "metadata": {},
     "output_type": "execute_result"
    }
   ],
   "source": [
    "fltr_article_df.head()"
   ]
  },
  {
   "cell_type": "code",
   "execution_count": null,
   "id": "a811f263",
   "metadata": {
    "id": "a811f263"
   },
   "outputs": [],
   "source": [
    "#Now Considering only 4500 articles for our system\n",
    "fltr_article_df = fltr_article_df[0:4500]"
   ]
  },
  {
   "cell_type": "code",
   "execution_count": null,
   "id": "98751c60",
   "metadata": {
    "colab": {
     "base_uri": "https://localhost:8080/"
    },
    "id": "98751c60",
    "outputId": "026f1e17-414b-4ad0-c2af-2242bb3a22d6"
   },
   "outputs": [
    {
     "name": "stdout",
     "output_type": "stream",
     "text": [
      "<class 'pandas.core.frame.DataFrame'>\n",
      "Int64Index: 4500 entries, 0 to 4614\n",
      "Data columns (total 6 columns):\n",
      " #   Column     Non-Null Count  Dtype \n",
      "---  ------     --------------  ----- \n",
      " 0   paper_id   4500 non-null   object\n",
      " 1   body_text  4500 non-null   object\n",
      " 2   authors    4500 non-null   object\n",
      " 3   title      4500 non-null   object\n",
      " 4   abstract   4500 non-null   object\n",
      " 5   Language   4500 non-null   object\n",
      "dtypes: object(6)\n",
      "memory usage: 246.1+ KB\n"
     ]
    }
   ],
   "source": [
    "fltr_article_df.info()\n"
   ]
  },
  {
   "cell_type": "markdown",
   "id": "2242c50f",
   "metadata": {
    "id": "2242c50f"
   },
   "source": [
    "#### Exploring the Processed Data\n",
    "Upon exploring the unique words in our processed Body text for 10,000 articles we found 'et','al','1','2' as highly freqeunt , BUt these words can be considered as noise since they porvide no informational value, to remove these Stop words was updated to include and filter these<br/>\n",
    "Most frequent word as appearing in the articles is 'patient'."
   ]
  },
  {
   "cell_type": "code",
   "execution_count": null,
   "id": "7d77f455",
   "metadata": {
    "id": "7d77f455"
   },
   "outputs": [],
   "source": [
    "def preprocess(text,flag=0):\n",
    "\n",
    "    # define regular expressions for common citation styles\n",
    "    apa_regex = r\"\\(\\d{4}\\)\"\n",
    "    mla_regex = r\"\\(\\w+\\s\\d+\\)\"\n",
    "    ieee_regex = r\"\\[\\d+\\]\"\n",
    "\n",
    "    # define a regular expression to match references\n",
    "    ref_regex = r\"\\[\\d+\\]\"\n",
    "\n",
    "    #Remove punctuation and all non-alphanumaric characters\n",
    "    remove = string.punctuation.replace('.', '')\n",
    "    rm_punct = [line.translate(line.maketrans('', '', remove)) for line in text]\n",
    "\n",
    "    # remove APA-style citations\n",
    "    text = [re.sub(apa_regex, \"\", i)for i in rm_punct]\n",
    "\n",
    "    # remove MLA-style citations\n",
    "    text = [re.sub(mla_regex, \"\", i)for i in text]\n",
    "\n",
    "    # remove IEEE-style citations\n",
    "    text = [re.sub(ieee_regex, \"\", i)for i in text]\n",
    "\n",
    "    # remove references\n",
    "    text = [re.sub(ref_regex, \"\", i)for i in text]\n",
    "\n",
    "    # Tokenize the sentences\n",
    "    token_words = [word_tokenize(j) for j in text]\n",
    "\n",
    "    # #Remove all non-alphanumaric characters\n",
    "    # rm_nonalpha = [[re.sub(r'[^a-zA-Z0-9]','',i)for i in line ] for line in token_words]\n",
    "\n",
    "    #Remove Stop words\n",
    "   #  stop_words = set(stopwords.words('english'))\n",
    "    custom_stop_words = ['et','al','\"','’','“','”','usepackageamsfonts','usepackageamssymb','usepackageamsmath','usepackagewasysym',\n",
    " 'usepackageamsbsy','usepackagemathrsfs','usepackageupgreek','setlengthoddsidemargin69pt']\n",
    "    stop_words = set(stopwords.words('english') + custom_stop_words)\n",
    "    \n",
    "    rm_stp  = [[word for word in line if word.lower() not in stop_words]for line in token_words]\n",
    "\n",
    "    #Performing Lemmatization and lowering of words\n",
    "    text_ver3 = [[lemmatizer.lemmatize(word.lower()) for word in line]for line in rm_stp]\n",
    "\n",
    "    #Reconstructing into sentences\n",
    "    text_ver1 = [\" \".join(word) for word in text_ver3 if word != '']\n",
    "\n",
    "    return text_ver1"
   ]
  },
  {
   "cell_type": "code",
   "execution_count": null,
   "id": "e303563a",
   "metadata": {
    "colab": {
     "base_uri": "https://localhost:8080/",
     "height": 337
    },
    "id": "e303563a",
    "outputId": "e3307937-ca54-42ef-8604-bd5fa3c980ed"
   },
   "outputs": [
    {
     "data": {
      "text/html": [
       "\n",
       "  <div id=\"df-2e8b6868-8d60-49ed-bc58-47a1a81a9d6d\">\n",
       "    <div class=\"colab-df-container\">\n",
       "      <div>\n",
       "<style scoped>\n",
       "    .dataframe tbody tr th:only-of-type {\n",
       "        vertical-align: middle;\n",
       "    }\n",
       "\n",
       "    .dataframe tbody tr th {\n",
       "        vertical-align: top;\n",
       "    }\n",
       "\n",
       "    .dataframe thead th {\n",
       "        text-align: right;\n",
       "    }\n",
       "</style>\n",
       "<table border=\"1\" class=\"dataframe\">\n",
       "  <thead>\n",
       "    <tr style=\"text-align: right;\">\n",
       "      <th></th>\n",
       "      <th>paper_id</th>\n",
       "      <th>body_text</th>\n",
       "      <th>authors</th>\n",
       "      <th>title</th>\n",
       "      <th>abstract</th>\n",
       "      <th>Language</th>\n",
       "    </tr>\n",
       "  </thead>\n",
       "  <tbody>\n",
       "    <tr>\n",
       "      <th>0</th>\n",
       "      <td>PMC8524215</td>\n",
       "      <td>cancer prevalent cause mortality world common ...</td>\n",
       "      <td>['Muhammad  Sufyan ', 'Farah  Shahid ', 'Faiza...</td>\n",
       "      <td>Implementation of Vaccinomics and In-Silico Ap...</td>\n",
       "      <td>68591    One of the most common gynecologic ca...</td>\n",
       "      <td>en</td>\n",
       "    </tr>\n",
       "    <tr>\n",
       "      <th>1</th>\n",
       "      <td>PMC7698314</td>\n",
       "      <td>sarscov2 virus responsible covid19 disease fir...</td>\n",
       "      <td>['Enrique  Casalino ', 'Christophe  Choquet ',...</td>\n",
       "      <td>Analysis of Emergency Department Visits and Ho...</td>\n",
       "      <td>813557    ED-visits and through-ED admissions ...</td>\n",
       "      <td>en</td>\n",
       "    </tr>\n",
       "    <tr>\n",
       "      <th>2</th>\n",
       "      <td>PMC8050998</td>\n",
       "      <td>artificial intelligence ai methodology compute...</td>\n",
       "      <td>['Martina  Gurgitano ', 'Salvatore Alessio Ang...</td>\n",
       "      <td>Interventional Radiology ex-machina: impact of...</td>\n",
       "      <td>757155    Artificial intelligence (AI) is a br...</td>\n",
       "      <td>en</td>\n",
       "    </tr>\n",
       "    <tr>\n",
       "      <th>3</th>\n",
       "      <td>PMC7581283</td>\n",
       "      <td>common feature patient admitted coronavirus di...</td>\n",
       "      <td>['Ejvind Frausing Hansen ', 'Charlotte Sandau ...</td>\n",
       "      <td>Automatic oxygen titration with O2matic® to pa...</td>\n",
       "      <td>942009    INTRODUCTION: Patients with coronavi...</td>\n",
       "      <td>en</td>\n",
       "    </tr>\n",
       "    <tr>\n",
       "      <th>4</th>\n",
       "      <td>PMC7392455</td>\n",
       "      <td>coronavirus disease covid19 caused severe acut...</td>\n",
       "      <td>['Daniel O. Griffin ', 'Alexandra  Jensen ', '...</td>\n",
       "      <td>Pulmonary Embolism and Increased Levels of d-D...</td>\n",
       "      <td>843714    We report 3 patients with coronaviru...</td>\n",
       "      <td>en</td>\n",
       "    </tr>\n",
       "  </tbody>\n",
       "</table>\n",
       "</div>\n",
       "      <button class=\"colab-df-convert\" onclick=\"convertToInteractive('df-2e8b6868-8d60-49ed-bc58-47a1a81a9d6d')\"\n",
       "              title=\"Convert this dataframe to an interactive table.\"\n",
       "              style=\"display:none;\">\n",
       "        \n",
       "  <svg xmlns=\"http://www.w3.org/2000/svg\" height=\"24px\"viewBox=\"0 0 24 24\"\n",
       "       width=\"24px\">\n",
       "    <path d=\"M0 0h24v24H0V0z\" fill=\"none\"/>\n",
       "    <path d=\"M18.56 5.44l.94 2.06.94-2.06 2.06-.94-2.06-.94-.94-2.06-.94 2.06-2.06.94zm-11 1L8.5 8.5l.94-2.06 2.06-.94-2.06-.94L8.5 2.5l-.94 2.06-2.06.94zm10 10l.94 2.06.94-2.06 2.06-.94-2.06-.94-.94-2.06-.94 2.06-2.06.94z\"/><path d=\"M17.41 7.96l-1.37-1.37c-.4-.4-.92-.59-1.43-.59-.52 0-1.04.2-1.43.59L10.3 9.45l-7.72 7.72c-.78.78-.78 2.05 0 2.83L4 21.41c.39.39.9.59 1.41.59.51 0 1.02-.2 1.41-.59l7.78-7.78 2.81-2.81c.8-.78.8-2.07 0-2.86zM5.41 20L4 18.59l7.72-7.72 1.47 1.35L5.41 20z\"/>\n",
       "  </svg>\n",
       "      </button>\n",
       "      \n",
       "  <style>\n",
       "    .colab-df-container {\n",
       "      display:flex;\n",
       "      flex-wrap:wrap;\n",
       "      gap: 12px;\n",
       "    }\n",
       "\n",
       "    .colab-df-convert {\n",
       "      background-color: #E8F0FE;\n",
       "      border: none;\n",
       "      border-radius: 50%;\n",
       "      cursor: pointer;\n",
       "      display: none;\n",
       "      fill: #1967D2;\n",
       "      height: 32px;\n",
       "      padding: 0 0 0 0;\n",
       "      width: 32px;\n",
       "    }\n",
       "\n",
       "    .colab-df-convert:hover {\n",
       "      background-color: #E2EBFA;\n",
       "      box-shadow: 0px 1px 2px rgba(60, 64, 67, 0.3), 0px 1px 3px 1px rgba(60, 64, 67, 0.15);\n",
       "      fill: #174EA6;\n",
       "    }\n",
       "\n",
       "    [theme=dark] .colab-df-convert {\n",
       "      background-color: #3B4455;\n",
       "      fill: #D2E3FC;\n",
       "    }\n",
       "\n",
       "    [theme=dark] .colab-df-convert:hover {\n",
       "      background-color: #434B5C;\n",
       "      box-shadow: 0px 1px 3px 1px rgba(0, 0, 0, 0.15);\n",
       "      filter: drop-shadow(0px 1px 2px rgba(0, 0, 0, 0.3));\n",
       "      fill: #FFFFFF;\n",
       "    }\n",
       "  </style>\n",
       "\n",
       "      <script>\n",
       "        const buttonEl =\n",
       "          document.querySelector('#df-2e8b6868-8d60-49ed-bc58-47a1a81a9d6d button.colab-df-convert');\n",
       "        buttonEl.style.display =\n",
       "          google.colab.kernel.accessAllowed ? 'block' : 'none';\n",
       "\n",
       "        async function convertToInteractive(key) {\n",
       "          const element = document.querySelector('#df-2e8b6868-8d60-49ed-bc58-47a1a81a9d6d');\n",
       "          const dataTable =\n",
       "            await google.colab.kernel.invokeFunction('convertToInteractive',\n",
       "                                                     [key], {});\n",
       "          if (!dataTable) return;\n",
       "\n",
       "          const docLinkHtml = 'Like what you see? Visit the ' +\n",
       "            '<a target=\"_blank\" href=https://colab.research.google.com/notebooks/data_table.ipynb>data table notebook</a>'\n",
       "            + ' to learn more about interactive tables.';\n",
       "          element.innerHTML = '';\n",
       "          dataTable['output_type'] = 'display_data';\n",
       "          await google.colab.output.renderOutput(dataTable, element);\n",
       "          const docLink = document.createElement('div');\n",
       "          docLink.innerHTML = docLinkHtml;\n",
       "          element.appendChild(docLink);\n",
       "        }\n",
       "      </script>\n",
       "    </div>\n",
       "  </div>\n",
       "  "
      ],
      "text/plain": [
       "     paper_id                                          body_text  \\\n",
       "0  PMC8524215  cancer prevalent cause mortality world common ...   \n",
       "1  PMC7698314  sarscov2 virus responsible covid19 disease fir...   \n",
       "2  PMC8050998  artificial intelligence ai methodology compute...   \n",
       "3  PMC7581283  common feature patient admitted coronavirus di...   \n",
       "4  PMC7392455  coronavirus disease covid19 caused severe acut...   \n",
       "\n",
       "                                             authors  \\\n",
       "0  ['Muhammad  Sufyan ', 'Farah  Shahid ', 'Faiza...   \n",
       "1  ['Enrique  Casalino ', 'Christophe  Choquet ',...   \n",
       "2  ['Martina  Gurgitano ', 'Salvatore Alessio Ang...   \n",
       "3  ['Ejvind Frausing Hansen ', 'Charlotte Sandau ...   \n",
       "4  ['Daniel O. Griffin ', 'Alexandra  Jensen ', '...   \n",
       "\n",
       "                                               title  \\\n",
       "0  Implementation of Vaccinomics and In-Silico Ap...   \n",
       "1  Analysis of Emergency Department Visits and Ho...   \n",
       "2  Interventional Radiology ex-machina: impact of...   \n",
       "3  Automatic oxygen titration with O2matic® to pa...   \n",
       "4  Pulmonary Embolism and Increased Levels of d-D...   \n",
       "\n",
       "                                            abstract Language  \n",
       "0  68591    One of the most common gynecologic ca...       en  \n",
       "1  813557    ED-visits and through-ED admissions ...       en  \n",
       "2  757155    Artificial intelligence (AI) is a br...       en  \n",
       "3  942009    INTRODUCTION: Patients with coronavi...       en  \n",
       "4  843714    We report 3 patients with coronaviru...       en  "
      ]
     },
     "execution_count": 10,
     "metadata": {},
     "output_type": "execute_result"
    }
   ],
   "source": [
    "#Processing the Body_text and titles from the sampeled \n",
    "\n",
    "#Creating a new Dataframe with processed body and title \n",
    "proc_article_df = fltr_article_df.copy()\n",
    "proc_article_df['body_text'] = proc_bdy\n",
    "proc_article_df.head()\n",
    "\n",
    "#Storing the Datframe for later use\n",
    "# proc_article_df.to_csv(\"Processed_covid_articles.csv\")\n",
    "#Reading form Dataframe to save time\n",
    "# proc_article_df = pd.read_csv('Processed_covid_articles.csv')\n",
    "#removing repeated index column\n",
    "# proc_article_df = proc_article_df.drop(['Unnamed: 0'], axis=1)"
   ]
  },
  {
   "cell_type": "code",
   "execution_count": null,
   "id": "OEcCGOYu1_Zl",
   "metadata": {
    "colab": {
     "base_uri": "https://localhost:8080/",
     "height": 319
    },
    "id": "OEcCGOYu1_Zl",
    "outputId": "be94abee-b411-4eb9-bdee-4a34357dd4af"
   },
   "outputs": [
    {
     "data": {
      "text/html": [
       "\n",
       "  <div id=\"df-94a18a29-b2cb-4399-af18-50ea9ecf1163\">\n",
       "    <div class=\"colab-df-container\">\n",
       "      <div>\n",
       "<style scoped>\n",
       "    .dataframe tbody tr th:only-of-type {\n",
       "        vertical-align: middle;\n",
       "    }\n",
       "\n",
       "    .dataframe tbody tr th {\n",
       "        vertical-align: top;\n",
       "    }\n",
       "\n",
       "    .dataframe thead th {\n",
       "        text-align: right;\n",
       "    }\n",
       "</style>\n",
       "<table border=\"1\" class=\"dataframe\">\n",
       "  <thead>\n",
       "    <tr style=\"text-align: right;\">\n",
       "      <th></th>\n",
       "      <th>paper_id</th>\n",
       "      <th>body_text</th>\n",
       "      <th>authors</th>\n",
       "      <th>title</th>\n",
       "      <th>abstract</th>\n",
       "    </tr>\n",
       "  </thead>\n",
       "  <tbody>\n",
       "    <tr>\n",
       "      <th>0</th>\n",
       "      <td>PMC8524215</td>\n",
       "      <td>Cancer is the most prevalent cause of mortalit...</td>\n",
       "      <td>['Muhammad  Sufyan ', 'Farah  Shahid ', 'Faiza...</td>\n",
       "      <td>Implementation of Vaccinomics and In-Silico Ap...</td>\n",
       "      <td>One of the most common gynecologic cancers is ...</td>\n",
       "    </tr>\n",
       "    <tr>\n",
       "      <th>1</th>\n",
       "      <td>PMC7698314</td>\n",
       "      <td>SARS-CoV-2, the virus responsible for COVID-19...</td>\n",
       "      <td>['Enrique  Casalino ', 'Christophe  Choquet ',...</td>\n",
       "      <td>Analysis of Emergency Department Visits and Ho...</td>\n",
       "      <td>ED-visits and through-ED admissions to medical...</td>\n",
       "    </tr>\n",
       "    <tr>\n",
       "      <th>2</th>\n",
       "      <td>PMC8050998</td>\n",
       "      <td>Artificial intelligence (AI) is a methodology ...</td>\n",
       "      <td>['Martina  Gurgitano ', 'Salvatore Alessio Ang...</td>\n",
       "      <td>Interventional Radiology ex-machina: impact of...</td>\n",
       "      <td>Artificial intelligence (AI) is a branch of In...</td>\n",
       "    </tr>\n",
       "    <tr>\n",
       "      <th>3</th>\n",
       "      <td>PMC7581283</td>\n",
       "      <td>A common feature of most patients admitted wit...</td>\n",
       "      <td>['Ejvind Frausing Hansen ', 'Charlotte Sandau ...</td>\n",
       "      <td>Automatic oxygen titration with O2matic® to pa...</td>\n",
       "      <td>INTRODUCTION: Patients with coronavirus diseas...</td>\n",
       "    </tr>\n",
       "    <tr>\n",
       "      <th>4</th>\n",
       "      <td>PMC7392455</td>\n",
       "      <td>Coronavirus disease (COVID-19), caused by seve...</td>\n",
       "      <td>['Daniel O. Griffin ', 'Alexandra  Jensen ', '...</td>\n",
       "      <td>Pulmonary Embolism and Increased Levels of d-D...</td>\n",
       "      <td>We report 3 patients with coronavirus disease ...</td>\n",
       "    </tr>\n",
       "  </tbody>\n",
       "</table>\n",
       "</div>\n",
       "      <button class=\"colab-df-convert\" onclick=\"convertToInteractive('df-94a18a29-b2cb-4399-af18-50ea9ecf1163')\"\n",
       "              title=\"Convert this dataframe to an interactive table.\"\n",
       "              style=\"display:none;\">\n",
       "        \n",
       "  <svg xmlns=\"http://www.w3.org/2000/svg\" height=\"24px\"viewBox=\"0 0 24 24\"\n",
       "       width=\"24px\">\n",
       "    <path d=\"M0 0h24v24H0V0z\" fill=\"none\"/>\n",
       "    <path d=\"M18.56 5.44l.94 2.06.94-2.06 2.06-.94-2.06-.94-.94-2.06-.94 2.06-2.06.94zm-11 1L8.5 8.5l.94-2.06 2.06-.94-2.06-.94L8.5 2.5l-.94 2.06-2.06.94zm10 10l.94 2.06.94-2.06 2.06-.94-2.06-.94-.94-2.06-.94 2.06-2.06.94z\"/><path d=\"M17.41 7.96l-1.37-1.37c-.4-.4-.92-.59-1.43-.59-.52 0-1.04.2-1.43.59L10.3 9.45l-7.72 7.72c-.78.78-.78 2.05 0 2.83L4 21.41c.39.39.9.59 1.41.59.51 0 1.02-.2 1.41-.59l7.78-7.78 2.81-2.81c.8-.78.8-2.07 0-2.86zM5.41 20L4 18.59l7.72-7.72 1.47 1.35L5.41 20z\"/>\n",
       "  </svg>\n",
       "      </button>\n",
       "      \n",
       "  <style>\n",
       "    .colab-df-container {\n",
       "      display:flex;\n",
       "      flex-wrap:wrap;\n",
       "      gap: 12px;\n",
       "    }\n",
       "\n",
       "    .colab-df-convert {\n",
       "      background-color: #E8F0FE;\n",
       "      border: none;\n",
       "      border-radius: 50%;\n",
       "      cursor: pointer;\n",
       "      display: none;\n",
       "      fill: #1967D2;\n",
       "      height: 32px;\n",
       "      padding: 0 0 0 0;\n",
       "      width: 32px;\n",
       "    }\n",
       "\n",
       "    .colab-df-convert:hover {\n",
       "      background-color: #E2EBFA;\n",
       "      box-shadow: 0px 1px 2px rgba(60, 64, 67, 0.3), 0px 1px 3px 1px rgba(60, 64, 67, 0.15);\n",
       "      fill: #174EA6;\n",
       "    }\n",
       "\n",
       "    [theme=dark] .colab-df-convert {\n",
       "      background-color: #3B4455;\n",
       "      fill: #D2E3FC;\n",
       "    }\n",
       "\n",
       "    [theme=dark] .colab-df-convert:hover {\n",
       "      background-color: #434B5C;\n",
       "      box-shadow: 0px 1px 3px 1px rgba(0, 0, 0, 0.15);\n",
       "      filter: drop-shadow(0px 1px 2px rgba(0, 0, 0, 0.3));\n",
       "      fill: #FFFFFF;\n",
       "    }\n",
       "  </style>\n",
       "\n",
       "      <script>\n",
       "        const buttonEl =\n",
       "          document.querySelector('#df-94a18a29-b2cb-4399-af18-50ea9ecf1163 button.colab-df-convert');\n",
       "        buttonEl.style.display =\n",
       "          google.colab.kernel.accessAllowed ? 'block' : 'none';\n",
       "\n",
       "        async function convertToInteractive(key) {\n",
       "          const element = document.querySelector('#df-94a18a29-b2cb-4399-af18-50ea9ecf1163');\n",
       "          const dataTable =\n",
       "            await google.colab.kernel.invokeFunction('convertToInteractive',\n",
       "                                                     [key], {});\n",
       "          if (!dataTable) return;\n",
       "\n",
       "          const docLinkHtml = 'Like what you see? Visit the ' +\n",
       "            '<a target=\"_blank\" href=https://colab.research.google.com/notebooks/data_table.ipynb>data table notebook</a>'\n",
       "            + ' to learn more about interactive tables.';\n",
       "          element.innerHTML = '';\n",
       "          dataTable['output_type'] = 'display_data';\n",
       "          await google.colab.output.renderOutput(dataTable, element);\n",
       "          const docLink = document.createElement('div');\n",
       "          docLink.innerHTML = docLinkHtml;\n",
       "          element.appendChild(docLink);\n",
       "        }\n",
       "      </script>\n",
       "    </div>\n",
       "  </div>\n",
       "  "
      ],
      "text/plain": [
       "     paper_id                                          body_text  \\\n",
       "0  PMC8524215  Cancer is the most prevalent cause of mortalit...   \n",
       "1  PMC7698314  SARS-CoV-2, the virus responsible for COVID-19...   \n",
       "2  PMC8050998  Artificial intelligence (AI) is a methodology ...   \n",
       "3  PMC7581283  A common feature of most patients admitted wit...   \n",
       "4  PMC7392455  Coronavirus disease (COVID-19), caused by seve...   \n",
       "\n",
       "                                             authors  \\\n",
       "0  ['Muhammad  Sufyan ', 'Farah  Shahid ', 'Faiza...   \n",
       "1  ['Enrique  Casalino ', 'Christophe  Choquet ',...   \n",
       "2  ['Martina  Gurgitano ', 'Salvatore Alessio Ang...   \n",
       "3  ['Ejvind Frausing Hansen ', 'Charlotte Sandau ...   \n",
       "4  ['Daniel O. Griffin ', 'Alexandra  Jensen ', '...   \n",
       "\n",
       "                                               title  \\\n",
       "0  Implementation of Vaccinomics and In-Silico Ap...   \n",
       "1  Analysis of Emergency Department Visits and Ho...   \n",
       "2  Interventional Radiology ex-machina: impact of...   \n",
       "3  Automatic oxygen titration with O2matic® to pa...   \n",
       "4  Pulmonary Embolism and Increased Levels of d-D...   \n",
       "\n",
       "                                            abstract  \n",
       "0  One of the most common gynecologic cancers is ...  \n",
       "1  ED-visits and through-ED admissions to medical...  \n",
       "2  Artificial intelligence (AI) is a branch of In...  \n",
       "3  INTRODUCTION: Patients with coronavirus diseas...  \n",
       "4  We report 3 patients with coronavirus disease ...  "
      ]
     },
     "execution_count": 3,
     "metadata": {},
     "output_type": "execute_result"
    }
   ],
   "source": [
    "article_df.head()"
   ]
  },
  {
   "cell_type": "markdown",
   "id": "4ab5da96",
   "metadata": {
    "id": "4ab5da96"
   },
   "source": [
    "####  Pre-processing the Data\n",
    "\n",
    "* To process the data we remove citations and references\n",
    "* Using the reference provided below the Punctuation, Stop words were removed and words were Lemmatized.<br/>\n",
    "* Instead of keeping text as Bag of Words (BOW) the word tokens were then rejoined to form a single string representing the entire body text to reduce processing time for the text.<br/>\n",
    "* The above mentioned pre- processing steps are done in order to reduce the noise in the data and help us during the Named Entity Recognition part of the project, cleaning and processing the text helps in reducing time required for processing ad helps in reducing noise in the data. <br/>"
   ]
  },
  {
   "cell_type": "code",
   "execution_count": null,
   "id": "5ce89faf",
   "metadata": {
    "id": "5ce89faf"
   },
   "outputs": [],
   "source": [
    "#Showing Unique words in Processed Body text in all of articles\n",
    "def unique_dict(data):\n",
    "  uniqe_version = {}\n",
    "  for line in data:\n",
    "    split_ln  = line.split()\n",
    "    for j in split_ln :  \n",
    "      if j in uniqe_version.keys():\n",
    "          uniqe_version [ j ] += 1\n",
    "      else :\n",
    "          uniqe_version [ j ] = 1\n",
    "  return uniqe_version\n",
    "\n",
    "total_uniq_words = unique_dict(proc_article_df['body_text'])\n"
   ]
  },
  {
   "cell_type": "code",
   "execution_count": null,
   "id": "5352df25",
   "metadata": {
    "colab": {
     "base_uri": "https://localhost:8080/",
     "height": 440
    },
    "id": "5352df25",
    "outputId": "4c99c0e1-fbf1-4a48-b50f-18ca693574da"
   },
   "outputs": [
    {
     "data": {
      "image/png": "[encoded data removed]",
      "text/plain": [
       "<Figure size 2000x500 with 1 Axes>"
      ]
     },
     "metadata": {},
     "output_type": "display_data"
    },
    {
     "data": {
      "text/plain": [
       "<Figure size 640x480 with 0 Axes>"
      ]
     },
     "metadata": {},
     "output_type": "display_data"
    }
   ],
   "source": [
    "# Sort the dictionary by frequency in descending order\n",
    "sorted_dict = {k: v for k, v in sorted(total_uniq_words.items(), key=lambda item: item[1], reverse=True)}\n",
    "\n",
    "# Extract the top 10 frequencies\n",
    "top_freq = [freq for word, freq in list(sorted_dict.items())[1:8]]\n",
    "\n",
    "# Extract the top 10 words\n",
    "top_words = [word for word, freq in list(sorted_dict.items())[1:8]]\n",
    "\n",
    "# Plot a bar chart of the top 10 frequencies\n",
    "plt.figure(figsize=(20,5))\n",
    "plt.bar(top_words, top_freq)\n",
    "plt.title('Top 10 Word Frequencies in Body Text')\n",
    "plt.xlabel('Words')\n",
    "plt.ylabel('Frequencies')\n",
    "plt.show()\n",
    "plt.savefig('Uniq_words.png')"
   ]
  },
  {
   "cell_type": "code",
   "execution_count": null,
   "id": "8d8ed99a",
   "metadata": {
    "colab": {
     "base_uri": "https://localhost:8080/",
     "height": 253
    },
    "id": "8d8ed99a",
    "outputId": "ec189fff-a427-4711-f0e4-663d5f394f90"
   },
   "outputs": [
    {
     "data": {
      "image/png": "[encoded data removed]",
      "text/plain": [
       "<Figure size 500x600 with 1 Axes>"
      ]
     },
     "metadata": {},
     "output_type": "display_data"
    }
   ],
   "source": [
    "\n",
    "#Word Cloud for unique words any dataset\n",
    "def disp_wordCloud(title,dict,max_words=1000):\n",
    "  plt.figure(figsize=(5,6))\n",
    "  wordcloud = WordCloud (background_color=\"black\",max_words=1000).generate_from_frequencies (dict)\n",
    "  plt.imshow ( wordcloud , interpolation= 'bilinear' ) \n",
    "  plt.axis ( \"off\" ) \n",
    "  plt.title ( f\"Word Cloud for unique words in {title}\" ) \n",
    "  plt.imshow (wordcloud.recolor(colormap='Pastel2', random_state=17), alpha=0.98)\n",
    "\n",
    "title = \"Unique Words in Articles\"\n",
    "disp_wordCloud(title,sorted_dict,max_words=1000)"
   ]
  },
  {
   "cell_type": "markdown",
   "id": "31d75afc",
   "metadata": {
    "id": "31d75afc"
   },
   "source": [
    "### 2. Named Entity Recognition and Knowledge Base"
   ]
  },
  {
   "cell_type": "markdown",
   "id": "KtxVJDMdxf27",
   "metadata": {
    "id": "KtxVJDMdxf27"
   },
   "source": [
    "#### Knowledge Base\n",
    "\n",
    "**Knowledge Base** is a structured database that contains a collection of facts in the form <subject, relation, object> , where each fact can have properties attached called qualifiers.\n",
    "\n",
    "* ReVerb is a program that automatically identifies and extracts binary relationships from English sentences.Using reverb to create a KB extracting Entities and their relations from body text of articles and storing them into a tuple.\n",
    "\n",
    "* The KB formed here will be used in the latter stages to filter the articles to find articles relevant to the query asked by the user."
   ]
  },
  {
   "cell_type": "code",
   "execution_count": null,
   "id": "f778f01a",
   "metadata": {
    "id": "f778f01a"
   },
   "outputs": [],
   "source": [
    "#Combining the pre_proc body text and storing into a file for input to Reverb\n",
    "# all_text = \" \".join(proc_article_df['body_text'])\n",
    "# path = data_dir + 'Reverb_Prod_data.txt'\n",
    "# with open(path, 'w') as f:\n",
    "#     f.write(all_text)\n",
    "#     f.close()\n",
    "\n",
    "#Run Reverb on the Processed BOdy text for 5000 articles\n",
    "# !java -Xmx512m -jar reverb-latest.jar Reverb_Prod_data.txt >> Reverb_input_5000.txt "
   ]
  },
  {
   "cell_type": "code",
   "execution_count": null,
   "id": "7b244928",
   "metadata": {
    "id": "7b244928"
   },
   "outputs": [],
   "source": [
    "'''\n",
    "Function to parse thoough reverb output to extract entity and relations\n",
    "and storing the output in (Entity1,Relation,Entity2) format \n",
    "'''\n",
    "path = data_dir + 'Reverb_input_5000.txt'\n",
    "def extract_entity_relations(filepath=path):\n",
    "    all_relations = []\n",
    "    entity1 = []\n",
    "    entity2 = []\n",
    "    with open(filepath, 'r',encoding='latin') as f:\n",
    "        x = [line.strip() for line in f.readlines()]\n",
    "    f.close()\n",
    "    for i in x:\n",
    "        i = i.split('\\t')\n",
    "        entity1.append(i[-3])\n",
    "        entity2.append(i[-1])\n",
    "        all_relations.append((i[-3].replace(\"#\", \"\").strip(),i[-2].replace(\"#\", \"\").strip(),i[-1].replace(\"#\", \"\").strip()))\n",
    "    return all_relations,entity1,entity2"
   ]
  },
  {
   "cell_type": "code",
   "execution_count": null,
   "id": "384652f5",
   "metadata": {
    "colab": {
     "base_uri": "https://localhost:8080/"
    },
    "id": "384652f5",
    "outputId": "3749fa2b-d5eb-446e-cfc4-9f18133d80a2"
   },
   "outputs": [
    {
     "name": "stdout",
     "output_type": "stream",
     "text": [
      "Entity 1 <-- Relation --> Entity 2\n",
      "----------------------------------------------\n",
      "exercise classified resistance flexibility <-- endurance --> balance etc\n",
      "pandemic outbreak fear anxiety <-- spread across --> population germany\n",
      "pandemic <-- result --> death worldwide\n",
      "first evolution model cov proposed bat covs <-- serve --> gene source covs\n",
      " <-- cause --> common cold infection\n",
      "common cold infection <-- lead --> acute lower respiratory tract infection exacerbate chronic pulmonary disease asthma\n",
      "novel coronavirus ncov <-- emerge --> huanan wet food market livestock animal\n",
      "herd immunity overall simulation pandemic <-- depend --> efficacy time course immunity\n",
      "morbidity mortality <-- vary across --> country world\n",
      "state <-- confirm --> case  death india\n"
     ]
    }
   ],
   "source": [
    "import spacy\n",
    "import matplotlib.pylab as plt\n",
    "import networkx as nx\n",
    "\n",
    "all_relations,entity1,entity2 = extract_entity_relations()\n",
    "\n",
    "# Display Knowledge graph/knowledge base for 5 different entities\n",
    "# Show a maximum of 3 relations per entity\n",
    "total = 4\n",
    "count = 0\n",
    "print(\"Entity 1\", \"<--\", \"Relation\", \"-->\", \"Entity 2\")\n",
    "print(\"----------------------------------------------\")\n",
    "for entities in all_relations[0:10]:\n",
    "    print(entities[0], \"<--\", entities[1], \"-->\", entities[2])\n",
    "\n"
   ]
  },
  {
   "cell_type": "code",
   "execution_count": null,
   "id": "80ba63f4",
   "metadata": {
    "colab": {
     "base_uri": "https://localhost:8080/",
     "height": 730
    },
    "id": "80ba63f4",
    "outputId": "44eea22a-1bba-445e-baae-0350f770134a"
   },
   "outputs": [
    {
     "data": {
      "image/png": "[encoded data removed]",
      "text/plain": [
       "<Figure size 2000x1000 with 1 Axes>"
      ]
     },
     "metadata": {},
     "output_type": "display_data"
    }
   ],
   "source": [
    "'''\n",
    "Function to visualize the Knowledge base\n",
    "'''\n",
    "def mk_Graph(ent_ls):\n",
    "\n",
    "    # Create a directed graph\n",
    "    G = nx.DiGraph()\n",
    "    for i in ent_ls:\n",
    "\n",
    "        # Add edges to the graph\n",
    "        G.add_edge(i[0], i[2])\n",
    "        G.add_edge(i[2], i[0])\n",
    "    # Visualize the graph in the notebook\n",
    "    plt.figure(figsize=(20, 10))\n",
    "    # nx.draw_random(knowledge_graph_display, with_labels=True)\n",
    "    nx.draw_random( G , with_labels=True)\n",
    "\n",
    "#Displaying 10 entiry relationship pairs \n",
    "mk_Graph(all_relations[20:30])"
   ]
  },
  {
   "cell_type": "code",
   "execution_count": null,
   "id": "ca75c682",
   "metadata": {
    "id": "ca75c682"
   },
   "outputs": [],
   "source": [
    "'''\n",
    "Since entities recognized by reverb may not necessarily be the same as those recognized by spacy\n",
    "thus manually creating a KB to be utilized in text matching utility to also include articles mentioning associated names of entities on a smaller subset of data\n",
    "'''\n",
    "kb = {\n",
    "    \"covid19\": [\"covid\",\"corona\",\"coronavirus\",\"COVID-19\",\"coronavirus\",\n",
    "                \"33increases282.529sarscov2\", \"covid19\",\"postcovid19\",\"africa3456789101112covid1915syndrome\",\"11covid19\",\"16covid19 \",\"covid1922517\",\"china2 covid19\",\"43.4covid19\",\"spo2covid19\",\"coronavirus influenza\",\"coronavirus international committee\", \"coronavirus jev\",\"50covid19\",\"daycovid19\",\"carecovid19\",\"daysarscov2\",\"daycovid19\", \"marchcovid19\",\"coronavirus10\",\"coronavirus1114\",\"coronavirus12\",\"coronavirus13\",\"coronavirus14\",\"coronavirus16\",\"coronavirus17 20 agent\",\"coronavirus19\",\"coronavirus19  ahorsu\",\"coronavirus19 134\",\"coronavirus19 5point\",\"coronavirus19 covid19\",\"coronavirus19 pandemic acute\",\"coronavirus2\",\"coronavirus2 sarscov2\",\"sarscov2\",\"coronavirus20\",\"coronavirus2019\" ,\"covid19\", \"coronavirus2019 sarscov2\" ,\"coronavirus4 sarscov2\", \"anywhere3334covid\",\"corona2020\",\"corona353637covid19\",\"coronaviruscovid19\" ],\n",
    "    \"facemask\": [\"face\",\"mask\",\"face masks\",\"facemask\", \"facemask day\", \"facemask1.8–4.4\",\"masks10\",\"masks10 11\", \"masks19\",\"masksmg\",\"masks22\",\"masks23\",\"masks26 tokyo\",\"masks27\",\"masks3\" ,\"mask94.0\",\"mask5.5\",\"masks39\",\"masks4\",\"masks45\",\"masks7\",\"masks8\",\"maskaround\" ],\n",
    "    \"south africa\": [\"south africa\",\"africa shown\",\"africa small\",\"africa smart\",\"africa smith\",\"africa somalia\",\"africa south africa\",\"africa south african\",\"africa south america\",\"africa south asia\" ,\"africa study\",\"africa tanzania\",\"africa thailand\",\"africa time\",\"africa tropic\",\"africa turkey\",\"africa uganda\", \"africa union\",\"south african\"]\n",
    "}\n",
    "# kb = {\n",
    "#     \"covid19\": [\"covid\",\"corona\",\"coronavirus\",\"COVID-19\",\"coronavirus\", \"covid19\",\"daycovid19\", \"marchcovid19\",\"coronavirus10\",\"coronavirus1114\",\"coronavirus12\",\"coronavirus13\",\"coronavirus14\",\"coronavirus16\",\"coronavirus2\",\"sars\",\"sarscov2\",\"coronavirus20\",\"coronavirus2019\" ,\"covid19\", \"sarscov2\" ,\"coronavirus4 sarscov2\", \"anywhere3334covid\",\"corona2020\" ],\n",
    "#     \"facemask\": [\"face\",\"mask\",\"face masks\",\"facemask\", \"facemask day\", \"facemask1.8–4.4\",\"masks10\",\"masks10 11\", \"masks19\",\"masksmg\",\"masks22\",\"masks23\",\"masks26 tokyo\",\"masks27\",\"masks3\" ,\"mask94.0\",\"mask5.5\",\"masks39\",\"masks4\",\"masks45\",\"masks7\",\"masks8\",\"maskaround\" ],\n",
    "#     \"south africa\": [\"south africa\",\"africa shown\",\"africa small\",\"africa smart\",\"africa smith\",\"africa somalia\",\"africa south africa\",\"africa south african\",\"africa south america\",\"africa south asia\" ,\"africa study\",\"africa tanzania\",\"africa thailand\",\"africa time\",\"africa tropic\",\"africa turkey\",\"africa uganda\", \"africa union\",\"south african\"]\n",
    "# }"
   ]
  },
  {
   "cell_type": "markdown",
   "id": "333cefa8",
   "metadata": {
    "id": "333cefa8"
   },
   "source": [
    "### Indexing method\n",
    "\n",
    "Implementing Inverted Index method as mentined in 14.1.3 of Jurafsky’s textbook.For this method\n",
    "\n",
    "* Read processed body text from articles \n",
    "* Using spacy to identify all entities in the body text and keeping a record on the paper_id'd they appear in\n",
    "* Doing the above for all articles to create an inverted index containing entity as key and paper's it appears in as id.\n",
    "\n",
    "Inverted index is created to reduce the number of articles considered when checking cosine similarity with the query, it helps in filtering the articles to only consider those which have the entity present in the query contained within."
   ]
  },
  {
   "cell_type": "code",
   "execution_count": null,
   "id": "b0c9a921",
   "metadata": {
    "id": "b0c9a921"
   },
   "outputs": [],
   "source": [
    "# Function to create an inverted index which keeps a track of entity and the papers it appears in \n",
    "def New_Inverted_idx(data):\n",
    "    KB_df = {}\n",
    "    uniq_ents = {}\n",
    "    uniq_paper = {}\n",
    "    for i,line in enumerate(tqdm(data)):\n",
    "        chunks = chunk_strings([line])\n",
    "        for ch_line in chunks:\n",
    "            doc = nlp(ch_line)\n",
    "            for word in doc.ents:\n",
    "                if (word.text in uniq_ents.keys() and i in uniq_paper.keys()):\n",
    "                    pass\n",
    "                else:\n",
    "                    uniq_ents[word.text] = 0\n",
    "                    uniq_paper[i] = 0\n",
    "                    if word.text in KB_df.keys():\n",
    "                        KB_df [word.text].append(i)\n",
    "                    else :\n",
    "                        KB_df [word.text] = [i]\n",
    "    return KB_df\n",
    "# new_inv_idx = New_Inverted_idx(proc_article_df['body_text'])\n",
    "# new_inv_idx"
   ]
  },
  {
   "cell_type": "code",
   "execution_count": null,
   "id": "e47be6e2",
   "metadata": {
    "id": "e47be6e2"
   },
   "outputs": [],
   "source": [
    "#Exporting the created inverted index as a json file to save computational time\n",
    "import json\n",
    "# Writing to from Json file\n",
    "# with open('Bdy_inv_idx.json', 'w') as fp:\n",
    "#     json.dump(new_inv_idx, fp)\n",
    "# # Reading from Json file\n",
    "with open(data_dir +'Bdy_inv_idx.json') as f:\n",
    "    new_inv_idx = json.load(f)"
   ]
  },
  {
   "cell_type": "code",
   "execution_count": null,
   "id": "c292820d",
   "metadata": {
    "id": "c292820d"
   },
   "outputs": [],
   "source": [
    "def indexing_method(data_dict,paper_ids):\n",
    "    inverted_index = []\n",
    "    for key,value in data_dict.items():\n",
    "        inverted_index.append((key,len(value),[paper_ids[i]for i in value]))\n",
    "    inverted_df = pd.DataFrame(inverted_index, columns=['entity', 'Frequency', 'Papers'])\n",
    "    return inverted_df"
   ]
  },
  {
   "cell_type": "code",
   "execution_count": null,
   "id": "df294a83",
   "metadata": {
    "colab": {
     "base_uri": "https://localhost:8080/",
     "height": 694
    },
    "id": "df294a83",
    "outputId": "3276c845-7e8a-4622-804d-a59c84273397"
   },
   "outputs": [
    {
     "name": "stdout",
     "output_type": "stream",
     "text": [
      "Inverted Index for Body text\n"
     ]
    },
    {
     "data": {
      "text/html": [
       "\n",
       "  <div id=\"df-4ba1dd24-56f3-4278-b171-0ed02ee5b8e2\">\n",
       "    <div class=\"colab-df-container\">\n",
       "      <div>\n",
       "<style scoped>\n",
       "    .dataframe tbody tr th:only-of-type {\n",
       "        vertical-align: middle;\n",
       "    }\n",
       "\n",
       "    .dataframe tbody tr th {\n",
       "        vertical-align: top;\n",
       "    }\n",
       "\n",
       "    .dataframe thead th {\n",
       "        text-align: right;\n",
       "    }\n",
       "</style>\n",
       "<table border=\"1\" class=\"dataframe\">\n",
       "  <thead>\n",
       "    <tr style=\"text-align: right;\">\n",
       "      <th></th>\n",
       "      <th>entity</th>\n",
       "      <th>Frequency</th>\n",
       "      <th>Papers</th>\n",
       "    </tr>\n",
       "  </thead>\n",
       "  <tbody>\n",
       "    <tr>\n",
       "      <th>0</th>\n",
       "      <td>789101112</td>\n",
       "      <td>1</td>\n",
       "      <td>[PMC7698314]</td>\n",
       "    </tr>\n",
       "    <tr>\n",
       "      <th>1</th>\n",
       "      <td>covid19</td>\n",
       "      <td>313</td>\n",
       "      <td>[PMC7698314, PMC7392455, PMC7426871, PMC748106...</td>\n",
       "    </tr>\n",
       "    <tr>\n",
       "      <th>2</th>\n",
       "      <td>15</td>\n",
       "      <td>6</td>\n",
       "      <td>[PMC7698314, PMC7406824, PMC7431399, PMC854070...</td>\n",
       "    </tr>\n",
       "    <tr>\n",
       "      <th>3</th>\n",
       "      <td>syndrome 16</td>\n",
       "      <td>1</td>\n",
       "      <td>[PMC7698314]</td>\n",
       "    </tr>\n",
       "    <tr>\n",
       "      <th>4</th>\n",
       "      <td>covid19 europe</td>\n",
       "      <td>1</td>\n",
       "      <td>[PMC7698314]</td>\n",
       "    </tr>\n",
       "    <tr>\n",
       "      <th>5</th>\n",
       "      <td>france</td>\n",
       "      <td>3</td>\n",
       "      <td>[PMC7698314, PMC8995928, PMC7970000]</td>\n",
       "    </tr>\n",
       "    <tr>\n",
       "      <th>6</th>\n",
       "      <td>17</td>\n",
       "      <td>3</td>\n",
       "      <td>[PMC7698314, PMC8147939, PMC8003209]</td>\n",
       "    </tr>\n",
       "    <tr>\n",
       "      <th>7</th>\n",
       "      <td>winter</td>\n",
       "      <td>1</td>\n",
       "      <td>[PMC7698314]</td>\n",
       "    </tr>\n",
       "    <tr>\n",
       "      <th>8</th>\n",
       "      <td>previous season</td>\n",
       "      <td>1</td>\n",
       "      <td>[PMC7698314]</td>\n",
       "    </tr>\n",
       "    <tr>\n",
       "      <th>9</th>\n",
       "      <td>18</td>\n",
       "      <td>3</td>\n",
       "      <td>[PMC7698314, PMC8159131, PMC8597969]</td>\n",
       "    </tr>\n",
       "    <tr>\n",
       "      <th>10</th>\n",
       "      <td>influenza epidemic</td>\n",
       "      <td>2</td>\n",
       "      <td>[PMC7698314, PMC9037057]</td>\n",
       "    </tr>\n",
       "    <tr>\n",
       "      <th>11</th>\n",
       "      <td>1920</td>\n",
       "      <td>1</td>\n",
       "      <td>[PMC7698314]</td>\n",
       "    </tr>\n",
       "    <tr>\n",
       "      <th>12</th>\n",
       "      <td>9.1 winter season 20142015</td>\n",
       "      <td>1</td>\n",
       "      <td>[PMC7698314]</td>\n",
       "    </tr>\n",
       "    <tr>\n",
       "      <th>13</th>\n",
       "      <td>2014 21 winter season</td>\n",
       "      <td>1</td>\n",
       "      <td>[PMC7698314]</td>\n",
       "    </tr>\n",
       "    <tr>\n",
       "      <th>14</th>\n",
       "      <td>20172018 18</td>\n",
       "      <td>1</td>\n",
       "      <td>[PMC7698314]</td>\n",
       "    </tr>\n",
       "    <tr>\n",
       "      <th>15</th>\n",
       "      <td>2223</td>\n",
       "      <td>1</td>\n",
       "      <td>[PMC7698314]</td>\n",
       "    </tr>\n",
       "    <tr>\n",
       "      <th>16</th>\n",
       "      <td>20192020</td>\n",
       "      <td>2</td>\n",
       "      <td>[PMC7698314, PMC7962429]</td>\n",
       "    </tr>\n",
       "    <tr>\n",
       "      <th>17</th>\n",
       "      <td>24</td>\n",
       "      <td>3</td>\n",
       "      <td>[PMC7698314, PMC7135788, PMC7128434]</td>\n",
       "    </tr>\n",
       "    <tr>\n",
       "      <th>18</th>\n",
       "      <td>influenza covid19</td>\n",
       "      <td>1</td>\n",
       "      <td>[PMC7698314]</td>\n",
       "    </tr>\n",
       "    <tr>\n",
       "      <th>19</th>\n",
       "      <td>225</td>\n",
       "      <td>1</td>\n",
       "      <td>[PMC7698314]</td>\n",
       "    </tr>\n",
       "  </tbody>\n",
       "</table>\n",
       "</div>\n",
       "      <button class=\"colab-df-convert\" onclick=\"convertToInteractive('df-4ba1dd24-56f3-4278-b171-0ed02ee5b8e2')\"\n",
       "              title=\"Convert this dataframe to an interactive table.\"\n",
       "              style=\"display:none;\">\n",
       "        \n",
       "  <svg xmlns=\"http://www.w3.org/2000/svg\" height=\"24px\"viewBox=\"0 0 24 24\"\n",
       "       width=\"24px\">\n",
       "    <path d=\"M0 0h24v24H0V0z\" fill=\"none\"/>\n",
       "    <path d=\"M18.56 5.44l.94 2.06.94-2.06 2.06-.94-2.06-.94-.94-2.06-.94 2.06-2.06.94zm-11 1L8.5 8.5l.94-2.06 2.06-.94-2.06-.94L8.5 2.5l-.94 2.06-2.06.94zm10 10l.94 2.06.94-2.06 2.06-.94-2.06-.94-.94-2.06-.94 2.06-2.06.94z\"/><path d=\"M17.41 7.96l-1.37-1.37c-.4-.4-.92-.59-1.43-.59-.52 0-1.04.2-1.43.59L10.3 9.45l-7.72 7.72c-.78.78-.78 2.05 0 2.83L4 21.41c.39.39.9.59 1.41.59.51 0 1.02-.2 1.41-.59l7.78-7.78 2.81-2.81c.8-.78.8-2.07 0-2.86zM5.41 20L4 18.59l7.72-7.72 1.47 1.35L5.41 20z\"/>\n",
       "  </svg>\n",
       "      </button>\n",
       "      \n",
       "  <style>\n",
       "    .colab-df-container {\n",
       "      display:flex;\n",
       "      flex-wrap:wrap;\n",
       "      gap: 12px;\n",
       "    }\n",
       "\n",
       "    .colab-df-convert {\n",
       "      background-color: #E8F0FE;\n",
       "      border: none;\n",
       "      border-radius: 50%;\n",
       "      cursor: pointer;\n",
       "      display: none;\n",
       "      fill: #1967D2;\n",
       "      height: 32px;\n",
       "      padding: 0 0 0 0;\n",
       "      width: 32px;\n",
       "    }\n",
       "\n",
       "    .colab-df-convert:hover {\n",
       "      background-color: #E2EBFA;\n",
       "      box-shadow: 0px 1px 2px rgba(60, 64, 67, 0.3), 0px 1px 3px 1px rgba(60, 64, 67, 0.15);\n",
       "      fill: #174EA6;\n",
       "    }\n",
       "\n",
       "    [theme=dark] .colab-df-convert {\n",
       "      background-color: #3B4455;\n",
       "      fill: #D2E3FC;\n",
       "    }\n",
       "\n",
       "    [theme=dark] .colab-df-convert:hover {\n",
       "      background-color: #434B5C;\n",
       "      box-shadow: 0px 1px 3px 1px rgba(0, 0, 0, 0.15);\n",
       "      filter: drop-shadow(0px 1px 2px rgba(0, 0, 0, 0.3));\n",
       "      fill: #FFFFFF;\n",
       "    }\n",
       "  </style>\n",
       "\n",
       "      <script>\n",
       "        const buttonEl =\n",
       "          document.querySelector('#df-4ba1dd24-56f3-4278-b171-0ed02ee5b8e2 button.colab-df-convert');\n",
       "        buttonEl.style.display =\n",
       "          google.colab.kernel.accessAllowed ? 'block' : 'none';\n",
       "\n",
       "        async function convertToInteractive(key) {\n",
       "          const element = document.querySelector('#df-4ba1dd24-56f3-4278-b171-0ed02ee5b8e2');\n",
       "          const dataTable =\n",
       "            await google.colab.kernel.invokeFunction('convertToInteractive',\n",
       "                                                     [key], {});\n",
       "          if (!dataTable) return;\n",
       "\n",
       "          const docLinkHtml = 'Like what you see? Visit the ' +\n",
       "            '<a target=\"_blank\" href=https://colab.research.google.com/notebooks/data_table.ipynb>data table notebook</a>'\n",
       "            + ' to learn more about interactive tables.';\n",
       "          element.innerHTML = '';\n",
       "          dataTable['output_type'] = 'display_data';\n",
       "          await google.colab.output.renderOutput(dataTable, element);\n",
       "          const docLink = document.createElement('div');\n",
       "          docLink.innerHTML = docLinkHtml;\n",
       "          element.appendChild(docLink);\n",
       "        }\n",
       "      </script>\n",
       "    </div>\n",
       "  </div>\n",
       "  "
      ],
      "text/plain": [
       "                        entity  Frequency  \\\n",
       "0                    789101112          1   \n",
       "1                      covid19        313   \n",
       "2                           15          6   \n",
       "3                  syndrome 16          1   \n",
       "4               covid19 europe          1   \n",
       "5                       france          3   \n",
       "6                           17          3   \n",
       "7                       winter          1   \n",
       "8              previous season          1   \n",
       "9                           18          3   \n",
       "10          influenza epidemic          2   \n",
       "11                        1920          1   \n",
       "12  9.1 winter season 20142015          1   \n",
       "13       2014 21 winter season          1   \n",
       "14                 20172018 18          1   \n",
       "15                        2223          1   \n",
       "16                    20192020          2   \n",
       "17                          24          3   \n",
       "18           influenza covid19          1   \n",
       "19                         225          1   \n",
       "\n",
       "                                               Papers  \n",
       "0                                        [PMC7698314]  \n",
       "1   [PMC7698314, PMC7392455, PMC7426871, PMC748106...  \n",
       "2   [PMC7698314, PMC7406824, PMC7431399, PMC854070...  \n",
       "3                                        [PMC7698314]  \n",
       "4                                        [PMC7698314]  \n",
       "5                [PMC7698314, PMC8995928, PMC7970000]  \n",
       "6                [PMC7698314, PMC8147939, PMC8003209]  \n",
       "7                                        [PMC7698314]  \n",
       "8                                        [PMC7698314]  \n",
       "9                [PMC7698314, PMC8159131, PMC8597969]  \n",
       "10                           [PMC7698314, PMC9037057]  \n",
       "11                                       [PMC7698314]  \n",
       "12                                       [PMC7698314]  \n",
       "13                                       [PMC7698314]  \n",
       "14                                       [PMC7698314]  \n",
       "15                                       [PMC7698314]  \n",
       "16                           [PMC7698314, PMC7962429]  \n",
       "17               [PMC7698314, PMC7135788, PMC7128434]  \n",
       "18                                       [PMC7698314]  \n",
       "19                                       [PMC7698314]  "
      ]
     },
     "execution_count": 27,
     "metadata": {},
     "output_type": "execute_result"
    }
   ],
   "source": [
    "print(\"Inverted Index for Body text\")\n",
    "#Displaying the first 10 entries of inverted index in a Dataframe\n",
    "disp_inv_index = sliced_dict = dict(list(new_inv_idx.items())[200:220])\n",
    "indexing_method(disp_inv_index,article_df['paper_id'])"
   ]
  },
  {
   "cell_type": "code",
   "execution_count": null,
   "id": "a6ac874b",
   "metadata": {
    "id": "a6ac874b"
   },
   "outputs": [],
   "source": [
    "# geting most frequent words from the inverted index\n",
    "def get_top_n_words(word_frequency, n):\n",
    "    word_frequency_list = [{'word': k, 'count': v} for k, v in word_frequency.items()]\n",
    "    word_frequency_df = pd.DataFrame(word_frequency_list)\n",
    "    word_frequency_df_sorted = word_frequency_df.sort_values(by=[\"count\"], ascending=False)\n",
    "    return word_frequency_df_sorted.head(n)"
   ]
  },
  {
   "cell_type": "code",
   "execution_count": null,
   "id": "e688ae49",
   "metadata": {
    "colab": {
     "base_uri": "https://localhost:8080/",
     "height": 363
    },
    "id": "e688ae49",
    "outputId": "aed8985e-b321-4641-8f13-902b66db7cd9"
   },
   "outputs": [
    {
     "data": {
      "text/html": [
       "\n",
       "  <div id=\"df-c3819dce-b8a0-40b7-9189-57d3a212aa02\">\n",
       "    <div class=\"colab-df-container\">\n",
       "      <div>\n",
       "<style scoped>\n",
       "    .dataframe tbody tr th:only-of-type {\n",
       "        vertical-align: middle;\n",
       "    }\n",
       "\n",
       "    .dataframe tbody tr th {\n",
       "        vertical-align: top;\n",
       "    }\n",
       "\n",
       "    .dataframe thead th {\n",
       "        text-align: right;\n",
       "    }\n",
       "</style>\n",
       "<table border=\"1\" class=\"dataframe\">\n",
       "  <thead>\n",
       "    <tr style=\"text-align: right;\">\n",
       "      <th></th>\n",
       "      <th>word</th>\n",
       "      <th>count</th>\n",
       "    </tr>\n",
       "  </thead>\n",
       "  <tbody>\n",
       "    <tr>\n",
       "      <th>179115</th>\n",
       "      <td>university alberta human research ethic committee</td>\n",
       "      <td>[4499]</td>\n",
       "    </tr>\n",
       "    <tr>\n",
       "      <th>179110</th>\n",
       "      <td>≥ 1 presumed</td>\n",
       "      <td>[4499]</td>\n",
       "    </tr>\n",
       "    <tr>\n",
       "      <th>179106</th>\n",
       "      <td>intracranial hemorrhagic complication</td>\n",
       "      <td>[4499]</td>\n",
       "    </tr>\n",
       "    <tr>\n",
       "      <th>179108</th>\n",
       "      <td>lixiana</td>\n",
       "      <td>[4499]</td>\n",
       "    </tr>\n",
       "    <tr>\n",
       "      <th>179109</th>\n",
       "      <td>early ≤5 day</td>\n",
       "      <td>[4499]</td>\n",
       "    </tr>\n",
       "    <tr>\n",
       "      <th>179107</th>\n",
       "      <td>early 7 day 30 day</td>\n",
       "      <td>[4499]</td>\n",
       "    </tr>\n",
       "    <tr>\n",
       "      <th>179111</th>\n",
       "      <td>30–50 ml</td>\n",
       "      <td>[4499]</td>\n",
       "    </tr>\n",
       "    <tr>\n",
       "      <th>179112</th>\n",
       "      <td>prior edoxaban</td>\n",
       "      <td>[4499]</td>\n",
       "    </tr>\n",
       "    <tr>\n",
       "      <th>179113</th>\n",
       "      <td>100 4 95</td>\n",
       "      <td>[4499]</td>\n",
       "    </tr>\n",
       "    <tr>\n",
       "      <th>179114</th>\n",
       "      <td>14 january 2021</td>\n",
       "      <td>[4499]</td>\n",
       "    </tr>\n",
       "  </tbody>\n",
       "</table>\n",
       "</div>\n",
       "      <button class=\"colab-df-convert\" onclick=\"convertToInteractive('df-c3819dce-b8a0-40b7-9189-57d3a212aa02')\"\n",
       "              title=\"Convert this dataframe to an interactive table.\"\n",
       "              style=\"display:none;\">\n",
       "        \n",
       "  <svg xmlns=\"http://www.w3.org/2000/svg\" height=\"24px\"viewBox=\"0 0 24 24\"\n",
       "       width=\"24px\">\n",
       "    <path d=\"M0 0h24v24H0V0z\" fill=\"none\"/>\n",
       "    <path d=\"M18.56 5.44l.94 2.06.94-2.06 2.06-.94-2.06-.94-.94-2.06-.94 2.06-2.06.94zm-11 1L8.5 8.5l.94-2.06 2.06-.94-2.06-.94L8.5 2.5l-.94 2.06-2.06.94zm10 10l.94 2.06.94-2.06 2.06-.94-2.06-.94-.94-2.06-.94 2.06-2.06.94z\"/><path d=\"M17.41 7.96l-1.37-1.37c-.4-.4-.92-.59-1.43-.59-.52 0-1.04.2-1.43.59L10.3 9.45l-7.72 7.72c-.78.78-.78 2.05 0 2.83L4 21.41c.39.39.9.59 1.41.59.51 0 1.02-.2 1.41-.59l7.78-7.78 2.81-2.81c.8-.78.8-2.07 0-2.86zM5.41 20L4 18.59l7.72-7.72 1.47 1.35L5.41 20z\"/>\n",
       "  </svg>\n",
       "      </button>\n",
       "      \n",
       "  <style>\n",
       "    .colab-df-container {\n",
       "      display:flex;\n",
       "      flex-wrap:wrap;\n",
       "      gap: 12px;\n",
       "    }\n",
       "\n",
       "    .colab-df-convert {\n",
       "      background-color: #E8F0FE;\n",
       "      border: none;\n",
       "      border-radius: 50%;\n",
       "      cursor: pointer;\n",
       "      display: none;\n",
       "      fill: #1967D2;\n",
       "      height: 32px;\n",
       "      padding: 0 0 0 0;\n",
       "      width: 32px;\n",
       "    }\n",
       "\n",
       "    .colab-df-convert:hover {\n",
       "      background-color: #E2EBFA;\n",
       "      box-shadow: 0px 1px 2px rgba(60, 64, 67, 0.3), 0px 1px 3px 1px rgba(60, 64, 67, 0.15);\n",
       "      fill: #174EA6;\n",
       "    }\n",
       "\n",
       "    [theme=dark] .colab-df-convert {\n",
       "      background-color: #3B4455;\n",
       "      fill: #D2E3FC;\n",
       "    }\n",
       "\n",
       "    [theme=dark] .colab-df-convert:hover {\n",
       "      background-color: #434B5C;\n",
       "      box-shadow: 0px 1px 3px 1px rgba(0, 0, 0, 0.15);\n",
       "      filter: drop-shadow(0px 1px 2px rgba(0, 0, 0, 0.3));\n",
       "      fill: #FFFFFF;\n",
       "    }\n",
       "  </style>\n",
       "\n",
       "      <script>\n",
       "        const buttonEl =\n",
       "          document.querySelector('#df-c3819dce-b8a0-40b7-9189-57d3a212aa02 button.colab-df-convert');\n",
       "        buttonEl.style.display =\n",
       "          google.colab.kernel.accessAllowed ? 'block' : 'none';\n",
       "\n",
       "        async function convertToInteractive(key) {\n",
       "          const element = document.querySelector('#df-c3819dce-b8a0-40b7-9189-57d3a212aa02');\n",
       "          const dataTable =\n",
       "            await google.colab.kernel.invokeFunction('convertToInteractive',\n",
       "                                                     [key], {});\n",
       "          if (!dataTable) return;\n",
       "\n",
       "          const docLinkHtml = 'Like what you see? Visit the ' +\n",
       "            '<a target=\"_blank\" href=https://colab.research.google.com/notebooks/data_table.ipynb>data table notebook</a>'\n",
       "            + ' to learn more about interactive tables.';\n",
       "          element.innerHTML = '';\n",
       "          dataTable['output_type'] = 'display_data';\n",
       "          await google.colab.output.renderOutput(dataTable, element);\n",
       "          const docLink = document.createElement('div');\n",
       "          docLink.innerHTML = docLinkHtml;\n",
       "          element.appendChild(docLink);\n",
       "        }\n",
       "      </script>\n",
       "    </div>\n",
       "  </div>\n",
       "  "
      ],
      "text/plain": [
       "                                                     word   count\n",
       "179115  university alberta human research ethic committee  [4499]\n",
       "179110                                       ≥ 1 presumed  [4499]\n",
       "179106              intracranial hemorrhagic complication  [4499]\n",
       "179108                                            lixiana  [4499]\n",
       "179109                                       early ≤5 day  [4499]\n",
       "179107                                 early 7 day 30 day  [4499]\n",
       "179111                                           30–50 ml  [4499]\n",
       "179112                                     prior edoxaban  [4499]\n",
       "179113                                           100 4 95  [4499]\n",
       "179114                                    14 january 2021  [4499]"
      ]
     },
     "execution_count": 25,
     "metadata": {},
     "output_type": "execute_result"
    }
   ],
   "source": [
    "# most frequent words in body text inverted index. It seems that the most common words are the alphabetic representations of the number\n",
    "get_top_n_words(new_inv_idx, 10)"
   ]
  },
  {
   "cell_type": "markdown",
   "id": "gISd18vOsmWs",
   "metadata": {
    "id": "gISd18vOsmWs"
   },
   "source": [
    "#### Trying Custom word vector Models"
   ]
  },
  {
   "cell_type": "markdown",
   "id": "0SFKLei-sfXS",
   "metadata": {
    "id": "0SFKLei-sfXS"
   },
   "source": [
    "##### Spacy vectors training"
   ]
  },
  {
   "cell_type": "code",
   "execution_count": null,
   "id": "DGmwAoklH1PH",
   "metadata": {
    "colab": {
     "base_uri": "https://localhost:8080/"
    },
    "id": "DGmwAoklH1PH",
    "outputId": "58cb4e65-8f8d-4e7f-ce83-4c6a77b61f56"
   },
   "outputs": [
    {
     "name": "stderr",
     "output_type": "stream",
     "text": [
      "WARNING:gensim.models.word2vec:Each 'sentences' item should be a list of words (usually unicode strings). First item here is instead plain <class 'str'>.\n"
     ]
    },
    {
     "name": "stdout",
     "output_type": "stream",
     "text": [
      "Time taken : 5.94 mins\n"
     ]
    }
   ],
   "source": [
    "# Ref : https://www.kaggle.com/code/chewzy/tutorial-how-to-train-your-custom-word-embedding\n",
    "# Parameters reference : https://www.quora.com/How-do-I-determine-Word2Vec-parameters\n",
    "\n",
    "train_sentences = \"\".join(proc_article_df['body_text'])\n",
    "start_time = time.time()\n",
    "\n",
    "model = Word2Vec(sentences=train_sentences,sg=1,vector_size=100, workers=4)\n",
    "\n",
    "print(f'Time taken : {(time.time() - start_time) / 60:.2f} mins')"
   ]
  },
  {
   "cell_type": "code",
   "execution_count": null,
   "id": "n6brf8fVMEDK",
   "metadata": {
    "id": "n6brf8fVMEDK"
   },
   "outputs": [],
   "source": [
    "# #Saving the Model\n",
    "# model.wv.save_word2vec_format('custom_glove_100d.txt')\n",
    "\n",
    "# from gensim.models import KeyedVectors\n",
    "# # How to load:\n",
    "# model = KeyedVectors.load_word2vec_format(data_dir +'custom_glove_100d.txt')\n",
    "\n",
    "# # How to get vector using loaded model\n",
    "# # w2v.get_vector('iphone')"
   ]
  },
  {
   "cell_type": "code",
   "execution_count": null,
   "id": "67Znvc24KSTv",
   "metadata": {
    "id": "67Znvc24KSTv"
   },
   "outputs": [],
   "source": [
    "def compute_custom_vectors(documents):\n",
    "    # this model stores all the precomputed vectors\n",
    "    # model.wv\n",
    "    document_custom_vectors = {}\n",
    "    file_counter = 0\n",
    "    row_count = 0\n",
    "    # batch_size = 1000\n",
    "    for index, row in tqdm(documents.iterrows(), total=documents.shape[0]):\n",
    "        paper_id = row['paper_id']\n",
    "        document = row['body_text']\n",
    "        # Preprocess the text\n",
    "        tokens = word_tokenize(document)\n",
    "         # Get the vectors for each word in the text\n",
    "        vectors = [model.wv.get_vector(token) for token in tokens if token in model.wv]\n",
    "        # Average the vectors to get a single vector for the article\n",
    "        if vectors:\n",
    "            vector = np.mean(vectors, axis=0)\n",
    "        else:\n",
    "            vector = np.zeros((model.vector_size,))\n",
    "        # doc_vector = model.wv.get_vector(vector)\n",
    "        document_custom_vectors[paper_id] = vector\n",
    "\n",
    "    return document_custom_vectors"
   ]
  },
  {
   "cell_type": "code",
   "execution_count": null,
   "id": "9EuUamjfMxOm",
   "metadata": {
    "colab": {
     "base_uri": "https://localhost:8080/"
    },
    "id": "9EuUamjfMxOm",
    "outputId": "e81fd8d7-4721-4de0-aed4-2935e82dbbf3"
   },
   "outputs": [
    {
     "name": "stderr",
     "output_type": "stream",
     "text": [
      "100%|██████████| 4500/4500 [01:24<00:00, 53.23it/s]\n"
     ]
    },
    {
     "data": {
      "text/plain": [
       "4500"
      ]
     },
     "execution_count": 11,
     "metadata": {},
     "output_type": "execute_result"
    }
   ],
   "source": [
    "document_custom_vectors = compute_custom_vectors(proc_article_df)\n",
    "len(document_custom_vectors)"
   ]
  },
  {
   "cell_type": "code",
   "execution_count": null,
   "id": "8c8683dd",
   "metadata": {
    "colab": {
     "base_uri": "https://localhost:8080/"
    },
    "id": "8c8683dd",
    "outputId": "e2bf5799-49bc-44d5-f3d3-ce67e1959e64"
   },
   "outputs": [
    {
     "name": "stdout",
     "output_type": "stream",
     "text": [
      "\u001b[38;5;2m✔ Download and installation successful\u001b[0m\n",
      "You can now load the package via spacy.load('en_core_web_md')\n"
     ]
    }
   ],
   "source": [
    "import spacy.cli\n",
    "spacy.cli.download(\"en_core_web_md\")\n",
    "# object to hold pre-trained spacy model - en_core_web_md\n",
    "text_vectorizer = spacy.load(\"en_core_web_md\", exclude=[\"tagger\", \"parser\", \"senter\", \"attribute_ruler\", \"lemmatizer\", \"ner\"])\n",
    "def compute_spacy_document_vectors(documents, text_vectorizer):\n",
    "    # this stores all the precomputed vectors\n",
    "    document_spacy_vectors = {}\n",
    "    # mapping for paper_id and filename for efficient lookup of records\n",
    "    paper_id_file_counter_mapping = {}\n",
    "    file_counter = 0\n",
    "    row_count = 0\n",
    "    # batch_size = 1000\n",
    "    for index, row in tqdm(documents.iterrows(), total=documents.shape[0]):\n",
    "        row_count += 1\n",
    "        paper_id = row['paper_id']\n",
    "        document = row['body_text']\n",
    "        doc_vector = text_vectorizer(document)\n",
    "        document_spacy_vectors[paper_id] = doc_vector\n",
    "\n",
    "    return document_spacy_vectors\n"
   ]
  },
  {
   "cell_type": "code",
   "execution_count": null,
   "id": "7bffb4b0",
   "metadata": {
    "colab": {
     "base_uri": "https://localhost:8080/"
    },
    "id": "7bffb4b0",
    "outputId": "69b4142a-d5c2-45a8-ab61-517b6269ccc6"
   },
   "outputs": [
    {
     "name": "stderr",
     "output_type": "stream",
     "text": [
      "100%|██████████| 4500/4500 [05:33<00:00, 13.51it/s]\n"
     ]
    },
    {
     "data": {
      "text/plain": [
       "4500"
      ]
     },
     "execution_count": 13,
     "metadata": {},
     "output_type": "execute_result"
    }
   ],
   "source": [
    "document_spacy_vectors = compute_spacy_document_vectors(proc_article_df, text_vectorizer)\n",
    "len(document_spacy_vectors)"
   ]
  },
  {
   "cell_type": "code",
   "execution_count": null,
   "id": "f9777db2",
   "metadata": {
    "colab": {
     "base_uri": "https://localhost:8080/"
    },
    "id": "f9777db2",
    "outputId": "4678e200-9ef0-496d-92cc-b176bd83264c"
   },
   "outputs": [
    {
     "data": {
      "text/plain": [
       "4500"
      ]
     },
     "execution_count": 15,
     "metadata": {},
     "output_type": "execute_result"
    }
   ],
   "source": [
    "# article_df.head()\n"
   ]
  },
  {
   "cell_type": "code",
   "execution_count": null,
   "id": "23c816a9",
   "metadata": {
    "id": "23c816a9"
   },
   "outputs": [],
   "source": [
    "from sklearn.feature_extraction.text import TfidfVectorizer\n",
    "from sklearn.metrics.pairwise import cosine_similarity\n",
    "#Triggering GPU utilization for spacy\n",
    "spacy.prefer_gpu()\n",
    "# Load the English language model\n",
    "nlp=spacy.load('en_core_web_sm')\n",
    "\n",
    "\n",
    "#Create chunks of 100,000 characters so we dont exceed spcaey's limit\n",
    "def chunk_strings(lst,chunk_size = 1000000):\n",
    "    result = []\n",
    "    for string in lst:\n",
    "        if len(string) > chunk_size:\n",
    "            chunks = [string[i:i+chunk_size] for i in range(0, len(string), chunk_size)]\n",
    "            for j in chunks:\n",
    "                result.append(j)\n",
    "        else:\n",
    "            result.append(string)\n",
    "    return result\n",
    "\n",
    "class textmatch:\n",
    "\n",
    "    def __init__(self):\n",
    "        self.kb = kb\n",
    "        self.inv_idx = new_inv_idx\n",
    "        self.unprocessed_data = article_df\n",
    "        self.body_preprocess = False\n",
    "        # Creating a flag to trigger use of cosine similarity or spacy word vectors\n",
    "        self.cos = 1\n",
    "\n",
    "    #Function to  return a list of relevant articles based on query given by user itilizing inverted index and KB\n",
    "    def Inv_idx_text(self,query,kb = kb):\n",
    "        relevant_articles = []\n",
    "        uniq_relevant_articles = set()\n",
    "        inv_dict = self.inv_idx\n",
    "        Candidate_entities = []\n",
    "\n",
    "        # # If use KB flag is set searcing KB for assiciate names \n",
    "        # if self.ner_kb:\n",
    "        for candicate_key in kb:\n",
    "            for query_ent in query:\n",
    "                if (query_ent in kb[candicate_key]):\n",
    "                    # List to store related entities                   \n",
    "                    Candidate_entities.extend(kb[candicate_key])\n",
    "        Candidate_entities = list(set(Candidate_entities))\n",
    "        overall_ent = []\n",
    "        for ent in range(len(all_relations)):\n",
    "            for q_ent in query:\n",
    "                if q_ent in all_relations[ent][0]:\n",
    "                    # print(entity1[ent], \"<--\", all_relations[ent][1], \"-->\", entity2[ent])\n",
    "                    overall_ent.append(all_relations[ent][0])\n",
    "                    overall_ent.append(all_relations[ent][2])\n",
    "                elif q_ent in all_relations[ent][2]:\n",
    "                    # print(entity1[ent], \"<--\", all_relations[ent][1], \"-->\", entity2[ent])\n",
    "                    overall_ent.append(all_relations[ent][0])\n",
    "                    overall_ent.append(all_relations[ent][2])\n",
    "        overall_ent = list(set(overall_ent))\n",
    "        Candidate_entities.extend(overall_ent)\n",
    "            # print(\"Candidate_entities\",Candidate_entities)\n",
    "        # else:\n",
    "        #     Candidate_entities = query\n",
    "\n",
    "        #Using Inverted index to fetch all relevant articles\n",
    "        for ent in Candidate_entities:\n",
    "            if ent in inv_dict.keys():\n",
    "                relevant_articles.extend([i for i in inv_dict[ent]])\n",
    "\n",
    "        # print(\"relevant_articles\",relevant_articles)\n",
    "        for i in relevant_articles:\n",
    "            uniq_relevant_articles.add(i)\n",
    "            \n",
    "        return list(uniq_relevant_articles)\n",
    "\n",
    "    # Define a function to extract relevant information regarding an entity from body text\n",
    "    def extract_entity_information(self,entity, body_text):\n",
    "        # Parse the body text using spaCy\n",
    "        doc = nlp(body_text)\n",
    "        \n",
    "        # Initialize an empty list to hold relevant information\n",
    "        relevant_information = []\n",
    "        # Iterate over the entities in the document\n",
    "        for ent in doc.ents:\n",
    "            # If the entity matches the input entity\n",
    "            if entity.lower() in ent.text.lower():\n",
    "\n",
    "                relevant_information.append(ent.sent.text)\n",
    "        # return relevant_information\n",
    "        return relevant_information\n",
    "\n",
    "    #defining a function to find cosine Similarity\n",
    "    def cos_similarity(self,relevant_articles_idx,query):\n",
    "        # vectorize articles and question using TF-IDF\n",
    "        try:\n",
    "            relevant_articles = [proc_article_df.iloc[i]['body_text'] for i in relevant_articles_idx]\n",
    "            vectorizer = TfidfVectorizer()\n",
    "            #Fit the vectorizer on the article string:\n",
    "            if len(relevant_articles)>1:\n",
    "                vectorizer.fit_transform(relevant_articles)\n",
    "                art_vec = vectorizer.transform(relevant_articles)\n",
    "            else:\n",
    "                if type(relevant_articles) == list:\n",
    "                    relevant_articles = relevant_articles[0]\n",
    "                vectorizer.fit_transform([relevant_articles])\n",
    "                art_vec = vectorizer.transform([relevant_articles])\n",
    "\n",
    "            question_vector = vectorizer.transform([query])\n",
    "\n",
    "            similarities = cosine_similarity(art_vec, question_vector)\n",
    "            sorted_list = sorted(enumerate(similarities), key=lambda x: x[1],reverse=True)\n",
    "            sorted_indexes = [i for i, _ in sorted_list]\n",
    "            srtd_relevant_articles = [relevant_articles[i] for i in sorted_indexes]\n",
    "            sorted_values = [value[0] for _, value in sorted_list]\n",
    "\n",
    "            return (srtd_relevant_articles,sorted_indexes,sorted_values)\n",
    "        except:\n",
    "            return \n",
    "\n",
    "    def custom_similarity(self,relevant_articles_idx,query,model = model,document_custom_vectors=document_custom_vectors):\n",
    "        # try:\n",
    "          # Preprocess the query\n",
    "          query_tokens = preprocess(query)\n",
    "          # Get the vector representation of the query\n",
    "          query_vector = np.mean([model.wv.get_vector(token) for token in query_tokens if token in model.wv], axis=0)\n",
    "          # stores all the document scores as list\n",
    "          document_scores = []\n",
    "          #Get paper ids for relevant papaers\n",
    "          relevant_paper_ids = [proc_article_df.iloc[i]['paper_id'] for i in relevant_articles_idx]\n",
    "        \n",
    "          #Loading custom model\n",
    "          custom_document_vectors = document_custom_vectors\n",
    "          paper_id_file_mapping = list(custom_document_vectors.keys())\n",
    "\n",
    "          for document_id in tqdm(relevant_paper_ids):\n",
    "                if document_id not in paper_id_file_mapping:\n",
    "                    print('could not find paper_id_file_counter_mapping_keys for doc_id ', document_id)\n",
    "                    continue\n",
    "                document_vector = custom_document_vectors[document_id]\n",
    "                # compute similarity score between document and query\n",
    "                sim = cosine_similarity(query_vector.reshape(1, -1), document_vector.reshape(1, -1))\n",
    "                # print(sim)\n",
    "                document_scores.append(sim[0])\n",
    "\n",
    "          #Sorting all similar docs\n",
    "          sorted_list = sorted(enumerate(document_scores), key=lambda x: x[1],reverse=True)\n",
    "          sorted_indexes = [i for i, _ in sorted_list]\n",
    "          srtd_relevant_articles_idx = [relevant_articles_idx[i] for i in sorted_indexes]\n",
    "          srtd_relevant_articles = [proc_article_df.iloc[i]['body_text'] for i in srtd_relevant_articles_idx]\n",
    "          sorted_values = [value[0] for _, value in sorted_list]\n",
    "\n",
    "          return (srtd_relevant_articles,sorted_indexes,sorted_values)\n",
    "        # except:\n",
    "        #   return \n",
    "\n",
    "    def spacy_similarity(self,relevant_articles_idx,query):\n",
    "        try:\n",
    "            query_vect = text_vectorizer(query)\n",
    "            relevant_paper_ids = [proc_article_df.iloc[i]['paper_id'] for i in relevant_articles_idx]\n",
    "            # stores all the document scores as list\n",
    "            document_scores = []\n",
    "            #If cell already executed and in memory \n",
    "            document_vectors_spacy = document_spacy_vectors\n",
    "            paper_id_file_counter_mapping_keys = list(document_vectors_spacy.keys())\n",
    "\n",
    "            for document_id in tqdm(relevant_paper_ids):\n",
    "                if document_id not in paper_id_file_counter_mapping_keys:\n",
    "                    print('could not find paper_id_file_counter_mapping_keys for doc_id ', document_id)\n",
    "                    continue\n",
    "                document_vector = document_vectors_spacy[document_id]\n",
    "                # compute similarity score between document and query\n",
    "                document_scores.append(document_vector.similarity(query_vect))\n",
    "            #Sorting all similar docs\n",
    "            sorted_list = sorted(enumerate(document_scores), key=lambda x: x[1],reverse=True)\n",
    "            sorted_indexes = [i for i, _ in sorted_list]\n",
    "            srtd_relevant_articles_idx = [relevant_articles_idx[i] for i in sorted_indexes]\n",
    "            srtd_relevant_articles = [proc_article_df.iloc[i]['body_text'] for i in srtd_relevant_articles_idx]\n",
    "            sorted_values = [value for _, value in sorted_list]\n",
    "\n",
    "            return (srtd_relevant_articles,sorted_indexes,sorted_values)\n",
    "        except:\n",
    "            return \n",
    "\n",
    "    def text_matching(self,query,choice,Num_Article = 5):\n",
    "        answer_df ={ \n",
    "        'paper_id': [],\n",
    "        'Snippet': [],\n",
    "        'title' : [],\n",
    "        'authors' :[],\n",
    "        'confidence_score' :[]\n",
    "        }\n",
    "        #Defining chosen simlarity method\n",
    "        if choice in [1,2,3]:\n",
    "          self.cos = choice\n",
    "        else:\n",
    "          print(\"Summary Option not chosen correctly will default to cosine Similarity\")\n",
    "\n",
    "        #Now add entities as per KB\n",
    "        proc_query = preprocess([query])\n",
    "        query_ent = [i for i in proc_query[0].split()]\n",
    "\n",
    "        # #Set flag to use kb \n",
    "        # if use_kb_ner:\n",
    "        #     self.ner_kb = True\n",
    "\n",
    "        #Using Inverted Index to get relevant Articles\n",
    "        relevant_index= self.Inv_idx_text(query_ent)\n",
    "        # relevant_articles = [article_df.iloc[i]['body_text'] for i in relevant_index]\n",
    "\n",
    "        #Handeling for Empty string exception\n",
    "        # try :\n",
    "            #Returning most relevant articles   \n",
    "        if self.cos == 2:\n",
    "            srtd_relevant_articles,sorted_art_idx,sorted_values_art = self.spacy_similarity(relevant_index,query)\n",
    "        elif self.cos == 3:\n",
    "            srtd_relevant_articles,sorted_art_idx,sorted_values_art = self.custom_similarity(relevant_index,query)\n",
    "        else:\n",
    "            srtd_relevant_articles,sorted_art_idx,sorted_values_art = self.cos_similarity(relevant_index,query)\n",
    "        # except:\n",
    "        #     return \"NO Match Found\"\n",
    "        paper_id_indx = [relevant_index[i] for i in sorted_art_idx]\n",
    "            \n",
    "        #finding information on top narticles\n",
    "        for i,article in enumerate(srtd_relevant_articles):\n",
    "            if i == Num_Article:\n",
    "                break\n",
    "            answer_df['paper_id'].append(self.unprocessed_data['paper_id'][paper_id_indx[i]])\n",
    "            answer_df['Snippet'].append(self.unprocessed_data['body_text'][paper_id_indx[i]])\n",
    "            answer_df['authors'].append(self.unprocessed_data['authors'][paper_id_indx[i]])\n",
    "            answer_df['title'].append(self.unprocessed_data['title'][paper_id_indx[i]])\n",
    "            answer_df['confidence_score'].append(sorted_values_art[i])\n",
    "                \n",
    "        #Creating a Dataframe for Visualization\n",
    "        Response_df = pd.DataFrame(answer_df, columns=[ 'paper_id', 'Snippet','title','authors','confidence_score'])\n",
    "        return Response_df\n"
   ]
  },
  {
   "cell_type": "markdown",
   "id": "EOPd1fdZv1Dj",
   "metadata": {
    "id": "EOPd1fdZv1Dj"
   },
   "source": [
    "**Comparing Relevant articles fetched using Spacy word-embeddings, Cosine Scores and Custom word-embedding utilizing manual and Reverb KB**\n",
    "---\n",
    "\n",
    "\n",
    "\n",
    "\n"
   ]
  },
  {
   "cell_type": "markdown",
   "id": "9ymc0kiSyve1",
   "metadata": {
    "id": "9ymc0kiSyve1"
   },
   "source": [
    "\n",
    "###### query1 = \"Which are the main effects of covid-19 in people?\"\n",
    "\n",
    "\n"
   ]
  },
  {
   "cell_type": "code",
   "execution_count": null,
   "id": "EcdmT0XOkocn",
   "metadata": {
    "colab": {
     "base_uri": "https://localhost:8080/",
     "height": 242
    },
    "id": "EcdmT0XOkocn",
    "outputId": "00832c3e-475a-4470-ee4f-c11672c80d02"
   },
   "outputs": [
    {
     "name": "stderr",
     "output_type": "stream",
     "text": [
      "100%|██████████| 388/388 [00:00<00:00, 3658.86it/s]"
     ]
    },
    {
     "name": "stdout",
     "output_type": "stream",
     "text": [
      "Time taken For Custom Similarity: 1.5996630191802979 seconds\n"
     ]
    },
    {
     "name": "stderr",
     "output_type": "stream",
     "text": [
      "\n"
     ]
    },
    {
     "data": {
      "text/html": [
       "\n",
       "  <div id=\"df-3a5755f3-7ca0-4f8d-840f-3cae159917af\">\n",
       "    <div class=\"colab-df-container\">\n",
       "      <div>\n",
       "<style scoped>\n",
       "    .dataframe tbody tr th:only-of-type {\n",
       "        vertical-align: middle;\n",
       "    }\n",
       "\n",
       "    .dataframe tbody tr th {\n",
       "        vertical-align: top;\n",
       "    }\n",
       "\n",
       "    .dataframe thead th {\n",
       "        text-align: right;\n",
       "    }\n",
       "</style>\n",
       "<table border=\"1\" class=\"dataframe\">\n",
       "  <thead>\n",
       "    <tr style=\"text-align: right;\">\n",
       "      <th></th>\n",
       "      <th>paper_id</th>\n",
       "      <th>Snippet</th>\n",
       "      <th>title</th>\n",
       "      <th>authors</th>\n",
       "      <th>confidence_score</th>\n",
       "    </tr>\n",
       "  </thead>\n",
       "  <tbody>\n",
       "    <tr>\n",
       "      <th>0</th>\n",
       "      <td>PMC8058401</td>\n",
       "      <td>Zika virus (ZIKV), emerging as a global health...</td>\n",
       "      <td>Identification and Characterization of Zika Vi...</td>\n",
       "      <td>['Weibao  Song ', 'Hongjuan  Zhang ', 'Yu  Zha...</td>\n",
       "      <td>0.301010</td>\n",
       "    </tr>\n",
       "    <tr>\n",
       "      <th>1</th>\n",
       "      <td>PMC7491399</td>\n",
       "      <td>To the Editor: We read with great interest the...</td>\n",
       "      <td>Fungal Infection during COVID-19: Does Aspergi...</td>\n",
       "      <td>['Arnaud  Fekkar ', 'Corentin  Poignon ', 'Mar...</td>\n",
       "      <td>0.203972</td>\n",
       "    </tr>\n",
       "    <tr>\n",
       "      <th>2</th>\n",
       "      <td>PMC8930843</td>\n",
       "      <td>Liver diseases, with their high morbidity and ...</td>\n",
       "      <td>Mesenchymal Stem Cell-Derived Extracellular Ve...</td>\n",
       "      <td>['Ruiqi  Wu ', 'Xiaoli  Fan ', 'Yi  Wang ', 'M...</td>\n",
       "      <td>0.149275</td>\n",
       "    </tr>\n",
       "    <tr>\n",
       "      <th>3</th>\n",
       "      <td>PMC7967750</td>\n",
       "      <td>In December 2019, a highly infectious acute re...</td>\n",
       "      <td>From Recession to Depression? Prevalence and C...</td>\n",
       "      <td>['Sofia  Pappa ', 'Nikolaos  Athanasiou ', 'Ni...</td>\n",
       "      <td>0.147375</td>\n",
       "    </tr>\n",
       "    <tr>\n",
       "      <th>4</th>\n",
       "      <td>PMC7087916</td>\n",
       "      <td>Rabies is an acute contagious infection of the...</td>\n",
       "      <td>Enhanced Expression of Rabies Virus Surface G-...</td>\n",
       "      <td>['Ankit  Singh ', 'Dinesh  Yadav ', 'Krishan M...</td>\n",
       "      <td>0.132889</td>\n",
       "    </tr>\n",
       "  </tbody>\n",
       "</table>\n",
       "</div>\n",
       "      <button class=\"colab-df-convert\" onclick=\"convertToInteractive('df-3a5755f3-7ca0-4f8d-840f-3cae159917af')\"\n",
       "              title=\"Convert this dataframe to an interactive table.\"\n",
       "              style=\"display:none;\">\n",
       "        \n",
       "  <svg xmlns=\"http://www.w3.org/2000/svg\" height=\"24px\"viewBox=\"0 0 24 24\"\n",
       "       width=\"24px\">\n",
       "    <path d=\"M0 0h24v24H0V0z\" fill=\"none\"/>\n",
       "    <path d=\"M18.56 5.44l.94 2.06.94-2.06 2.06-.94-2.06-.94-.94-2.06-.94 2.06-2.06.94zm-11 1L8.5 8.5l.94-2.06 2.06-.94-2.06-.94L8.5 2.5l-.94 2.06-2.06.94zm10 10l.94 2.06.94-2.06 2.06-.94-2.06-.94-.94-2.06-.94 2.06-2.06.94z\"/><path d=\"M17.41 7.96l-1.37-1.37c-.4-.4-.92-.59-1.43-.59-.52 0-1.04.2-1.43.59L10.3 9.45l-7.72 7.72c-.78.78-.78 2.05 0 2.83L4 21.41c.39.39.9.59 1.41.59.51 0 1.02-.2 1.41-.59l7.78-7.78 2.81-2.81c.8-.78.8-2.07 0-2.86zM5.41 20L4 18.59l7.72-7.72 1.47 1.35L5.41 20z\"/>\n",
       "  </svg>\n",
       "      </button>\n",
       "      \n",
       "  <style>\n",
       "    .colab-df-container {\n",
       "      display:flex;\n",
       "      flex-wrap:wrap;\n",
       "      gap: 12px;\n",
       "    }\n",
       "\n",
       "    .colab-df-convert {\n",
       "      background-color: #E8F0FE;\n",
       "      border: none;\n",
       "      border-radius: 50%;\n",
       "      cursor: pointer;\n",
       "      display: none;\n",
       "      fill: #1967D2;\n",
       "      height: 32px;\n",
       "      padding: 0 0 0 0;\n",
       "      width: 32px;\n",
       "    }\n",
       "\n",
       "    .colab-df-convert:hover {\n",
       "      background-color: #E2EBFA;\n",
       "      box-shadow: 0px 1px 2px rgba(60, 64, 67, 0.3), 0px 1px 3px 1px rgba(60, 64, 67, 0.15);\n",
       "      fill: #174EA6;\n",
       "    }\n",
       "\n",
       "    [theme=dark] .colab-df-convert {\n",
       "      background-color: #3B4455;\n",
       "      fill: #D2E3FC;\n",
       "    }\n",
       "\n",
       "    [theme=dark] .colab-df-convert:hover {\n",
       "      background-color: #434B5C;\n",
       "      box-shadow: 0px 1px 3px 1px rgba(0, 0, 0, 0.15);\n",
       "      filter: drop-shadow(0px 1px 2px rgba(0, 0, 0, 0.3));\n",
       "      fill: #FFFFFF;\n",
       "    }\n",
       "  </style>\n",
       "\n",
       "      <script>\n",
       "        const buttonEl =\n",
       "          document.querySelector('#df-3a5755f3-7ca0-4f8d-840f-3cae159917af button.colab-df-convert');\n",
       "        buttonEl.style.display =\n",
       "          google.colab.kernel.accessAllowed ? 'block' : 'none';\n",
       "\n",
       "        async function convertToInteractive(key) {\n",
       "          const element = document.querySelector('#df-3a5755f3-7ca0-4f8d-840f-3cae159917af');\n",
       "          const dataTable =\n",
       "            await google.colab.kernel.invokeFunction('convertToInteractive',\n",
       "                                                     [key], {});\n",
       "          if (!dataTable) return;\n",
       "\n",
       "          const docLinkHtml = 'Like what you see? Visit the ' +\n",
       "            '<a target=\"_blank\" href=https://colab.research.google.com/notebooks/data_table.ipynb>data table notebook</a>'\n",
       "            + ' to learn more about interactive tables.';\n",
       "          element.innerHTML = '';\n",
       "          dataTable['output_type'] = 'display_data';\n",
       "          await google.colab.output.renderOutput(dataTable, element);\n",
       "          const docLink = document.createElement('div');\n",
       "          docLink.innerHTML = docLinkHtml;\n",
       "          element.appendChild(docLink);\n",
       "        }\n",
       "      </script>\n",
       "    </div>\n",
       "  </div>\n",
       "  "
      ],
      "text/plain": [
       "     paper_id                                            Snippet  \\\n",
       "0  PMC8058401  Zika virus (ZIKV), emerging as a global health...   \n",
       "1  PMC7491399  To the Editor: We read with great interest the...   \n",
       "2  PMC8930843  Liver diseases, with their high morbidity and ...   \n",
       "3  PMC7967750  In December 2019, a highly infectious acute re...   \n",
       "4  PMC7087916  Rabies is an acute contagious infection of the...   \n",
       "\n",
       "                                               title  \\\n",
       "0  Identification and Characterization of Zika Vi...   \n",
       "1  Fungal Infection during COVID-19: Does Aspergi...   \n",
       "2  Mesenchymal Stem Cell-Derived Extracellular Ve...   \n",
       "3  From Recession to Depression? Prevalence and C...   \n",
       "4  Enhanced Expression of Rabies Virus Surface G-...   \n",
       "\n",
       "                                             authors  confidence_score  \n",
       "0  ['Weibao  Song ', 'Hongjuan  Zhang ', 'Yu  Zha...          0.301010  \n",
       "1  ['Arnaud  Fekkar ', 'Corentin  Poignon ', 'Mar...          0.203972  \n",
       "2  ['Ruiqi  Wu ', 'Xiaoli  Fan ', 'Yi  Wang ', 'M...          0.149275  \n",
       "3  ['Sofia  Pappa ', 'Nikolaos  Athanasiou ', 'Ni...          0.147375  \n",
       "4  ['Ankit  Singh ', 'Dinesh  Yadav ', 'Krishan M...          0.132889  "
      ]
     },
     "execution_count": 17,
     "metadata": {},
     "output_type": "execute_result"
    }
   ],
   "source": [
    "#Passing Flag to use Custom similarity\n",
    "start_time = time.time()\n",
    "query1 = \"What are the symptoms of COVID-19?\"\n",
    "# query1 = \"Which are the main effects of covid-19 in people?\"\n",
    "t1 = textmatch()\n",
    "q1custom = t1.text_matching(query1,3)\n",
    "print(f'Time taken For Custom Similarity: {(time.time() - start_time)} seconds')\n",
    "q1custom"
   ]
  },
  {
   "cell_type": "code",
   "execution_count": null,
   "id": "r9wP-UYkssbq",
   "metadata": {
    "colab": {
     "base_uri": "https://localhost:8080/",
     "height": 242
    },
    "id": "r9wP-UYkssbq",
    "outputId": "8f2292ec-e439-4aca-892c-f68dc707e71f"
   },
   "outputs": [
    {
     "name": "stderr",
     "output_type": "stream",
     "text": [
      "100%|██████████| 388/388 [00:00<00:00, 29819.88it/s]"
     ]
    },
    {
     "name": "stdout",
     "output_type": "stream",
     "text": [
      "Time taken For Spacey Word-embedding Similarity: 0.048334360122680664 seconds\n"
     ]
    },
    {
     "name": "stderr",
     "output_type": "stream",
     "text": [
      "\n"
     ]
    },
    {
     "data": {
      "text/html": [
       "\n",
       "  <div id=\"df-12945233-47f4-4c02-8b2c-e30bc71898d7\">\n",
       "    <div class=\"colab-df-container\">\n",
       "      <div>\n",
       "<style scoped>\n",
       "    .dataframe tbody tr th:only-of-type {\n",
       "        vertical-align: middle;\n",
       "    }\n",
       "\n",
       "    .dataframe tbody tr th {\n",
       "        vertical-align: top;\n",
       "    }\n",
       "\n",
       "    .dataframe thead th {\n",
       "        text-align: right;\n",
       "    }\n",
       "</style>\n",
       "<table border=\"1\" class=\"dataframe\">\n",
       "  <thead>\n",
       "    <tr style=\"text-align: right;\">\n",
       "      <th></th>\n",
       "      <th>paper_id</th>\n",
       "      <th>Snippet</th>\n",
       "      <th>title</th>\n",
       "      <th>authors</th>\n",
       "      <th>confidence_score</th>\n",
       "    </tr>\n",
       "  </thead>\n",
       "  <tbody>\n",
       "    <tr>\n",
       "      <th>0</th>\n",
       "      <td>PMC7543648</td>\n",
       "      <td>One critical way religious institutions and in...</td>\n",
       "      <td>Religion in the Age of Social Distancing: How ...</td>\n",
       "      <td>['Joseph O Baker ', 'Gerardo  Martí ', 'Ruth  ...</td>\n",
       "      <td>0.754269</td>\n",
       "    </tr>\n",
       "    <tr>\n",
       "      <th>1</th>\n",
       "      <td>PMC8329080</td>\n",
       "      <td>Healthcare workers in the frontline against CO...</td>\n",
       "      <td>Gender-Based Analysis of the Psychological Imp...</td>\n",
       "      <td>['Mayte  López-Atanes ', 'José Ignacio Pijoán-...</td>\n",
       "      <td>0.747483</td>\n",
       "    </tr>\n",
       "    <tr>\n",
       "      <th>2</th>\n",
       "      <td>PMC7428357</td>\n",
       "      <td>A 35-year-old, healthy Caucasian woman initial...</td>\n",
       "      <td>Autoimmunity complicating SARS-CoV-2 infection...</td>\n",
       "      <td>['Steffen  Pfeuffer ', 'Matthias  Pawlowski ',...</td>\n",
       "      <td>0.746629</td>\n",
       "    </tr>\n",
       "    <tr>\n",
       "      <th>3</th>\n",
       "      <td>PMC8752169</td>\n",
       "      <td>Parenting has a definitive role in a child’s d...</td>\n",
       "      <td>Are there any changes in mothers' attitudes? A...</td>\n",
       "      <td>['Mehmet  Toran ', 'Bülent  Özden ']</td>\n",
       "      <td>0.743528</td>\n",
       "    </tr>\n",
       "    <tr>\n",
       "      <th>4</th>\n",
       "      <td>PMC8479630</td>\n",
       "      <td>Even in the era of conjugate vaccines, 400,000...</td>\n",
       "      <td>A feasibility study of controlled human infect...</td>\n",
       "      <td>['Ben  Morton ', 'Sarah  Burr ', 'Tarsizio  Ch...</td>\n",
       "      <td>0.742624</td>\n",
       "    </tr>\n",
       "  </tbody>\n",
       "</table>\n",
       "</div>\n",
       "      <button class=\"colab-df-convert\" onclick=\"convertToInteractive('df-12945233-47f4-4c02-8b2c-e30bc71898d7')\"\n",
       "              title=\"Convert this dataframe to an interactive table.\"\n",
       "              style=\"display:none;\">\n",
       "        \n",
       "  <svg xmlns=\"http://www.w3.org/2000/svg\" height=\"24px\"viewBox=\"0 0 24 24\"\n",
       "       width=\"24px\">\n",
       "    <path d=\"M0 0h24v24H0V0z\" fill=\"none\"/>\n",
       "    <path d=\"M18.56 5.44l.94 2.06.94-2.06 2.06-.94-2.06-.94-.94-2.06-.94 2.06-2.06.94zm-11 1L8.5 8.5l.94-2.06 2.06-.94-2.06-.94L8.5 2.5l-.94 2.06-2.06.94zm10 10l.94 2.06.94-2.06 2.06-.94-2.06-.94-.94-2.06-.94 2.06-2.06.94z\"/><path d=\"M17.41 7.96l-1.37-1.37c-.4-.4-.92-.59-1.43-.59-.52 0-1.04.2-1.43.59L10.3 9.45l-7.72 7.72c-.78.78-.78 2.05 0 2.83L4 21.41c.39.39.9.59 1.41.59.51 0 1.02-.2 1.41-.59l7.78-7.78 2.81-2.81c.8-.78.8-2.07 0-2.86zM5.41 20L4 18.59l7.72-7.72 1.47 1.35L5.41 20z\"/>\n",
       "  </svg>\n",
       "      </button>\n",
       "      \n",
       "  <style>\n",
       "    .colab-df-container {\n",
       "      display:flex;\n",
       "      flex-wrap:wrap;\n",
       "      gap: 12px;\n",
       "    }\n",
       "\n",
       "    .colab-df-convert {\n",
       "      background-color: #E8F0FE;\n",
       "      border: none;\n",
       "      border-radius: 50%;\n",
       "      cursor: pointer;\n",
       "      display: none;\n",
       "      fill: #1967D2;\n",
       "      height: 32px;\n",
       "      padding: 0 0 0 0;\n",
       "      width: 32px;\n",
       "    }\n",
       "\n",
       "    .colab-df-convert:hover {\n",
       "      background-color: #E2EBFA;\n",
       "      box-shadow: 0px 1px 2px rgba(60, 64, 67, 0.3), 0px 1px 3px 1px rgba(60, 64, 67, 0.15);\n",
       "      fill: #174EA6;\n",
       "    }\n",
       "\n",
       "    [theme=dark] .colab-df-convert {\n",
       "      background-color: #3B4455;\n",
       "      fill: #D2E3FC;\n",
       "    }\n",
       "\n",
       "    [theme=dark] .colab-df-convert:hover {\n",
       "      background-color: #434B5C;\n",
       "      box-shadow: 0px 1px 3px 1px rgba(0, 0, 0, 0.15);\n",
       "      filter: drop-shadow(0px 1px 2px rgba(0, 0, 0, 0.3));\n",
       "      fill: #FFFFFF;\n",
       "    }\n",
       "  </style>\n",
       "\n",
       "      <script>\n",
       "        const buttonEl =\n",
       "          document.querySelector('#df-12945233-47f4-4c02-8b2c-e30bc71898d7 button.colab-df-convert');\n",
       "        buttonEl.style.display =\n",
       "          google.colab.kernel.accessAllowed ? 'block' : 'none';\n",
       "\n",
       "        async function convertToInteractive(key) {\n",
       "          const element = document.querySelector('#df-12945233-47f4-4c02-8b2c-e30bc71898d7');\n",
       "          const dataTable =\n",
       "            await google.colab.kernel.invokeFunction('convertToInteractive',\n",
       "                                                     [key], {});\n",
       "          if (!dataTable) return;\n",
       "\n",
       "          const docLinkHtml = 'Like what you see? Visit the ' +\n",
       "            '<a target=\"_blank\" href=https://colab.research.google.com/notebooks/data_table.ipynb>data table notebook</a>'\n",
       "            + ' to learn more about interactive tables.';\n",
       "          element.innerHTML = '';\n",
       "          dataTable['output_type'] = 'display_data';\n",
       "          await google.colab.output.renderOutput(dataTable, element);\n",
       "          const docLink = document.createElement('div');\n",
       "          docLink.innerHTML = docLinkHtml;\n",
       "          element.appendChild(docLink);\n",
       "        }\n",
       "      </script>\n",
       "    </div>\n",
       "  </div>\n",
       "  "
      ],
      "text/plain": [
       "     paper_id                                            Snippet  \\\n",
       "0  PMC7543648  One critical way religious institutions and in...   \n",
       "1  PMC8329080  Healthcare workers in the frontline against CO...   \n",
       "2  PMC7428357  A 35-year-old, healthy Caucasian woman initial...   \n",
       "3  PMC8752169  Parenting has a definitive role in a child’s d...   \n",
       "4  PMC8479630  Even in the era of conjugate vaccines, 400,000...   \n",
       "\n",
       "                                               title  \\\n",
       "0  Religion in the Age of Social Distancing: How ...   \n",
       "1  Gender-Based Analysis of the Psychological Imp...   \n",
       "2  Autoimmunity complicating SARS-CoV-2 infection...   \n",
       "3  Are there any changes in mothers' attitudes? A...   \n",
       "4  A feasibility study of controlled human infect...   \n",
       "\n",
       "                                             authors  confidence_score  \n",
       "0  ['Joseph O Baker ', 'Gerardo  Martí ', 'Ruth  ...          0.754269  \n",
       "1  ['Mayte  López-Atanes ', 'José Ignacio Pijoán-...          0.747483  \n",
       "2  ['Steffen  Pfeuffer ', 'Matthias  Pawlowski ',...          0.746629  \n",
       "3               ['Mehmet  Toran ', 'Bülent  Özden ']          0.743528  \n",
       "4  ['Ben  Morton ', 'Sarah  Burr ', 'Tarsizio  Ch...          0.742624  "
      ]
     },
     "execution_count": 83,
     "metadata": {},
     "output_type": "execute_result"
    }
   ],
   "source": [
    "#Passing Flag to use Spacy Word-embedings similarity\n",
    "start_time = time.time()\n",
    "query1 = \"What are the symptoms of COVID-19?\"\n",
    "# query1 = \"Which are the main effects of covid-19 in people?\"\n",
    "# t1 = textmatch()\n",
    "q1s = t1.text_matching(query1,2)\n",
    "print(f'Time taken For Spacy Word-embedding Similarity: {(time.time() - start_time)} seconds')\n",
    "q1s"
   ]
  },
  {
   "cell_type": "code",
   "execution_count": null,
   "id": "ziH1MPwLs3Ke",
   "metadata": {
    "colab": {
     "base_uri": "https://localhost:8080/",
     "height": 224
    },
    "id": "ziH1MPwLs3Ke",
    "outputId": "63e6790e-02af-4821-bfe8-620e27693c7c"
   },
   "outputs": [
    {
     "name": "stdout",
     "output_type": "stream",
     "text": [
      "Time taken For Cosine Similarity: 1.0878474712371826 seconds\n"
     ]
    },
    {
     "data": {
      "text/html": [
       "\n",
       "  <div id=\"df-5b5c81b9-6182-43e8-87cf-46ba025d1aa5\">\n",
       "    <div class=\"colab-df-container\">\n",
       "      <div>\n",
       "<style scoped>\n",
       "    .dataframe tbody tr th:only-of-type {\n",
       "        vertical-align: middle;\n",
       "    }\n",
       "\n",
       "    .dataframe tbody tr th {\n",
       "        vertical-align: top;\n",
       "    }\n",
       "\n",
       "    .dataframe thead th {\n",
       "        text-align: right;\n",
       "    }\n",
       "</style>\n",
       "<table border=\"1\" class=\"dataframe\">\n",
       "  <thead>\n",
       "    <tr style=\"text-align: right;\">\n",
       "      <th></th>\n",
       "      <th>paper_id</th>\n",
       "      <th>Snippet</th>\n",
       "      <th>title</th>\n",
       "      <th>authors</th>\n",
       "      <th>confidence_score</th>\n",
       "    </tr>\n",
       "  </thead>\n",
       "  <tbody>\n",
       "    <tr>\n",
       "      <th>0</th>\n",
       "      <td>PMC7476581</td>\n",
       "      <td>Snoring is one of the common sleep problems fo...</td>\n",
       "      <td>An automated snoring sound classification meth...</td>\n",
       "      <td>['Turker  Tuncer ', 'Erhan  Akbal ', 'Sengul  ...</td>\n",
       "      <td>0.079043</td>\n",
       "    </tr>\n",
       "    <tr>\n",
       "      <th>1</th>\n",
       "      <td>PMC8175617</td>\n",
       "      <td>Over the past decade, the world has witnessed ...</td>\n",
       "      <td>Factors Associated With Individual Emergency P...</td>\n",
       "      <td>['Ning  Ning ', 'Man  Hu ', 'Jin  Qiao ', 'Cha...</td>\n",
       "      <td>0.064809</td>\n",
       "    </tr>\n",
       "    <tr>\n",
       "      <th>2</th>\n",
       "      <td>PMC8752169</td>\n",
       "      <td>Parenting has a definitive role in a child’s d...</td>\n",
       "      <td>Are there any changes in mothers' attitudes? A...</td>\n",
       "      <td>['Mehmet  Toran ', 'Bülent  Özden ']</td>\n",
       "      <td>0.064386</td>\n",
       "    </tr>\n",
       "    <tr>\n",
       "      <th>3</th>\n",
       "      <td>PMC7839242</td>\n",
       "      <td>Therapeutic agents can be developed via conven...</td>\n",
       "      <td>Glucagon-like peptide-1 receptor mediates the ...</td>\n",
       "      <td>['Wenyong  Zhou ', 'Weijuan  Shao ', 'Yu  Zhan...</td>\n",
       "      <td>0.045658</td>\n",
       "    </tr>\n",
       "    <tr>\n",
       "      <th>4</th>\n",
       "      <td>PMC8480667</td>\n",
       "      <td>γ-Aminobutyric acid receptors of class A (GABA...</td>\n",
       "      <td>Encephalitis patient-derived monoclonal GABAA ...</td>\n",
       "      <td>['Jakob  Kreye ', 'Sukhvir K. Wright ', 'Adria...</td>\n",
       "      <td>0.037851</td>\n",
       "    </tr>\n",
       "  </tbody>\n",
       "</table>\n",
       "</div>\n",
       "      <button class=\"colab-df-convert\" onclick=\"convertToInteractive('df-5b5c81b9-6182-43e8-87cf-46ba025d1aa5')\"\n",
       "              title=\"Convert this dataframe to an interactive table.\"\n",
       "              style=\"display:none;\">\n",
       "        \n",
       "  <svg xmlns=\"http://www.w3.org/2000/svg\" height=\"24px\"viewBox=\"0 0 24 24\"\n",
       "       width=\"24px\">\n",
       "    <path d=\"M0 0h24v24H0V0z\" fill=\"none\"/>\n",
       "    <path d=\"M18.56 5.44l.94 2.06.94-2.06 2.06-.94-2.06-.94-.94-2.06-.94 2.06-2.06.94zm-11 1L8.5 8.5l.94-2.06 2.06-.94-2.06-.94L8.5 2.5l-.94 2.06-2.06.94zm10 10l.94 2.06.94-2.06 2.06-.94-2.06-.94-.94-2.06-.94 2.06-2.06.94z\"/><path d=\"M17.41 7.96l-1.37-1.37c-.4-.4-.92-.59-1.43-.59-.52 0-1.04.2-1.43.59L10.3 9.45l-7.72 7.72c-.78.78-.78 2.05 0 2.83L4 21.41c.39.39.9.59 1.41.59.51 0 1.02-.2 1.41-.59l7.78-7.78 2.81-2.81c.8-.78.8-2.07 0-2.86zM5.41 20L4 18.59l7.72-7.72 1.47 1.35L5.41 20z\"/>\n",
       "  </svg>\n",
       "      </button>\n",
       "      \n",
       "  <style>\n",
       "    .colab-df-container {\n",
       "      display:flex;\n",
       "      flex-wrap:wrap;\n",
       "      gap: 12px;\n",
       "    }\n",
       "\n",
       "    .colab-df-convert {\n",
       "      background-color: #E8F0FE;\n",
       "      border: none;\n",
       "      border-radius: 50%;\n",
       "      cursor: pointer;\n",
       "      display: none;\n",
       "      fill: #1967D2;\n",
       "      height: 32px;\n",
       "      padding: 0 0 0 0;\n",
       "      width: 32px;\n",
       "    }\n",
       "\n",
       "    .colab-df-convert:hover {\n",
       "      background-color: #E2EBFA;\n",
       "      box-shadow: 0px 1px 2px rgba(60, 64, 67, 0.3), 0px 1px 3px 1px rgba(60, 64, 67, 0.15);\n",
       "      fill: #174EA6;\n",
       "    }\n",
       "\n",
       "    [theme=dark] .colab-df-convert {\n",
       "      background-color: #3B4455;\n",
       "      fill: #D2E3FC;\n",
       "    }\n",
       "\n",
       "    [theme=dark] .colab-df-convert:hover {\n",
       "      background-color: #434B5C;\n",
       "      box-shadow: 0px 1px 3px 1px rgba(0, 0, 0, 0.15);\n",
       "      filter: drop-shadow(0px 1px 2px rgba(0, 0, 0, 0.3));\n",
       "      fill: #FFFFFF;\n",
       "    }\n",
       "  </style>\n",
       "\n",
       "      <script>\n",
       "        const buttonEl =\n",
       "          document.querySelector('#df-5b5c81b9-6182-43e8-87cf-46ba025d1aa5 button.colab-df-convert');\n",
       "        buttonEl.style.display =\n",
       "          google.colab.kernel.accessAllowed ? 'block' : 'none';\n",
       "\n",
       "        async function convertToInteractive(key) {\n",
       "          const element = document.querySelector('#df-5b5c81b9-6182-43e8-87cf-46ba025d1aa5');\n",
       "          const dataTable =\n",
       "            await google.colab.kernel.invokeFunction('convertToInteractive',\n",
       "                                                     [key], {});\n",
       "          if (!dataTable) return;\n",
       "\n",
       "          const docLinkHtml = 'Like what you see? Visit the ' +\n",
       "            '<a target=\"_blank\" href=https://colab.research.google.com/notebooks/data_table.ipynb>data table notebook</a>'\n",
       "            + ' to learn more about interactive tables.';\n",
       "          element.innerHTML = '';\n",
       "          dataTable['output_type'] = 'display_data';\n",
       "          await google.colab.output.renderOutput(dataTable, element);\n",
       "          const docLink = document.createElement('div');\n",
       "          docLink.innerHTML = docLinkHtml;\n",
       "          element.appendChild(docLink);\n",
       "        }\n",
       "      </script>\n",
       "    </div>\n",
       "  </div>\n",
       "  "
      ],
      "text/plain": [
       "     paper_id                                            Snippet  \\\n",
       "0  PMC7476581  Snoring is one of the common sleep problems fo...   \n",
       "1  PMC8175617  Over the past decade, the world has witnessed ...   \n",
       "2  PMC8752169  Parenting has a definitive role in a child’s d...   \n",
       "3  PMC7839242  Therapeutic agents can be developed via conven...   \n",
       "4  PMC8480667  γ-Aminobutyric acid receptors of class A (GABA...   \n",
       "\n",
       "                                               title  \\\n",
       "0  An automated snoring sound classification meth...   \n",
       "1  Factors Associated With Individual Emergency P...   \n",
       "2  Are there any changes in mothers' attitudes? A...   \n",
       "3  Glucagon-like peptide-1 receptor mediates the ...   \n",
       "4  Encephalitis patient-derived monoclonal GABAA ...   \n",
       "\n",
       "                                             authors  confidence_score  \n",
       "0  ['Turker  Tuncer ', 'Erhan  Akbal ', 'Sengul  ...          0.079043  \n",
       "1  ['Ning  Ning ', 'Man  Hu ', 'Jin  Qiao ', 'Cha...          0.064809  \n",
       "2               ['Mehmet  Toran ', 'Bülent  Özden ']          0.064386  \n",
       "3  ['Wenyong  Zhou ', 'Weijuan  Shao ', 'Yu  Zhan...          0.045658  \n",
       "4  ['Jakob  Kreye ', 'Sukhvir K. Wright ', 'Adria...          0.037851  "
      ]
     },
     "execution_count": 84,
     "metadata": {},
     "output_type": "execute_result"
    }
   ],
   "source": [
    "#Passing Flag to use Cosine similarity\n",
    "start_time = time.time()\n",
    "query1 = \"What are the symptoms of COVID-19?\"\n",
    "# query1 = \"Which are the main effects of covid-19 in people?\"\n",
    "# t1 = textmatch()\n",
    "q1c = t1.text_matching(query1,1)\n",
    "print(f'Time taken For Cosine Similarity: {(time.time() - start_time)} seconds')\n",
    "q1c"
   ]
  },
  {
   "cell_type": "markdown",
   "id": "ZbfoJNIAZBTW",
   "metadata": {
    "id": "ZbfoJNIAZBTW"
   },
   "source": [
    "---\n",
    "<table  border=\"1\" style=\"border:2px solid black;\">\n",
    "<caption>Time taken by different embeddings</caption>\n",
    "  <tr>\n",
    "    <th>Embedding type</th>\n",
    "    <th>Time Taken</th>\n",
    "  </tr>\n",
    "  <tr>\n",
    "    <td>TF-IDF</td>\n",
    "    <td>0.12444567680358887 seconds</td>\n",
    "  </tr>\n",
    "  <tr>\n",
    "    <td>Spacey Word-vector Embedings</td>\n",
    "    <td>0.0564267635345459 seconds</td>\n",
    "  </tr>\n",
    "  <tr>\n",
    "    <td>Custom Word-vector Embeddings</td>\n",
    "    <td>1.1071641445159912 seconds</td>\n",
    "  </tr>\n",
    "</table>\n",
    "\n",
    "---"
   ]
  },
  {
   "cell_type": "markdown",
   "id": "vdGUDIbTxs0Y",
   "metadata": {
    "id": "vdGUDIbTxs0Y"
   },
   "source": [
    "###### query2 = \"how to use face masks?\"\n",
    "\n",
    "\n",
    "\n",
    "\n"
   ]
  },
  {
   "cell_type": "code",
   "execution_count": null,
   "id": "Q_GLm7umphXg",
   "metadata": {
    "colab": {
     "base_uri": "https://localhost:8080/",
     "height": 224
    },
    "id": "Q_GLm7umphXg",
    "outputId": "71c86f15-6be3-4db6-a21b-802dfe8c4698"
   },
   "outputs": [
    {
     "name": "stderr",
     "output_type": "stream",
     "text": [
      "100%|██████████| 6/6 [00:00<00:00, 1079.75it/s]\n"
     ]
    },
    {
     "data": {
      "text/html": [
       "\n",
       "  <div id=\"df-2c4811fe-3abc-4a54-a7b3-ac48ad6f3fc4\">\n",
       "    <div class=\"colab-df-container\">\n",
       "      <div>\n",
       "<style scoped>\n",
       "    .dataframe tbody tr th:only-of-type {\n",
       "        vertical-align: middle;\n",
       "    }\n",
       "\n",
       "    .dataframe tbody tr th {\n",
       "        vertical-align: top;\n",
       "    }\n",
       "\n",
       "    .dataframe thead th {\n",
       "        text-align: right;\n",
       "    }\n",
       "</style>\n",
       "<table border=\"1\" class=\"dataframe\">\n",
       "  <thead>\n",
       "    <tr style=\"text-align: right;\">\n",
       "      <th></th>\n",
       "      <th>paper_id</th>\n",
       "      <th>Snippet</th>\n",
       "      <th>title</th>\n",
       "      <th>authors</th>\n",
       "      <th>confidence_score</th>\n",
       "    </tr>\n",
       "  </thead>\n",
       "  <tbody>\n",
       "    <tr>\n",
       "      <th>0</th>\n",
       "      <td>PMC8610010</td>\n",
       "      <td>With over 180 million cases and over 4 million...</td>\n",
       "      <td>COVID-19 Knowledge Extractor (COKE): A Curated...</td>\n",
       "      <td>['Daniel  Korn ', 'Vera  Pervitsky ', 'Tesia  ...</td>\n",
       "      <td>0.050521</td>\n",
       "    </tr>\n",
       "    <tr>\n",
       "      <th>1</th>\n",
       "      <td>PMC8450381</td>\n",
       "      <td>Venipuncture is one of the most common clinica...</td>\n",
       "      <td>Visualizing veins from color images under vary...</td>\n",
       "      <td>['Ru  Jia ', 'Chaoying  Tang ', 'Biao  Wang ']</td>\n",
       "      <td>-0.007829</td>\n",
       "    </tr>\n",
       "    <tr>\n",
       "      <th>2</th>\n",
       "      <td>PMC7426871</td>\n",
       "      <td>The rapid global spread of SARS-CoV-2 and the ...</td>\n",
       "      <td>Face mask use in the general population and op...</td>\n",
       "      <td>['Colin J. Worby ', 'Hsiao-Han  Chang ']</td>\n",
       "      <td>-0.018166</td>\n",
       "    </tr>\n",
       "    <tr>\n",
       "      <th>3</th>\n",
       "      <td>PMC8956206</td>\n",
       "      <td>Cognitive errors account for a large number of...</td>\n",
       "      <td>Creating a healthcare variant CYNEFIN framewor...</td>\n",
       "      <td>['Paul James Lane ', 'Robyn  Clay-Williams ', ...</td>\n",
       "      <td>-0.021521</td>\n",
       "    </tr>\n",
       "    <tr>\n",
       "      <th>4</th>\n",
       "      <td>PMC8404176</td>\n",
       "      <td>Trade agreements affect public health and heal...</td>\n",
       "      <td>When actions do not match aspirations - compar...</td>\n",
       "      <td>['Meri  Koivusalo ', 'Noora  Heinonen ', 'Liin...</td>\n",
       "      <td>-0.026948</td>\n",
       "    </tr>\n",
       "  </tbody>\n",
       "</table>\n",
       "</div>\n",
       "      <button class=\"colab-df-convert\" onclick=\"convertToInteractive('df-2c4811fe-3abc-4a54-a7b3-ac48ad6f3fc4')\"\n",
       "              title=\"Convert this dataframe to an interactive table.\"\n",
       "              style=\"display:none;\">\n",
       "        \n",
       "  <svg xmlns=\"http://www.w3.org/2000/svg\" height=\"24px\"viewBox=\"0 0 24 24\"\n",
       "       width=\"24px\">\n",
       "    <path d=\"M0 0h24v24H0V0z\" fill=\"none\"/>\n",
       "    <path d=\"M18.56 5.44l.94 2.06.94-2.06 2.06-.94-2.06-.94-.94-2.06-.94 2.06-2.06.94zm-11 1L8.5 8.5l.94-2.06 2.06-.94-2.06-.94L8.5 2.5l-.94 2.06-2.06.94zm10 10l.94 2.06.94-2.06 2.06-.94-2.06-.94-.94-2.06-.94 2.06-2.06.94z\"/><path d=\"M17.41 7.96l-1.37-1.37c-.4-.4-.92-.59-1.43-.59-.52 0-1.04.2-1.43.59L10.3 9.45l-7.72 7.72c-.78.78-.78 2.05 0 2.83L4 21.41c.39.39.9.59 1.41.59.51 0 1.02-.2 1.41-.59l7.78-7.78 2.81-2.81c.8-.78.8-2.07 0-2.86zM5.41 20L4 18.59l7.72-7.72 1.47 1.35L5.41 20z\"/>\n",
       "  </svg>\n",
       "      </button>\n",
       "      \n",
       "  <style>\n",
       "    .colab-df-container {\n",
       "      display:flex;\n",
       "      flex-wrap:wrap;\n",
       "      gap: 12px;\n",
       "    }\n",
       "\n",
       "    .colab-df-convert {\n",
       "      background-color: #E8F0FE;\n",
       "      border: none;\n",
       "      border-radius: 50%;\n",
       "      cursor: pointer;\n",
       "      display: none;\n",
       "      fill: #1967D2;\n",
       "      height: 32px;\n",
       "      padding: 0 0 0 0;\n",
       "      width: 32px;\n",
       "    }\n",
       "\n",
       "    .colab-df-convert:hover {\n",
       "      background-color: #E2EBFA;\n",
       "      box-shadow: 0px 1px 2px rgba(60, 64, 67, 0.3), 0px 1px 3px 1px rgba(60, 64, 67, 0.15);\n",
       "      fill: #174EA6;\n",
       "    }\n",
       "\n",
       "    [theme=dark] .colab-df-convert {\n",
       "      background-color: #3B4455;\n",
       "      fill: #D2E3FC;\n",
       "    }\n",
       "\n",
       "    [theme=dark] .colab-df-convert:hover {\n",
       "      background-color: #434B5C;\n",
       "      box-shadow: 0px 1px 3px 1px rgba(0, 0, 0, 0.15);\n",
       "      filter: drop-shadow(0px 1px 2px rgba(0, 0, 0, 0.3));\n",
       "      fill: #FFFFFF;\n",
       "    }\n",
       "  </style>\n",
       "\n",
       "      <script>\n",
       "        const buttonEl =\n",
       "          document.querySelector('#df-2c4811fe-3abc-4a54-a7b3-ac48ad6f3fc4 button.colab-df-convert');\n",
       "        buttonEl.style.display =\n",
       "          google.colab.kernel.accessAllowed ? 'block' : 'none';\n",
       "\n",
       "        async function convertToInteractive(key) {\n",
       "          const element = document.querySelector('#df-2c4811fe-3abc-4a54-a7b3-ac48ad6f3fc4');\n",
       "          const dataTable =\n",
       "            await google.colab.kernel.invokeFunction('convertToInteractive',\n",
       "                                                     [key], {});\n",
       "          if (!dataTable) return;\n",
       "\n",
       "          const docLinkHtml = 'Like what you see? Visit the ' +\n",
       "            '<a target=\"_blank\" href=https://colab.research.google.com/notebooks/data_table.ipynb>data table notebook</a>'\n",
       "            + ' to learn more about interactive tables.';\n",
       "          element.innerHTML = '';\n",
       "          dataTable['output_type'] = 'display_data';\n",
       "          await google.colab.output.renderOutput(dataTable, element);\n",
       "          const docLink = document.createElement('div');\n",
       "          docLink.innerHTML = docLinkHtml;\n",
       "          element.appendChild(docLink);\n",
       "        }\n",
       "      </script>\n",
       "    </div>\n",
       "  </div>\n",
       "  "
      ],
      "text/plain": [
       "     paper_id                                            Snippet  \\\n",
       "0  PMC8610010  With over 180 million cases and over 4 million...   \n",
       "1  PMC8450381  Venipuncture is one of the most common clinica...   \n",
       "2  PMC7426871  The rapid global spread of SARS-CoV-2 and the ...   \n",
       "3  PMC8956206  Cognitive errors account for a large number of...   \n",
       "4  PMC8404176  Trade agreements affect public health and heal...   \n",
       "\n",
       "                                               title  \\\n",
       "0  COVID-19 Knowledge Extractor (COKE): A Curated...   \n",
       "1  Visualizing veins from color images under vary...   \n",
       "2  Face mask use in the general population and op...   \n",
       "3  Creating a healthcare variant CYNEFIN framewor...   \n",
       "4  When actions do not match aspirations - compar...   \n",
       "\n",
       "                                             authors  confidence_score  \n",
       "0  ['Daniel  Korn ', 'Vera  Pervitsky ', 'Tesia  ...          0.050521  \n",
       "1     ['Ru  Jia ', 'Chaoying  Tang ', 'Biao  Wang ']         -0.007829  \n",
       "2           ['Colin J. Worby ', 'Hsiao-Han  Chang ']         -0.018166  \n",
       "3  ['Paul James Lane ', 'Robyn  Clay-Williams ', ...         -0.021521  \n",
       "4  ['Meri  Koivusalo ', 'Noora  Heinonen ', 'Liin...         -0.026948  "
      ]
     },
     "execution_count": 100,
     "metadata": {},
     "output_type": "execute_result"
    }
   ],
   "source": [
    "#Passing Flag to use Custom similarity\n",
    "query2 = \"how to use face masks?\"\n",
    "t2 = textmatch()\n",
    "q2custom = t2.text_matching(query2,3)\n",
    "q2custom"
   ]
  },
  {
   "cell_type": "code",
   "execution_count": null,
   "id": "_j9FAxOYp4yv",
   "metadata": {
    "colab": {
     "base_uri": "https://localhost:8080/",
     "height": 224
    },
    "id": "_j9FAxOYp4yv",
    "outputId": "0a959be5-0ab4-47ee-f0d5-0751bcf7c415"
   },
   "outputs": [
    {
     "name": "stderr",
     "output_type": "stream",
     "text": [
      "100%|██████████| 6/6 [00:00<00:00, 353.88it/s]\n"
     ]
    },
    {
     "data": {
      "text/html": [
       "\n",
       "  <div id=\"df-10fddb2b-6708-4ba7-b6c5-59eb6ad47f7a\">\n",
       "    <div class=\"colab-df-container\">\n",
       "      <div>\n",
       "<style scoped>\n",
       "    .dataframe tbody tr th:only-of-type {\n",
       "        vertical-align: middle;\n",
       "    }\n",
       "\n",
       "    .dataframe tbody tr th {\n",
       "        vertical-align: top;\n",
       "    }\n",
       "\n",
       "    .dataframe thead th {\n",
       "        text-align: right;\n",
       "    }\n",
       "</style>\n",
       "<table border=\"1\" class=\"dataframe\">\n",
       "  <thead>\n",
       "    <tr style=\"text-align: right;\">\n",
       "      <th></th>\n",
       "      <th>paper_id</th>\n",
       "      <th>Snippet</th>\n",
       "      <th>title</th>\n",
       "      <th>authors</th>\n",
       "      <th>confidence_score</th>\n",
       "    </tr>\n",
       "  </thead>\n",
       "  <tbody>\n",
       "    <tr>\n",
       "      <th>0</th>\n",
       "      <td>PMC7426871</td>\n",
       "      <td>The rapid global spread of SARS-CoV-2 and the ...</td>\n",
       "      <td>Face mask use in the general population and op...</td>\n",
       "      <td>['Colin J. Worby ', 'Hsiao-Han  Chang ']</td>\n",
       "      <td>0.626958</td>\n",
       "    </tr>\n",
       "    <tr>\n",
       "      <th>1</th>\n",
       "      <td>PMC8450381</td>\n",
       "      <td>Venipuncture is one of the most common clinica...</td>\n",
       "      <td>Visualizing veins from color images under vary...</td>\n",
       "      <td>['Ru  Jia ', 'Chaoying  Tang ', 'Biao  Wang ']</td>\n",
       "      <td>0.604581</td>\n",
       "    </tr>\n",
       "    <tr>\n",
       "      <th>2</th>\n",
       "      <td>PMC8610010</td>\n",
       "      <td>With over 180 million cases and over 4 million...</td>\n",
       "      <td>COVID-19 Knowledge Extractor (COKE): A Curated...</td>\n",
       "      <td>['Daniel  Korn ', 'Vera  Pervitsky ', 'Tesia  ...</td>\n",
       "      <td>0.588278</td>\n",
       "    </tr>\n",
       "    <tr>\n",
       "      <th>3</th>\n",
       "      <td>PMC8220426</td>\n",
       "      <td>The novel coronavirus in Brazil arrived in a s...</td>\n",
       "      <td>Misinformation on social networks during the n...</td>\n",
       "      <td>['Priscila  Biancovilli ', 'Lilla  Makszin ', ...</td>\n",
       "      <td>0.532034</td>\n",
       "    </tr>\n",
       "    <tr>\n",
       "      <th>4</th>\n",
       "      <td>PMC8404176</td>\n",
       "      <td>Trade agreements affect public health and heal...</td>\n",
       "      <td>When actions do not match aspirations - compar...</td>\n",
       "      <td>['Meri  Koivusalo ', 'Noora  Heinonen ', 'Liin...</td>\n",
       "      <td>0.525726</td>\n",
       "    </tr>\n",
       "  </tbody>\n",
       "</table>\n",
       "</div>\n",
       "      <button class=\"colab-df-convert\" onclick=\"convertToInteractive('df-10fddb2b-6708-4ba7-b6c5-59eb6ad47f7a')\"\n",
       "              title=\"Convert this dataframe to an interactive table.\"\n",
       "              style=\"display:none;\">\n",
       "        \n",
       "  <svg xmlns=\"http://www.w3.org/2000/svg\" height=\"24px\"viewBox=\"0 0 24 24\"\n",
       "       width=\"24px\">\n",
       "    <path d=\"M0 0h24v24H0V0z\" fill=\"none\"/>\n",
       "    <path d=\"M18.56 5.44l.94 2.06.94-2.06 2.06-.94-2.06-.94-.94-2.06-.94 2.06-2.06.94zm-11 1L8.5 8.5l.94-2.06 2.06-.94-2.06-.94L8.5 2.5l-.94 2.06-2.06.94zm10 10l.94 2.06.94-2.06 2.06-.94-2.06-.94-.94-2.06-.94 2.06-2.06.94z\"/><path d=\"M17.41 7.96l-1.37-1.37c-.4-.4-.92-.59-1.43-.59-.52 0-1.04.2-1.43.59L10.3 9.45l-7.72 7.72c-.78.78-.78 2.05 0 2.83L4 21.41c.39.39.9.59 1.41.59.51 0 1.02-.2 1.41-.59l7.78-7.78 2.81-2.81c.8-.78.8-2.07 0-2.86zM5.41 20L4 18.59l7.72-7.72 1.47 1.35L5.41 20z\"/>\n",
       "  </svg>\n",
       "      </button>\n",
       "      \n",
       "  <style>\n",
       "    .colab-df-container {\n",
       "      display:flex;\n",
       "      flex-wrap:wrap;\n",
       "      gap: 12px;\n",
       "    }\n",
       "\n",
       "    .colab-df-convert {\n",
       "      background-color: #E8F0FE;\n",
       "      border: none;\n",
       "      border-radius: 50%;\n",
       "      cursor: pointer;\n",
       "      display: none;\n",
       "      fill: #1967D2;\n",
       "      height: 32px;\n",
       "      padding: 0 0 0 0;\n",
       "      width: 32px;\n",
       "    }\n",
       "\n",
       "    .colab-df-convert:hover {\n",
       "      background-color: #E2EBFA;\n",
       "      box-shadow: 0px 1px 2px rgba(60, 64, 67, 0.3), 0px 1px 3px 1px rgba(60, 64, 67, 0.15);\n",
       "      fill: #174EA6;\n",
       "    }\n",
       "\n",
       "    [theme=dark] .colab-df-convert {\n",
       "      background-color: #3B4455;\n",
       "      fill: #D2E3FC;\n",
       "    }\n",
       "\n",
       "    [theme=dark] .colab-df-convert:hover {\n",
       "      background-color: #434B5C;\n",
       "      box-shadow: 0px 1px 3px 1px rgba(0, 0, 0, 0.15);\n",
       "      filter: drop-shadow(0px 1px 2px rgba(0, 0, 0, 0.3));\n",
       "      fill: #FFFFFF;\n",
       "    }\n",
       "  </style>\n",
       "\n",
       "      <script>\n",
       "        const buttonEl =\n",
       "          document.querySelector('#df-10fddb2b-6708-4ba7-b6c5-59eb6ad47f7a button.colab-df-convert');\n",
       "        buttonEl.style.display =\n",
       "          google.colab.kernel.accessAllowed ? 'block' : 'none';\n",
       "\n",
       "        async function convertToInteractive(key) {\n",
       "          const element = document.querySelector('#df-10fddb2b-6708-4ba7-b6c5-59eb6ad47f7a');\n",
       "          const dataTable =\n",
       "            await google.colab.kernel.invokeFunction('convertToInteractive',\n",
       "                                                     [key], {});\n",
       "          if (!dataTable) return;\n",
       "\n",
       "          const docLinkHtml = 'Like what you see? Visit the ' +\n",
       "            '<a target=\"_blank\" href=https://colab.research.google.com/notebooks/data_table.ipynb>data table notebook</a>'\n",
       "            + ' to learn more about interactive tables.';\n",
       "          element.innerHTML = '';\n",
       "          dataTable['output_type'] = 'display_data';\n",
       "          await google.colab.output.renderOutput(dataTable, element);\n",
       "          const docLink = document.createElement('div');\n",
       "          docLink.innerHTML = docLinkHtml;\n",
       "          element.appendChild(docLink);\n",
       "        }\n",
       "      </script>\n",
       "    </div>\n",
       "  </div>\n",
       "  "
      ],
      "text/plain": [
       "     paper_id                                            Snippet  \\\n",
       "0  PMC7426871  The rapid global spread of SARS-CoV-2 and the ...   \n",
       "1  PMC8450381  Venipuncture is one of the most common clinica...   \n",
       "2  PMC8610010  With over 180 million cases and over 4 million...   \n",
       "3  PMC8220426  The novel coronavirus in Brazil arrived in a s...   \n",
       "4  PMC8404176  Trade agreements affect public health and heal...   \n",
       "\n",
       "                                               title  \\\n",
       "0  Face mask use in the general population and op...   \n",
       "1  Visualizing veins from color images under vary...   \n",
       "2  COVID-19 Knowledge Extractor (COKE): A Curated...   \n",
       "3  Misinformation on social networks during the n...   \n",
       "4  When actions do not match aspirations - compar...   \n",
       "\n",
       "                                             authors  confidence_score  \n",
       "0           ['Colin J. Worby ', 'Hsiao-Han  Chang ']          0.626958  \n",
       "1     ['Ru  Jia ', 'Chaoying  Tang ', 'Biao  Wang ']          0.604581  \n",
       "2  ['Daniel  Korn ', 'Vera  Pervitsky ', 'Tesia  ...          0.588278  \n",
       "3  ['Priscila  Biancovilli ', 'Lilla  Makszin ', ...          0.532034  \n",
       "4  ['Meri  Koivusalo ', 'Noora  Heinonen ', 'Liin...          0.525726  "
      ]
     },
     "execution_count": 90,
     "metadata": {},
     "output_type": "execute_result"
    }
   ],
   "source": [
    "#Passing Flag to use Spacy Word-embedings similarity\n",
    "query2 = \"how to use face masks?\"\n",
    "t2 = textmatch()\n",
    "q2spacy = t2.text_matching(query2,2)\n",
    "q2spacy"
   ]
  },
  {
   "cell_type": "code",
   "execution_count": null,
   "id": "PFwQXB154ZjF",
   "metadata": {
    "colab": {
     "base_uri": "https://localhost:8080/",
     "height": 206
    },
    "id": "PFwQXB154ZjF",
    "outputId": "82f422c0-bb73-43ad-d470-f052f5698658"
   },
   "outputs": [
    {
     "data": {
      "text/html": [
       "\n",
       "  <div id=\"df-84be8682-65f3-4466-bd86-32188b397669\">\n",
       "    <div class=\"colab-df-container\">\n",
       "      <div>\n",
       "<style scoped>\n",
       "    .dataframe tbody tr th:only-of-type {\n",
       "        vertical-align: middle;\n",
       "    }\n",
       "\n",
       "    .dataframe tbody tr th {\n",
       "        vertical-align: top;\n",
       "    }\n",
       "\n",
       "    .dataframe thead th {\n",
       "        text-align: right;\n",
       "    }\n",
       "</style>\n",
       "<table border=\"1\" class=\"dataframe\">\n",
       "  <thead>\n",
       "    <tr style=\"text-align: right;\">\n",
       "      <th></th>\n",
       "      <th>paper_id</th>\n",
       "      <th>Snippet</th>\n",
       "      <th>title</th>\n",
       "      <th>authors</th>\n",
       "      <th>confidence_score</th>\n",
       "    </tr>\n",
       "  </thead>\n",
       "  <tbody>\n",
       "    <tr>\n",
       "      <th>0</th>\n",
       "      <td>PMC7426871</td>\n",
       "      <td>The rapid global spread of SARS-CoV-2 and the ...</td>\n",
       "      <td>Face mask use in the general population and op...</td>\n",
       "      <td>['Colin J. Worby ', 'Hsiao-Han  Chang ']</td>\n",
       "      <td>0.082721</td>\n",
       "    </tr>\n",
       "    <tr>\n",
       "      <th>1</th>\n",
       "      <td>PMC8610010</td>\n",
       "      <td>With over 180 million cases and over 4 million...</td>\n",
       "      <td>COVID-19 Knowledge Extractor (COKE): A Curated...</td>\n",
       "      <td>['Daniel  Korn ', 'Vera  Pervitsky ', 'Tesia  ...</td>\n",
       "      <td>0.032646</td>\n",
       "    </tr>\n",
       "    <tr>\n",
       "      <th>2</th>\n",
       "      <td>PMC8956206</td>\n",
       "      <td>Cognitive errors account for a large number of...</td>\n",
       "      <td>Creating a healthcare variant CYNEFIN framewor...</td>\n",
       "      <td>['Paul James Lane ', 'Robyn  Clay-Williams ', ...</td>\n",
       "      <td>0.017894</td>\n",
       "    </tr>\n",
       "    <tr>\n",
       "      <th>3</th>\n",
       "      <td>PMC8450381</td>\n",
       "      <td>Venipuncture is one of the most common clinica...</td>\n",
       "      <td>Visualizing veins from color images under vary...</td>\n",
       "      <td>['Ru  Jia ', 'Chaoying  Tang ', 'Biao  Wang ']</td>\n",
       "      <td>0.013989</td>\n",
       "    </tr>\n",
       "    <tr>\n",
       "      <th>4</th>\n",
       "      <td>PMC8404176</td>\n",
       "      <td>Trade agreements affect public health and heal...</td>\n",
       "      <td>When actions do not match aspirations - compar...</td>\n",
       "      <td>['Meri  Koivusalo ', 'Noora  Heinonen ', 'Liin...</td>\n",
       "      <td>0.008918</td>\n",
       "    </tr>\n",
       "  </tbody>\n",
       "</table>\n",
       "</div>\n",
       "      <button class=\"colab-df-convert\" onclick=\"convertToInteractive('df-84be8682-65f3-4466-bd86-32188b397669')\"\n",
       "              title=\"Convert this dataframe to an interactive table.\"\n",
       "              style=\"display:none;\">\n",
       "        \n",
       "  <svg xmlns=\"http://www.w3.org/2000/svg\" height=\"24px\"viewBox=\"0 0 24 24\"\n",
       "       width=\"24px\">\n",
       "    <path d=\"M0 0h24v24H0V0z\" fill=\"none\"/>\n",
       "    <path d=\"M18.56 5.44l.94 2.06.94-2.06 2.06-.94-2.06-.94-.94-2.06-.94 2.06-2.06.94zm-11 1L8.5 8.5l.94-2.06 2.06-.94-2.06-.94L8.5 2.5l-.94 2.06-2.06.94zm10 10l.94 2.06.94-2.06 2.06-.94-2.06-.94-.94-2.06-.94 2.06-2.06.94z\"/><path d=\"M17.41 7.96l-1.37-1.37c-.4-.4-.92-.59-1.43-.59-.52 0-1.04.2-1.43.59L10.3 9.45l-7.72 7.72c-.78.78-.78 2.05 0 2.83L4 21.41c.39.39.9.59 1.41.59.51 0 1.02-.2 1.41-.59l7.78-7.78 2.81-2.81c.8-.78.8-2.07 0-2.86zM5.41 20L4 18.59l7.72-7.72 1.47 1.35L5.41 20z\"/>\n",
       "  </svg>\n",
       "      </button>\n",
       "      \n",
       "  <style>\n",
       "    .colab-df-container {\n",
       "      display:flex;\n",
       "      flex-wrap:wrap;\n",
       "      gap: 12px;\n",
       "    }\n",
       "\n",
       "    .colab-df-convert {\n",
       "      background-color: #E8F0FE;\n",
       "      border: none;\n",
       "      border-radius: 50%;\n",
       "      cursor: pointer;\n",
       "      display: none;\n",
       "      fill: #1967D2;\n",
       "      height: 32px;\n",
       "      padding: 0 0 0 0;\n",
       "      width: 32px;\n",
       "    }\n",
       "\n",
       "    .colab-df-convert:hover {\n",
       "      background-color: #E2EBFA;\n",
       "      box-shadow: 0px 1px 2px rgba(60, 64, 67, 0.3), 0px 1px 3px 1px rgba(60, 64, 67, 0.15);\n",
       "      fill: #174EA6;\n",
       "    }\n",
       "\n",
       "    [theme=dark] .colab-df-convert {\n",
       "      background-color: #3B4455;\n",
       "      fill: #D2E3FC;\n",
       "    }\n",
       "\n",
       "    [theme=dark] .colab-df-convert:hover {\n",
       "      background-color: #434B5C;\n",
       "      box-shadow: 0px 1px 3px 1px rgba(0, 0, 0, 0.15);\n",
       "      filter: drop-shadow(0px 1px 2px rgba(0, 0, 0, 0.3));\n",
       "      fill: #FFFFFF;\n",
       "    }\n",
       "  </style>\n",
       "\n",
       "      <script>\n",
       "        const buttonEl =\n",
       "          document.querySelector('#df-84be8682-65f3-4466-bd86-32188b397669 button.colab-df-convert');\n",
       "        buttonEl.style.display =\n",
       "          google.colab.kernel.accessAllowed ? 'block' : 'none';\n",
       "\n",
       "        async function convertToInteractive(key) {\n",
       "          const element = document.querySelector('#df-84be8682-65f3-4466-bd86-32188b397669');\n",
       "          const dataTable =\n",
       "            await google.colab.kernel.invokeFunction('convertToInteractive',\n",
       "                                                     [key], {});\n",
       "          if (!dataTable) return;\n",
       "\n",
       "          const docLinkHtml = 'Like what you see? Visit the ' +\n",
       "            '<a target=\"_blank\" href=https://colab.research.google.com/notebooks/data_table.ipynb>data table notebook</a>'\n",
       "            + ' to learn more about interactive tables.';\n",
       "          element.innerHTML = '';\n",
       "          dataTable['output_type'] = 'display_data';\n",
       "          await google.colab.output.renderOutput(dataTable, element);\n",
       "          const docLink = document.createElement('div');\n",
       "          docLink.innerHTML = docLinkHtml;\n",
       "          element.appendChild(docLink);\n",
       "        }\n",
       "      </script>\n",
       "    </div>\n",
       "  </div>\n",
       "  "
      ],
      "text/plain": [
       "     paper_id                                            Snippet  \\\n",
       "0  PMC7426871  The rapid global spread of SARS-CoV-2 and the ...   \n",
       "1  PMC8610010  With over 180 million cases and over 4 million...   \n",
       "2  PMC8956206  Cognitive errors account for a large number of...   \n",
       "3  PMC8450381  Venipuncture is one of the most common clinica...   \n",
       "4  PMC8404176  Trade agreements affect public health and heal...   \n",
       "\n",
       "                                               title  \\\n",
       "0  Face mask use in the general population and op...   \n",
       "1  COVID-19 Knowledge Extractor (COKE): A Curated...   \n",
       "2  Creating a healthcare variant CYNEFIN framewor...   \n",
       "3  Visualizing veins from color images under vary...   \n",
       "4  When actions do not match aspirations - compar...   \n",
       "\n",
       "                                             authors  confidence_score  \n",
       "0           ['Colin J. Worby ', 'Hsiao-Han  Chang ']          0.082721  \n",
       "1  ['Daniel  Korn ', 'Vera  Pervitsky ', 'Tesia  ...          0.032646  \n",
       "2  ['Paul James Lane ', 'Robyn  Clay-Williams ', ...          0.017894  \n",
       "3     ['Ru  Jia ', 'Chaoying  Tang ', 'Biao  Wang ']          0.013989  \n",
       "4  ['Meri  Koivusalo ', 'Noora  Heinonen ', 'Liin...          0.008918  "
      ]
     },
     "execution_count": 134,
     "metadata": {},
     "output_type": "execute_result"
    }
   ],
   "source": [
    "#Passing Flag to use Cosine similarity\n",
    "query2 = \"how to use face masks?\"\n",
    "t2 = textmatch()\n",
    "q2c = t2.text_matching(query2,1)\n",
    "q2c"
   ]
  },
  {
   "cell_type": "markdown",
   "id": "uRQ0C-hUORui",
   "metadata": {
    "id": "uRQ0C-hUORui"
   },
   "source": [
    "###### query3 = \"Which city did covid-19 start from?\"\n",
    "\n"
   ]
  },
  {
   "cell_type": "code",
   "execution_count": null,
   "id": "8eb74cae",
   "metadata": {
    "colab": {
     "base_uri": "https://localhost:8080/",
     "height": 224
    },
    "id": "8eb74cae",
    "outputId": "8e993d07-3105-4894-d127-89e895216b87"
   },
   "outputs": [
    {
     "name": "stderr",
     "output_type": "stream",
     "text": [
      "100%|██████████| 351/351 [00:00<00:00, 961.68it/s]\n"
     ]
    },
    {
     "data": {
      "text/html": [
       "\n",
       "  <div id=\"df-db835162-3d22-428b-bf1f-c80efd5b2d9b\">\n",
       "    <div class=\"colab-df-container\">\n",
       "      <div>\n",
       "<style scoped>\n",
       "    .dataframe tbody tr th:only-of-type {\n",
       "        vertical-align: middle;\n",
       "    }\n",
       "\n",
       "    .dataframe tbody tr th {\n",
       "        vertical-align: top;\n",
       "    }\n",
       "\n",
       "    .dataframe thead th {\n",
       "        text-align: right;\n",
       "    }\n",
       "</style>\n",
       "<table border=\"1\" class=\"dataframe\">\n",
       "  <thead>\n",
       "    <tr style=\"text-align: right;\">\n",
       "      <th></th>\n",
       "      <th>paper_id</th>\n",
       "      <th>Snippet</th>\n",
       "      <th>title</th>\n",
       "      <th>authors</th>\n",
       "      <th>confidence_score</th>\n",
       "    </tr>\n",
       "  </thead>\n",
       "  <tbody>\n",
       "    <tr>\n",
       "      <th>0</th>\n",
       "      <td>PMC8610010</td>\n",
       "      <td>With over 180 million cases and over 4 million...</td>\n",
       "      <td>COVID-19 Knowledge Extractor (COKE): A Curated...</td>\n",
       "      <td>['Daniel  Korn ', 'Vera  Pervitsky ', 'Tesia  ...</td>\n",
       "      <td>0.202822</td>\n",
       "    </tr>\n",
       "    <tr>\n",
       "      <th>1</th>\n",
       "      <td>PMC8930843</td>\n",
       "      <td>Liver diseases, with their high morbidity and ...</td>\n",
       "      <td>Mesenchymal Stem Cell-Derived Extracellular Ve...</td>\n",
       "      <td>['Ruiqi  Wu ', 'Xiaoli  Fan ', 'Yi  Wang ', 'M...</td>\n",
       "      <td>0.188143</td>\n",
       "    </tr>\n",
       "    <tr>\n",
       "      <th>2</th>\n",
       "      <td>PMC7967750</td>\n",
       "      <td>In December 2019, a highly infectious acute re...</td>\n",
       "      <td>From Recession to Depression? Prevalence and C...</td>\n",
       "      <td>['Sofia  Pappa ', 'Nikolaos  Athanasiou ', 'Ni...</td>\n",
       "      <td>0.163636</td>\n",
       "    </tr>\n",
       "    <tr>\n",
       "      <th>3</th>\n",
       "      <td>PMC7115778</td>\n",
       "      <td>The physician–patient interaction is central t...</td>\n",
       "      <td>What do Patients Want From Their Radiation Onc...</td>\n",
       "      <td>['Ajay K. Bhatnagar ', 'Stephanie R. Land ', '...</td>\n",
       "      <td>0.156799</td>\n",
       "    </tr>\n",
       "    <tr>\n",
       "      <th>4</th>\n",
       "      <td>PMC7087916</td>\n",
       "      <td>Rabies is an acute contagious infection of the...</td>\n",
       "      <td>Enhanced Expression of Rabies Virus Surface G-...</td>\n",
       "      <td>['Ankit  Singh ', 'Dinesh  Yadav ', 'Krishan M...</td>\n",
       "      <td>0.111964</td>\n",
       "    </tr>\n",
       "  </tbody>\n",
       "</table>\n",
       "</div>\n",
       "      <button class=\"colab-df-convert\" onclick=\"convertToInteractive('df-db835162-3d22-428b-bf1f-c80efd5b2d9b')\"\n",
       "              title=\"Convert this dataframe to an interactive table.\"\n",
       "              style=\"display:none;\">\n",
       "        \n",
       "  <svg xmlns=\"http://www.w3.org/2000/svg\" height=\"24px\"viewBox=\"0 0 24 24\"\n",
       "       width=\"24px\">\n",
       "    <path d=\"M0 0h24v24H0V0z\" fill=\"none\"/>\n",
       "    <path d=\"M18.56 5.44l.94 2.06.94-2.06 2.06-.94-2.06-.94-.94-2.06-.94 2.06-2.06.94zm-11 1L8.5 8.5l.94-2.06 2.06-.94-2.06-.94L8.5 2.5l-.94 2.06-2.06.94zm10 10l.94 2.06.94-2.06 2.06-.94-2.06-.94-.94-2.06-.94 2.06-2.06.94z\"/><path d=\"M17.41 7.96l-1.37-1.37c-.4-.4-.92-.59-1.43-.59-.52 0-1.04.2-1.43.59L10.3 9.45l-7.72 7.72c-.78.78-.78 2.05 0 2.83L4 21.41c.39.39.9.59 1.41.59.51 0 1.02-.2 1.41-.59l7.78-7.78 2.81-2.81c.8-.78.8-2.07 0-2.86zM5.41 20L4 18.59l7.72-7.72 1.47 1.35L5.41 20z\"/>\n",
       "  </svg>\n",
       "      </button>\n",
       "      \n",
       "  <style>\n",
       "    .colab-df-container {\n",
       "      display:flex;\n",
       "      flex-wrap:wrap;\n",
       "      gap: 12px;\n",
       "    }\n",
       "\n",
       "    .colab-df-convert {\n",
       "      background-color: #E8F0FE;\n",
       "      border: none;\n",
       "      border-radius: 50%;\n",
       "      cursor: pointer;\n",
       "      display: none;\n",
       "      fill: #1967D2;\n",
       "      height: 32px;\n",
       "      padding: 0 0 0 0;\n",
       "      width: 32px;\n",
       "    }\n",
       "\n",
       "    .colab-df-convert:hover {\n",
       "      background-color: #E2EBFA;\n",
       "      box-shadow: 0px 1px 2px rgba(60, 64, 67, 0.3), 0px 1px 3px 1px rgba(60, 64, 67, 0.15);\n",
       "      fill: #174EA6;\n",
       "    }\n",
       "\n",
       "    [theme=dark] .colab-df-convert {\n",
       "      background-color: #3B4455;\n",
       "      fill: #D2E3FC;\n",
       "    }\n",
       "\n",
       "    [theme=dark] .colab-df-convert:hover {\n",
       "      background-color: #434B5C;\n",
       "      box-shadow: 0px 1px 3px 1px rgba(0, 0, 0, 0.15);\n",
       "      filter: drop-shadow(0px 1px 2px rgba(0, 0, 0, 0.3));\n",
       "      fill: #FFFFFF;\n",
       "    }\n",
       "  </style>\n",
       "\n",
       "      <script>\n",
       "        const buttonEl =\n",
       "          document.querySelector('#df-db835162-3d22-428b-bf1f-c80efd5b2d9b button.colab-df-convert');\n",
       "        buttonEl.style.display =\n",
       "          google.colab.kernel.accessAllowed ? 'block' : 'none';\n",
       "\n",
       "        async function convertToInteractive(key) {\n",
       "          const element = document.querySelector('#df-db835162-3d22-428b-bf1f-c80efd5b2d9b');\n",
       "          const dataTable =\n",
       "            await google.colab.kernel.invokeFunction('convertToInteractive',\n",
       "                                                     [key], {});\n",
       "          if (!dataTable) return;\n",
       "\n",
       "          const docLinkHtml = 'Like what you see? Visit the ' +\n",
       "            '<a target=\"_blank\" href=https://colab.research.google.com/notebooks/data_table.ipynb>data table notebook</a>'\n",
       "            + ' to learn more about interactive tables.';\n",
       "          element.innerHTML = '';\n",
       "          dataTable['output_type'] = 'display_data';\n",
       "          await google.colab.output.renderOutput(dataTable, element);\n",
       "          const docLink = document.createElement('div');\n",
       "          docLink.innerHTML = docLinkHtml;\n",
       "          element.appendChild(docLink);\n",
       "        }\n",
       "      </script>\n",
       "    </div>\n",
       "  </div>\n",
       "  "
      ],
      "text/plain": [
       "     paper_id                                            Snippet  \\\n",
       "0  PMC8610010  With over 180 million cases and over 4 million...   \n",
       "1  PMC8930843  Liver diseases, with their high morbidity and ...   \n",
       "2  PMC7967750  In December 2019, a highly infectious acute re...   \n",
       "3  PMC7115778  The physician–patient interaction is central t...   \n",
       "4  PMC7087916  Rabies is an acute contagious infection of the...   \n",
       "\n",
       "                                               title  \\\n",
       "0  COVID-19 Knowledge Extractor (COKE): A Curated...   \n",
       "1  Mesenchymal Stem Cell-Derived Extracellular Ve...   \n",
       "2  From Recession to Depression? Prevalence and C...   \n",
       "3  What do Patients Want From Their Radiation Onc...   \n",
       "4  Enhanced Expression of Rabies Virus Surface G-...   \n",
       "\n",
       "                                             authors  confidence_score  \n",
       "0  ['Daniel  Korn ', 'Vera  Pervitsky ', 'Tesia  ...          0.202822  \n",
       "1  ['Ruiqi  Wu ', 'Xiaoli  Fan ', 'Yi  Wang ', 'M...          0.188143  \n",
       "2  ['Sofia  Pappa ', 'Nikolaos  Athanasiou ', 'Ni...          0.163636  \n",
       "3  ['Ajay K. Bhatnagar ', 'Stephanie R. Land ', '...          0.156799  \n",
       "4  ['Ankit  Singh ', 'Dinesh  Yadav ', 'Krishan M...          0.111964  "
      ]
     },
     "execution_count": 104,
     "metadata": {},
     "output_type": "execute_result"
    }
   ],
   "source": [
    "#Passing Flag to use Custom similarity\n",
    "query3 = \"Which city did covid-19 start from?\"\n",
    "t1 = textmatch( )\n",
    "q3custom = t1.text_matching(query3,3)\n",
    "q3custom"
   ]
  },
  {
   "cell_type": "code",
   "execution_count": null,
   "id": "f05fb04a",
   "metadata": {
    "colab": {
     "base_uri": "https://localhost:8080/",
     "height": 224
    },
    "id": "f05fb04a",
    "outputId": "ee68fb4f-31a8-4964-b708-1a3d51e278fc"
   },
   "outputs": [
    {
     "name": "stderr",
     "output_type": "stream",
     "text": [
      "100%|██████████| 6/6 [00:00<00:00, 10622.97it/s]\n"
     ]
    },
    {
     "data": {
      "text/html": [
       "\n",
       "  <div id=\"df-ba4fe546-20fa-4ad0-8336-ed7c24f56d7b\">\n",
       "    <div class=\"colab-df-container\">\n",
       "      <div>\n",
       "<style scoped>\n",
       "    .dataframe tbody tr th:only-of-type {\n",
       "        vertical-align: middle;\n",
       "    }\n",
       "\n",
       "    .dataframe tbody tr th {\n",
       "        vertical-align: top;\n",
       "    }\n",
       "\n",
       "    .dataframe thead th {\n",
       "        text-align: right;\n",
       "    }\n",
       "</style>\n",
       "<table border=\"1\" class=\"dataframe\">\n",
       "  <thead>\n",
       "    <tr style=\"text-align: right;\">\n",
       "      <th></th>\n",
       "      <th>paper_id</th>\n",
       "      <th>Snippet</th>\n",
       "      <th>title</th>\n",
       "      <th>authors</th>\n",
       "      <th>confidence_score</th>\n",
       "    </tr>\n",
       "  </thead>\n",
       "  <tbody>\n",
       "    <tr>\n",
       "      <th>0</th>\n",
       "      <td>PMC7426871</td>\n",
       "      <td>The rapid global spread of SARS-CoV-2 and the ...</td>\n",
       "      <td>Face mask use in the general population and op...</td>\n",
       "      <td>['Colin J. Worby ', 'Hsiao-Han  Chang ']</td>\n",
       "      <td>0.626958</td>\n",
       "    </tr>\n",
       "    <tr>\n",
       "      <th>1</th>\n",
       "      <td>PMC8450381</td>\n",
       "      <td>Venipuncture is one of the most common clinica...</td>\n",
       "      <td>Visualizing veins from color images under vary...</td>\n",
       "      <td>['Ru  Jia ', 'Chaoying  Tang ', 'Biao  Wang ']</td>\n",
       "      <td>0.604581</td>\n",
       "    </tr>\n",
       "    <tr>\n",
       "      <th>2</th>\n",
       "      <td>PMC8610010</td>\n",
       "      <td>With over 180 million cases and over 4 million...</td>\n",
       "      <td>COVID-19 Knowledge Extractor (COKE): A Curated...</td>\n",
       "      <td>['Daniel  Korn ', 'Vera  Pervitsky ', 'Tesia  ...</td>\n",
       "      <td>0.588278</td>\n",
       "    </tr>\n",
       "    <tr>\n",
       "      <th>3</th>\n",
       "      <td>PMC8220426</td>\n",
       "      <td>The novel coronavirus in Brazil arrived in a s...</td>\n",
       "      <td>Misinformation on social networks during the n...</td>\n",
       "      <td>['Priscila  Biancovilli ', 'Lilla  Makszin ', ...</td>\n",
       "      <td>0.532034</td>\n",
       "    </tr>\n",
       "    <tr>\n",
       "      <th>4</th>\n",
       "      <td>PMC8404176</td>\n",
       "      <td>Trade agreements affect public health and heal...</td>\n",
       "      <td>When actions do not match aspirations - compar...</td>\n",
       "      <td>['Meri  Koivusalo ', 'Noora  Heinonen ', 'Liin...</td>\n",
       "      <td>0.525726</td>\n",
       "    </tr>\n",
       "  </tbody>\n",
       "</table>\n",
       "</div>\n",
       "      <button class=\"colab-df-convert\" onclick=\"convertToInteractive('df-ba4fe546-20fa-4ad0-8336-ed7c24f56d7b')\"\n",
       "              title=\"Convert this dataframe to an interactive table.\"\n",
       "              style=\"display:none;\">\n",
       "        \n",
       "  <svg xmlns=\"http://www.w3.org/2000/svg\" height=\"24px\"viewBox=\"0 0 24 24\"\n",
       "       width=\"24px\">\n",
       "    <path d=\"M0 0h24v24H0V0z\" fill=\"none\"/>\n",
       "    <path d=\"M18.56 5.44l.94 2.06.94-2.06 2.06-.94-2.06-.94-.94-2.06-.94 2.06-2.06.94zm-11 1L8.5 8.5l.94-2.06 2.06-.94-2.06-.94L8.5 2.5l-.94 2.06-2.06.94zm10 10l.94 2.06.94-2.06 2.06-.94-2.06-.94-.94-2.06-.94 2.06-2.06.94z\"/><path d=\"M17.41 7.96l-1.37-1.37c-.4-.4-.92-.59-1.43-.59-.52 0-1.04.2-1.43.59L10.3 9.45l-7.72 7.72c-.78.78-.78 2.05 0 2.83L4 21.41c.39.39.9.59 1.41.59.51 0 1.02-.2 1.41-.59l7.78-7.78 2.81-2.81c.8-.78.8-2.07 0-2.86zM5.41 20L4 18.59l7.72-7.72 1.47 1.35L5.41 20z\"/>\n",
       "  </svg>\n",
       "      </button>\n",
       "      \n",
       "  <style>\n",
       "    .colab-df-container {\n",
       "      display:flex;\n",
       "      flex-wrap:wrap;\n",
       "      gap: 12px;\n",
       "    }\n",
       "\n",
       "    .colab-df-convert {\n",
       "      background-color: #E8F0FE;\n",
       "      border: none;\n",
       "      border-radius: 50%;\n",
       "      cursor: pointer;\n",
       "      display: none;\n",
       "      fill: #1967D2;\n",
       "      height: 32px;\n",
       "      padding: 0 0 0 0;\n",
       "      width: 32px;\n",
       "    }\n",
       "\n",
       "    .colab-df-convert:hover {\n",
       "      background-color: #E2EBFA;\n",
       "      box-shadow: 0px 1px 2px rgba(60, 64, 67, 0.3), 0px 1px 3px 1px rgba(60, 64, 67, 0.15);\n",
       "      fill: #174EA6;\n",
       "    }\n",
       "\n",
       "    [theme=dark] .colab-df-convert {\n",
       "      background-color: #3B4455;\n",
       "      fill: #D2E3FC;\n",
       "    }\n",
       "\n",
       "    [theme=dark] .colab-df-convert:hover {\n",
       "      background-color: #434B5C;\n",
       "      box-shadow: 0px 1px 3px 1px rgba(0, 0, 0, 0.15);\n",
       "      filter: drop-shadow(0px 1px 2px rgba(0, 0, 0, 0.3));\n",
       "      fill: #FFFFFF;\n",
       "    }\n",
       "  </style>\n",
       "\n",
       "      <script>\n",
       "        const buttonEl =\n",
       "          document.querySelector('#df-ba4fe546-20fa-4ad0-8336-ed7c24f56d7b button.colab-df-convert');\n",
       "        buttonEl.style.display =\n",
       "          google.colab.kernel.accessAllowed ? 'block' : 'none';\n",
       "\n",
       "        async function convertToInteractive(key) {\n",
       "          const element = document.querySelector('#df-ba4fe546-20fa-4ad0-8336-ed7c24f56d7b');\n",
       "          const dataTable =\n",
       "            await google.colab.kernel.invokeFunction('convertToInteractive',\n",
       "                                                     [key], {});\n",
       "          if (!dataTable) return;\n",
       "\n",
       "          const docLinkHtml = 'Like what you see? Visit the ' +\n",
       "            '<a target=\"_blank\" href=https://colab.research.google.com/notebooks/data_table.ipynb>data table notebook</a>'\n",
       "            + ' to learn more about interactive tables.';\n",
       "          element.innerHTML = '';\n",
       "          dataTable['output_type'] = 'display_data';\n",
       "          await google.colab.output.renderOutput(dataTable, element);\n",
       "          const docLink = document.createElement('div');\n",
       "          docLink.innerHTML = docLinkHtml;\n",
       "          element.appendChild(docLink);\n",
       "        }\n",
       "      </script>\n",
       "    </div>\n",
       "  </div>\n",
       "  "
      ],
      "text/plain": [
       "     paper_id                                            Snippet  \\\n",
       "0  PMC7426871  The rapid global spread of SARS-CoV-2 and the ...   \n",
       "1  PMC8450381  Venipuncture is one of the most common clinica...   \n",
       "2  PMC8610010  With over 180 million cases and over 4 million...   \n",
       "3  PMC8220426  The novel coronavirus in Brazil arrived in a s...   \n",
       "4  PMC8404176  Trade agreements affect public health and heal...   \n",
       "\n",
       "                                               title  \\\n",
       "0  Face mask use in the general population and op...   \n",
       "1  Visualizing veins from color images under vary...   \n",
       "2  COVID-19 Knowledge Extractor (COKE): A Curated...   \n",
       "3  Misinformation on social networks during the n...   \n",
       "4  When actions do not match aspirations - compar...   \n",
       "\n",
       "                                             authors  confidence_score  \n",
       "0           ['Colin J. Worby ', 'Hsiao-Han  Chang ']          0.626958  \n",
       "1     ['Ru  Jia ', 'Chaoying  Tang ', 'Biao  Wang ']          0.604581  \n",
       "2  ['Daniel  Korn ', 'Vera  Pervitsky ', 'Tesia  ...          0.588278  \n",
       "3  ['Priscila  Biancovilli ', 'Lilla  Makszin ', ...          0.532034  \n",
       "4  ['Meri  Koivusalo ', 'Noora  Heinonen ', 'Liin...          0.525726  "
      ]
     },
     "execution_count": 122,
     "metadata": {},
     "output_type": "execute_result"
    }
   ],
   "source": [
    "#Passing Flag to use Spacy Word-embedings similarity\n",
    "query3 = \"Which city did covid-19 start from?\"\n",
    "# t2 = textmatch()\n",
    "q3spacy = t1.text_matching(query2,2)\n",
    "q3spacy"
   ]
  },
  {
   "cell_type": "code",
   "execution_count": null,
   "id": "1yvtIhhtPJtJ",
   "metadata": {
    "colab": {
     "base_uri": "https://localhost:8080/",
     "height": 206
    },
    "id": "1yvtIhhtPJtJ",
    "outputId": "9641ec62-f138-4e9e-bf8e-1b2da41ac2ba"
   },
   "outputs": [
    {
     "data": {
      "text/html": [
       "\n",
       "  <div id=\"df-8a1916cd-ad2d-411a-9473-e12c55a9db32\">\n",
       "    <div class=\"colab-df-container\">\n",
       "      <div>\n",
       "<style scoped>\n",
       "    .dataframe tbody tr th:only-of-type {\n",
       "        vertical-align: middle;\n",
       "    }\n",
       "\n",
       "    .dataframe tbody tr th {\n",
       "        vertical-align: top;\n",
       "    }\n",
       "\n",
       "    .dataframe thead th {\n",
       "        text-align: right;\n",
       "    }\n",
       "</style>\n",
       "<table border=\"1\" class=\"dataframe\">\n",
       "  <thead>\n",
       "    <tr style=\"text-align: right;\">\n",
       "      <th></th>\n",
       "      <th>paper_id</th>\n",
       "      <th>Snippet</th>\n",
       "      <th>title</th>\n",
       "      <th>authors</th>\n",
       "      <th>confidence_score</th>\n",
       "    </tr>\n",
       "  </thead>\n",
       "  <tbody>\n",
       "    <tr>\n",
       "      <th>0</th>\n",
       "      <td>PMC7426871</td>\n",
       "      <td>The rapid global spread of SARS-CoV-2 and the ...</td>\n",
       "      <td>Face mask use in the general population and op...</td>\n",
       "      <td>['Colin J. Worby ', 'Hsiao-Han  Chang ']</td>\n",
       "      <td>0.082721</td>\n",
       "    </tr>\n",
       "    <tr>\n",
       "      <th>1</th>\n",
       "      <td>PMC8610010</td>\n",
       "      <td>With over 180 million cases and over 4 million...</td>\n",
       "      <td>COVID-19 Knowledge Extractor (COKE): A Curated...</td>\n",
       "      <td>['Daniel  Korn ', 'Vera  Pervitsky ', 'Tesia  ...</td>\n",
       "      <td>0.032646</td>\n",
       "    </tr>\n",
       "    <tr>\n",
       "      <th>2</th>\n",
       "      <td>PMC8956206</td>\n",
       "      <td>Cognitive errors account for a large number of...</td>\n",
       "      <td>Creating a healthcare variant CYNEFIN framewor...</td>\n",
       "      <td>['Paul James Lane ', 'Robyn  Clay-Williams ', ...</td>\n",
       "      <td>0.017894</td>\n",
       "    </tr>\n",
       "    <tr>\n",
       "      <th>3</th>\n",
       "      <td>PMC8450381</td>\n",
       "      <td>Venipuncture is one of the most common clinica...</td>\n",
       "      <td>Visualizing veins from color images under vary...</td>\n",
       "      <td>['Ru  Jia ', 'Chaoying  Tang ', 'Biao  Wang ']</td>\n",
       "      <td>0.013989</td>\n",
       "    </tr>\n",
       "    <tr>\n",
       "      <th>4</th>\n",
       "      <td>PMC8404176</td>\n",
       "      <td>Trade agreements affect public health and heal...</td>\n",
       "      <td>When actions do not match aspirations - compar...</td>\n",
       "      <td>['Meri  Koivusalo ', 'Noora  Heinonen ', 'Liin...</td>\n",
       "      <td>0.008918</td>\n",
       "    </tr>\n",
       "  </tbody>\n",
       "</table>\n",
       "</div>\n",
       "      <button class=\"colab-df-convert\" onclick=\"convertToInteractive('df-8a1916cd-ad2d-411a-9473-e12c55a9db32')\"\n",
       "              title=\"Convert this dataframe to an interactive table.\"\n",
       "              style=\"display:none;\">\n",
       "        \n",
       "  <svg xmlns=\"http://www.w3.org/2000/svg\" height=\"24px\"viewBox=\"0 0 24 24\"\n",
       "       width=\"24px\">\n",
       "    <path d=\"M0 0h24v24H0V0z\" fill=\"none\"/>\n",
       "    <path d=\"M18.56 5.44l.94 2.06.94-2.06 2.06-.94-2.06-.94-.94-2.06-.94 2.06-2.06.94zm-11 1L8.5 8.5l.94-2.06 2.06-.94-2.06-.94L8.5 2.5l-.94 2.06-2.06.94zm10 10l.94 2.06.94-2.06 2.06-.94-2.06-.94-.94-2.06-.94 2.06-2.06.94z\"/><path d=\"M17.41 7.96l-1.37-1.37c-.4-.4-.92-.59-1.43-.59-.52 0-1.04.2-1.43.59L10.3 9.45l-7.72 7.72c-.78.78-.78 2.05 0 2.83L4 21.41c.39.39.9.59 1.41.59.51 0 1.02-.2 1.41-.59l7.78-7.78 2.81-2.81c.8-.78.8-2.07 0-2.86zM5.41 20L4 18.59l7.72-7.72 1.47 1.35L5.41 20z\"/>\n",
       "  </svg>\n",
       "      </button>\n",
       "      \n",
       "  <style>\n",
       "    .colab-df-container {\n",
       "      display:flex;\n",
       "      flex-wrap:wrap;\n",
       "      gap: 12px;\n",
       "    }\n",
       "\n",
       "    .colab-df-convert {\n",
       "      background-color: #E8F0FE;\n",
       "      border: none;\n",
       "      border-radius: 50%;\n",
       "      cursor: pointer;\n",
       "      display: none;\n",
       "      fill: #1967D2;\n",
       "      height: 32px;\n",
       "      padding: 0 0 0 0;\n",
       "      width: 32px;\n",
       "    }\n",
       "\n",
       "    .colab-df-convert:hover {\n",
       "      background-color: #E2EBFA;\n",
       "      box-shadow: 0px 1px 2px rgba(60, 64, 67, 0.3), 0px 1px 3px 1px rgba(60, 64, 67, 0.15);\n",
       "      fill: #174EA6;\n",
       "    }\n",
       "\n",
       "    [theme=dark] .colab-df-convert {\n",
       "      background-color: #3B4455;\n",
       "      fill: #D2E3FC;\n",
       "    }\n",
       "\n",
       "    [theme=dark] .colab-df-convert:hover {\n",
       "      background-color: #434B5C;\n",
       "      box-shadow: 0px 1px 3px 1px rgba(0, 0, 0, 0.15);\n",
       "      filter: drop-shadow(0px 1px 2px rgba(0, 0, 0, 0.3));\n",
       "      fill: #FFFFFF;\n",
       "    }\n",
       "  </style>\n",
       "\n",
       "      <script>\n",
       "        const buttonEl =\n",
       "          document.querySelector('#df-8a1916cd-ad2d-411a-9473-e12c55a9db32 button.colab-df-convert');\n",
       "        buttonEl.style.display =\n",
       "          google.colab.kernel.accessAllowed ? 'block' : 'none';\n",
       "\n",
       "        async function convertToInteractive(key) {\n",
       "          const element = document.querySelector('#df-8a1916cd-ad2d-411a-9473-e12c55a9db32');\n",
       "          const dataTable =\n",
       "            await google.colab.kernel.invokeFunction('convertToInteractive',\n",
       "                                                     [key], {});\n",
       "          if (!dataTable) return;\n",
       "\n",
       "          const docLinkHtml = 'Like what you see? Visit the ' +\n",
       "            '<a target=\"_blank\" href=https://colab.research.google.com/notebooks/data_table.ipynb>data table notebook</a>'\n",
       "            + ' to learn more about interactive tables.';\n",
       "          element.innerHTML = '';\n",
       "          dataTable['output_type'] = 'display_data';\n",
       "          await google.colab.output.renderOutput(dataTable, element);\n",
       "          const docLink = document.createElement('div');\n",
       "          docLink.innerHTML = docLinkHtml;\n",
       "          element.appendChild(docLink);\n",
       "        }\n",
       "      </script>\n",
       "    </div>\n",
       "  </div>\n",
       "  "
      ],
      "text/plain": [
       "     paper_id                                            Snippet  \\\n",
       "0  PMC7426871  The rapid global spread of SARS-CoV-2 and the ...   \n",
       "1  PMC8610010  With over 180 million cases and over 4 million...   \n",
       "2  PMC8956206  Cognitive errors account for a large number of...   \n",
       "3  PMC8450381  Venipuncture is one of the most common clinica...   \n",
       "4  PMC8404176  Trade agreements affect public health and heal...   \n",
       "\n",
       "                                               title  \\\n",
       "0  Face mask use in the general population and op...   \n",
       "1  COVID-19 Knowledge Extractor (COKE): A Curated...   \n",
       "2  Creating a healthcare variant CYNEFIN framewor...   \n",
       "3  Visualizing veins from color images under vary...   \n",
       "4  When actions do not match aspirations - compar...   \n",
       "\n",
       "                                             authors  confidence_score  \n",
       "0           ['Colin J. Worby ', 'Hsiao-Han  Chang ']          0.082721  \n",
       "1  ['Daniel  Korn ', 'Vera  Pervitsky ', 'Tesia  ...          0.032646  \n",
       "2  ['Paul James Lane ', 'Robyn  Clay-Williams ', ...          0.017894  \n",
       "3     ['Ru  Jia ', 'Chaoying  Tang ', 'Biao  Wang ']          0.013989  \n",
       "4  ['Meri  Koivusalo ', 'Noora  Heinonen ', 'Liin...          0.008918  "
      ]
     },
     "execution_count": 123,
     "metadata": {},
     "output_type": "execute_result"
    }
   ],
   "source": [
    "#Passing Flag to use Cosine similarity\n",
    "query3 = \"Which city did covid-19 start from?\"\n",
    "# t2 = textmatch()\n",
    "q3c = t1.text_matching(query2,1)\n",
    "q3c"
   ]
  },
  {
   "cell_type": "code",
   "execution_count": null,
   "id": "f14e0975",
   "metadata": {
    "id": "f14e0975"
   },
   "outputs": [],
   "source": [
    "ques = [\n",
    "    \"What are the symptoms of COVID-19?\",\n",
    "    \"What are the side effects of the COVID-19 vaccines?\",\n",
    "    \"How has COVID-19 impacted the global economy?\",\n",
    "    \"What treatments are available for COVID-19?\",\n",
    "    \"How is COVID-19 diagnosed?\",\n",
    "    \"What are the names of coronavirus variants?\",\n",
    "    \"how to use face masks?\",\n",
    "    \"How is the coronavirus transmitted from person to person?\",\n",
    "    \"What are the most common symptoms of COVID-19?\",\n",
    "    \"Where did covid-19 start from?\"\n",
    " ]"
   ]
  },
  {
   "cell_type": "markdown",
   "id": "067cebcf",
   "metadata": {
    "id": "067cebcf"
   },
   "source": [
    "### Text matching utility\n",
    "Creating a fuction to retrive articles based on query provided by the user\n",
    "* Processing User query by applying the same preprocessing by removing punctuation, stop words and lemmatizing\n",
    "* Using Tf-idf vectorizer we vectorize the query and fetched relevant articles\n",
    "* Apply cosine similarity to the above vectorized relevant articles and query\n",
    "* Sort the articles with the article with highest score on top \n",
    "* Return 5 best matching articles presented in a Dataframe\n",
    "\n",
    "Due to computing power limitation could not try to implement pretrained Wordvector models to claculate similarity scores"
   ]
  },
  {
   "cell_type": "markdown",
   "id": "fd6f70cc",
   "metadata": {
    "id": "fd6f70cc"
   },
   "source": [
    "#### Testing the above function on two sample question to create a baseline and see the output"
   ]
  },
  {
   "cell_type": "markdown",
   "id": "81cb08a0",
   "metadata": {
    "id": "81cb08a0"
   },
   "source": [
    "Based on results above query1 reults found 5 matching articles with the most relevant article having a score of 0.31\n",
    "but query2 failed to fetch any results\n",
    "\n",
    "\n",
    "Now utilizing Kb created to also include assiciated names of recognized query entities\n",
    "* Proceding similarly as above but now checking if ner_kb flag is set \n",
    "Again trying both the sample queries this time utilizing KB to add assiciated names for query entities we can see that utilizing kb "
   ]
  },
  {
   "cell_type": "markdown",
   "id": "8a4f8fc5",
   "metadata": {
    "id": "8a4f8fc5"
   },
   "source": [
    "\n",
    "Due to shortage of computational power unable to see affects of using pre-trained moodels \n",
    "When comparing for the 2 sample queries we find than using Kb gives a more accurate answer and helps us identify more relevant documents from our considered sample, this may be due to the fact that we use kb to add assiciated names of the entities which helps us fetch more relevant articles from the inverted index<br />\n",
    "\n",
    "Regarding actual results captured by the query, the cosine similarity scores seem rather low with even the most relevant document only managing a highest similarity score of 0.37\n",
    "This may improve by a large margin when using pre-trained word vector models. "
   ]
  },
  {
   "cell_type": "markdown",
   "id": "Uu1A0HU_VbLX",
   "metadata": {
    "id": "Uu1A0HU_VbLX"
   },
   "source": [
    "### Model Selection\n",
    "\n",
    "Candidate models considered :<br>\n",
    "BART  - https://arxiv.org/abs/1910.13461 <br>\n",
    "\n",
    "PEGASUS - https://huggingface.co/transformers/v3.3.1/model_doc/pegasus.html <br>\n",
    "\n",
    "PEGASUS trained on covid database - https://huggingface.co/mayu0007/pegasus_large_covid\n",
    " <br>\n",
    "\n",
    "\n",
    "find a way to filter to 3 models from more models think  ??? <br>\n",
    "\n",
    "possible models : BART, T5-small, Pegasus -xsum, Pegasus-large, Pegasus_large_covid"
   ]
  },
  {
   "cell_type": "markdown",
   "id": "b0445dbe",
   "metadata": {
    "id": "b0445dbe"
   },
   "source": [
    "## Summarization\n",
    "To give processed or unprocessed compare on best model and choose unprocessed\n",
    "\n",
    "\n",
    "---\n",
    "\n",
    "Baseline summary without using ML\n",
    "\n",
    "1) Concate all body text and give to model -  Unprocessed test<br>\n",
    "2) get 5 summaries from the 5 articles and concat those summaries and pass to the model for final summary -  Unprocessed test<br>\n",
    "3) extract snippits from the 5 articles relevat to query concat them and then give them for summary"
   ]
  },
  {
   "cell_type": "code",
   "execution_count": null,
   "id": "Vw2S9rlBXLYg",
   "metadata": {
    "id": "Vw2S9rlBXLYg"
   },
   "outputs": [],
   "source": [
    "class summarize(textmatch):\n",
    "  def __init__(self):\n",
    "    super().__init__()\n",
    "    self.article_df = article_df\n",
    "    self.proc_article_df = proc_article_df\n",
    "    self.type_sum = 0\n",
    "    # self.cos = False\n",
    "    # self.processed_data = False\n",
    "    self.joined = \" \"\n",
    "    self.device = device = \"cuda\" if torch.cuda.is_available() else \"cpu\"\n",
    "    self.model_bart_large = None\n",
    "    self.tokenizer_bart_large = None\n",
    "    self.model_pegasus_large = None\n",
    "    self.tokenizer_pegasus_large = None\n",
    "    self.model_pegasus_covid = None\n",
    "    self.tokenizer_pegasus_covid = None\n",
    "    self.text_vectorizer = spacy.load(\"en_core_web_md\", exclude=[\"tagger\", \"parser\", \"senter\", \"attribute_ruler\", \"lemmatizer\", \"ner\"])\n",
    "    self.model_prep()\n",
    "\n",
    "  def model_prep(self):\n",
    "    from transformers import BartForConditionalGeneration, BartTokenizer\n",
    "    from transformers import PegasusTokenizer, PegasusForConditionalGeneration\n",
    "    # BART-large\n",
    "    self.model_bart_large = BartForConditionalGeneration.from_pretrained(\"facebook/bart-large\")\n",
    "    self.tokenizer_bart_large = BartTokenizer.from_pretrained(\"facebook/bart-large\")\n",
    "\n",
    "    # # Pegasus-large \n",
    "    # # the max_length of Pegasus-large is 1024\n",
    "    self.model_pegasus_large = PegasusForConditionalGeneration.from_pretrained('google/pegasus-large')\n",
    "    self.tokenizer_pegasus_large = PegasusTokenizer.from_pretrained('google/pegasus-large')\n",
    "\n",
    "    # Pegasus-large-COVID\n",
    "    self.model_pegasus_covid  = PegasusForConditionalGeneration.from_pretrained(\"mayu0007/pegasus_large_covid\") \n",
    "    self.tokenizer_pegasus_covid = PegasusTokenizer.from_pretrained(\"mayu0007/pegasus_large_covid\")\n",
    "    \n",
    "    print(\"-------------ALL MODELS LOADED-----------------\")\n",
    "    return \n",
    "  \n",
    "  #Functions to toggle processed /unprocessed text for normal concatination of Body data \n",
    "  def get_unprocessed(self,query_df,unporcessed_article_df = article_df):\n",
    "    fetched_papers = [i for i in query_df['paper_id']]\n",
    "    unporcessed_text = [unporcessed_article_df['body_text'].loc[unporcessed_article_df['paper_id'] == i].tolist()[0]for i in fetched_papers]\n",
    "    joined_unporcessed_text = \" \".join(unporcessed_text)\n",
    "    return joined_unporcessed_text\n",
    "\n",
    "  def get_processed(self,query_df,porcessed_article_df = proc_article_df):\n",
    "    fetched_papers = [i for i in query_df['paper_id']]\n",
    "    porcessed_text = [porcessed_article_df['body_text'].loc[porcessed_article_df['paper_id'] == i].tolist()[0]for i in fetched_papers]\n",
    "    joined_porcessed_text = \" \".join(porcessed_text)\n",
    "    return joined_porcessed_text\n",
    "\n",
    "  #Functions Dealing with summarizing the combined snippits\n",
    "  #defining a function to find cosine Similarity\n",
    "  def sent_cos_similarity(self,query_df,query,num_sentences):\n",
    "    article_df=self.article_df\n",
    "    relevant_sentences = []\n",
    "    all_Sents = []\n",
    "    top_sents = []\n",
    "    most_rel_art = query_df['Snippet']\n",
    "    for num,art in enumerate(tqdm(most_rel_art)):\n",
    "      #Make sentences of Body text\n",
    "      sentences_ls=[i for i in set(nltk.sent_tokenize(art))]\n",
    "      all_Sents.extend(sentences_ls)\n",
    "\n",
    "    vectorizer = TfidfVectorizer()\n",
    "    vectorizer.fit_transform(all_Sents)\n",
    "    art_vec = vectorizer.transform(all_Sents)\n",
    "    question_vector = vectorizer.transform([query])\n",
    "    similarities = cosine_similarity(art_vec, question_vector)\n",
    "    sorted_list = sorted(enumerate(similarities), key=lambda x: x[1],reverse=True)\n",
    "    sorted_indexes = [i for i, _ in sorted_list]\n",
    "    relevant_sentences = [all_Sents[i] for i in sorted_indexes]\n",
    "    # sorted_values = [value[0] for _, value in sorted_list]\n",
    "    if num_sentences > len(relevant_sentences):\n",
    "      joined_snips = \"\".join(relevant_sentences)\n",
    "    else :\n",
    "      joined_snips = \"\".join(relevant_sentences[0:num_sentences])\n",
    "    # return joined_snips\n",
    "    return joined_snips\n",
    "    \n",
    "  #defining a function to find spacy - vectors Similarity\n",
    "  # # object to hold pre-trained spacy model - en_core_web_md\n",
    "  # text_vectorizer = spacy.load(\"en_core_web_md\", exclude=[\"tagger\", \"parser\", \"senter\", \"attribute_ruler\", \"lemmatizer\", \"ner\"])\n",
    "  # defining a function to find spacy - vectors Similarity\n",
    "  def sent_spacy_similarity(self,query_df,query,num_sentences):\n",
    "    article_df=self.article_df\n",
    "    text_vectorizer = self.text_vectorizer\n",
    "    relevant_sentences = []\n",
    "    all_Sents = []\n",
    "    most_rel_art = query_df['Snippet']\n",
    "    query_vect = text_vectorizer(query)\n",
    "    for art in tqdm(most_rel_art):\n",
    "      #Make sentences of Body text\n",
    "      sentences_ls=[i for i in set(nltk.sent_tokenize(art))]\n",
    "      sentences_vec=[text_vectorizer(i) for i in sentences_ls]\n",
    "      all_Sents.extend(sentences_vec)\n",
    "\n",
    "    similarities =[i.similarity(query_vect) for i in all_Sents]\n",
    "    sorted_list = sorted(enumerate(similarities), key=lambda x: x[1],reverse=True)\n",
    "    sorted_indexes = [i for i, _ in sorted_list]\n",
    "    sentences_relevant_articles = [all_Sents[i].text for i in sorted_indexes]\n",
    "    if num_sentences > len(sentences_relevant_articles):\n",
    "      # relevant_sentences.extend(sentences_relevant_articles)\n",
    "      joined_snips = \"\".join(sentences_relevant_articles)\n",
    "    else :\n",
    "      # relevant_sentences.extend(sentences_relevant_articles[0:num_sentences])\n",
    "      joined_snips = \"\".join(sentences_relevant_articles[0:num_sentences])\n",
    "    return joined_snips\n",
    "\n",
    "  def baseline(self,query_df,query,num_sentences=5):\n",
    "      query_ent = preprocess([query])[0].split()\n",
    "      relevant_sentences = []\n",
    "      all_Sents = []\n",
    "      most_rel_art = query_df['Snippet']\n",
    "      query_vect = text_vectorizer(query)\n",
    "      for art in tqdm(most_rel_art):\n",
    "        #Make sentences of Body text\n",
    "        sentences_ls=[i for i in set(nltk.sent_tokenize(art))]\n",
    "        all_Sents.extend(sentences_ls)\n",
    "      for sentence in all_Sents:\n",
    "        for q_ent in query_ent:\n",
    "          if q_ent in sentence:\n",
    "            relevant_sentences.append(sentence)\n",
    "      if num_sentences > len(relevant_sentences) :\n",
    "        joined_snips = \"\".join(relevant_sentences)\n",
    "      else :\n",
    "        joined_snips = \"\".join(relevant_sentences[0:num_sentences])\n",
    "\n",
    "      return joined_snips\n",
    "  #Function to use snippets for summary\n",
    "  def snip_summary(self,model_name,tokenizer_name,query_df,query,cos=False,num_sentences=5):\n",
    "    if cos :\n",
    "      top_5_text = self.sent_cos_similarity(query_df,query,num_sentences=num_sentences)\n",
    "    else:\n",
    "      top_5_text = self.sent_spacy_similarity(query_df,query,num_sentences=num_sentences)\n",
    "    fin_summ = self.generate_summary_all(model_name,tokenizer_name, top_5_text)\n",
    "    return fin_summ\n",
    "\n",
    "  \n",
    "  #Function to generate single summary by concatinating 5 article body text \n",
    "  def combined_summary(self,model_name,tokenizer_name,query_df,choice=False):\n",
    "    #choice triggers if Unprocessed or Processed data is used\n",
    "    if choice:\n",
    "      top_5_text = self.get_processed(query_df,self.proc_article_df)\n",
    "    else:\n",
    "      # top_5_text = self.get_unprocessed(query_df,self.article_df)\n",
    "      top_5_text= \"\".join( [i for i in query_df['Snippet']])\n",
    "    fin_summ = self.generate_summary_all(model_name,tokenizer_name, top_5_text)\n",
    "    return fin_summ\n",
    "\n",
    "  #Function to generate summary form 5 individual summaries for each article\n",
    "  def recursive_summary(self,model_name,tokenizer_name, query_df):\n",
    "    all_summs = []\n",
    "    article_body_text = [i for i in query_df['Snippet']]\n",
    "    for art in article_body_text:\n",
    "      gen_summ = self.generate_summary_all(model_name,tokenizer_name, art)\n",
    "      all_summs.extend(gen_summ)\n",
    "    joined_sum = \"\".join(all_summs)\n",
    "    fin_summ = self.generate_summary_all(model_name,tokenizer_name, joined_sum)\n",
    "\n",
    "    return fin_summ\n",
    "\n",
    "  def generate_summary_all(self,model_name,tokenizer_name, top_5_text):\n",
    "    # device = \"cuda\" if torch.cuda.is_available() else \"cpu\"\n",
    "    #mps_device =  torch.device(\"mps\")\n",
    "    tokenizer = tokenizer_name\n",
    "    model = model_name.to(self.device)\n",
    "    batch = tokenizer(top_5_text, truncation=True, padding=\"longest\", return_tensors=\"pt\").to(self.device)\n",
    "\n",
    "    translated = model.generate(**batch,num_beams=20,\n",
    "                                        no_repeat_ngram_size=3,\n",
    "                                        min_length=30,\n",
    "                                        max_length=1000,\n",
    "                                        early_stopping=False)\n",
    "    \n",
    "    tgt_text = tokenizer.batch_decode(translated, skip_special_tokens=True)\n",
    "\n",
    "    return tgt_text\n",
    "  "
   ]
  },
  {
   "cell_type": "code",
   "execution_count": null,
   "id": "no0VGwzPNFVr",
   "metadata": {
    "colab": {
     "base_uri": "https://localhost:8080/"
    },
    "id": "no0VGwzPNFVr",
    "outputId": "20d54200-7f58-4f2b-b752-a7faeaa0212c"
   },
   "outputs": [
    {
     "name": "stdout",
     "output_type": "stream",
     "text": [
      "-------------ALL MODELS LOADED-----------------\n"
     ]
    }
   ],
   "source": [
    "s1 = summarize()"
   ]
  },
  {
   "cell_type": "markdown",
   "id": "zjOaqDcMcC-k",
   "metadata": {
    "id": "zjOaqDcMcC-k"
   },
   "source": [
    "Checking which Similarity returns ost relevant articles by looking at the snippets"
   ]
  },
  {
   "cell_type": "code",
   "execution_count": null,
   "id": "Pc8SswZm7N9C",
   "metadata": {
    "colab": {
     "base_uri": "https://localhost:8080/"
    },
    "id": "Pc8SswZm7N9C",
    "outputId": "77134ed1-3c1f-401b-be7c-e778fd910505"
   },
   "outputs": [
    {
     "name": "stderr",
     "output_type": "stream",
     "text": [
      "100%|██████████| 6/6 [00:00<00:00, 1433.54it/s]\n"
     ]
    }
   ],
   "source": [
    "num_sentences = 10\n",
    "query = \"how to use face masks?\"\n",
    "q_df = s1.text_matching(query,3)\n",
    "# rel_sent_cos = s1.sent_cos_similarity(q_df,query,num_sentences=num_sentences)\n",
    "# rel_sent_spacy = s1.sent_spacy_similarity(q_df,query,num_sentences=num_sentences)\n",
    "\n"
   ]
  },
  {
   "cell_type": "markdown",
   "id": "YggPsLB8YyG7",
   "metadata": {
    "id": "YggPsLB8YyG7"
   },
   "source": [
    "## Testing\n",
    "---\n",
    "\n",
    "1) Looking at summarization capacity of model by ROUGE L <br>\n",
    "\n",
    "2) Looking at our system  capacity of by execution time <br>"
   ]
  },
  {
   "cell_type": "code",
   "execution_count": null,
   "id": "0nhRc5PuKLe8",
   "metadata": {
    "colab": {
     "base_uri": "https://localhost:8080/"
    },
    "id": "0nhRc5PuKLe8",
    "outputId": "93918d76-5e14-49c1-a9fb-931587ca74b8"
   },
   "outputs": [
    {
     "name": "stdout",
     "output_type": "stream",
     "text": [
      "For pre- trained BERT model : Scores {'rouge1': 29.0, 'rouge2': 10.3, 'rougeL': 14.4, 'rougeLsum': 14.4}\n",
      "For pre- trained Pegasus_Large model : Scores {'rouge1': 22.7, 'rouge2': 9.2, 'rougeL': 13.6, 'rougeLsum': 13.6}\n",
      "For pre- trained Pegasus_Large_Covid model : Scores {'rouge1': 44.8, 'rouge2': 9.4, 'rougeL': 19.2, 'rougeLsum': 19.2}\n"
     ]
    }
   ],
   "source": [
    "#For Testing ROGUE scores\n",
    "# from datasets import load_metric\n",
    "# metric = load_metric(\"rouge\")\n",
    "def calc_rouge_scores(candidates, references):\n",
    "    result = metric.compute(predictions=candidates, references=references, use_stemmer=True)\n",
    "    result = {key: round(value.mid.fmeasure * 100, 1) for key, value in result.items()}\n",
    "    return result \n",
    "# BART, Pegasus_large, Pegasus_large_covid\n",
    "# for testing using article_df.iloc[5000]['body_text']\n",
    "#For BART\n",
    "ref_summaries = article_df.iloc[5000]['abstract']\n",
    "Summ_bart = s1.generate_summary_all(s1.model_bart_large,s1.tokenizer_bart_large,article_df.iloc[5000]['body_text'])\n",
    "print(f\"For pre- trained BART model : Scores {calc_rouge_scores(Summ_bart, [ref_summaries])}\")\n",
    "Summ_peg_l = s1.generate_summary_all(s1.model_pegasus_large,s1.tokenizer_pegasus_large,article_df.iloc[5000]['body_text'])\n",
    "print(f\"For pre- trained Pegasus_Large model : Scores {calc_rouge_scores(Summ_peg_l, [ref_summaries])}\")\n",
    "Summ_peg_c = s1.generate_summary_all(s1.model_pegasus_covid,s1.tokenizer_pegasus_covid,article_df.iloc[5000]['body_text'])\n",
    "print(f\"For pre- trained Pegasus_Large_Covid model : Scores {calc_rouge_scores(Summ_peg_c,[ ref_summaries])}\")"
   ]
  },
  {
   "cell_type": "markdown",
   "id": "yqjX17LQbLfY",
   "metadata": {
    "id": "yqjX17LQbLfY"
   },
   "source": [
    "\n",
    "---\n",
    "<table  border=\"1\" style=\"border:2px solid black;\">\n",
    "<caption><b>Rouge score comparison for Pre-trained Models</b></caption>\n",
    "  <tr>\n",
    "    <th>Pre-Trained Model</th>\n",
    "    <th>Rouge 1</th>\n",
    "    <th>Rouge 2</th>\n",
    "    <th>Rouge L</th>\n",
    "    <th>Rouge Sum</th>\n",
    "  </tr>\n",
    "  <tr>\n",
    "    <td> </td>\n",
    "    <td> </td>\n",
    "    <td> </td>\n",
    "    <td> </td>\n",
    "    <td> </td>\n",
    "  </tr>\n",
    "  <tr>\n",
    "    <td>BART</td>\n",
    "    <th>29.0</th>\n",
    "    <th>10.3</th>\n",
    "    <th>14.4</th>\n",
    "    <th>14.4</th>\n",
    "  </tr>\n",
    "  <tr>\n",
    "    <td class=\"divider\"><hr/></td>\n",
    "    <td class=\"divider\"><hr/></td>\n",
    "    <td class=\"divider\"><hr/></td>\n",
    "    <td class=\"divider\"><hr/></td>\n",
    "    <td class=\"divider\"><hr/></td>\n",
    "  </tr>\n",
    "  <tr>\n",
    "    <td>Pegasus_large</td>\n",
    "    <th>22.7</th>\n",
    "    <th>9.2</th>\n",
    "    <th>13.6</th>\n",
    "    <th>13.6</th>\n",
    "  </tr>\n",
    "  <tr>\n",
    "    <td class=\"divider\"><hr/></td>\n",
    "    <td class=\"divider\"><hr/></td>\n",
    "    <td class=\"divider\"><hr/></td>\n",
    "    <td class=\"divider\"><hr/></td>\n",
    "    <td class=\"divider\"><hr/></td>\n",
    "  </tr>\n",
    "  <tr>\n",
    "    <td>Pegasus_large_Covid</td>\n",
    "    <th>44.8</th>\n",
    "    <th>9.4</th>\n",
    "    <th>19.2</th>\n",
    "    <th>19.2</th>\n",
    "  </tr>\n",
    "</table>\n",
    "\n",
    "---"
   ]
  },
  {
   "cell_type": "markdown",
   "id": "-E-De6DY75ul",
   "metadata": {
    "id": "-E-De6DY75ul"
   },
   "source": [
    "#### User Input "
   ]
  },
  {
   "cell_type": "code",
   "execution_count": 69,
   "id": "iF17WD0yFN7n",
   "metadata": {
    "colab": {
     "base_uri": "https://localhost:8080/"
    },
    "id": "iF17WD0yFN7n",
    "outputId": "805ac13d-8535-4106-a62a-480fd13270ec"
   },
   "outputs": [
    {
     "name": "stderr",
     "output_type": "stream",
     "text": [
      "100%|██████████| 6/6 [00:00<00:00, 12794.01it/s]\n",
      "100%|██████████| 5/5 [00:03<00:00,  1.59it/s]\n"
     ]
    },
    {
     "data": {
      "text/plain": [
       "['Masks must be continually acquired to remain a mask.Governments need to define and articulate reservations and exceptions to keep these outside negotiations.If they can be visualized from color images, it will greatly benefit the following treatment.Exposure to misinformation can affect people’s knowledge, beliefs and memory.For this reason, families began to gather to open sealed coffins with victims of COVID-19, to check if the body they were about to bury was really their family member [52].Sclerotherapy involves injecting a medicine called sclerosant to the affected veins, making them to shrink.Even considering these differences, it is not always easy to fit a news item into misinformation/disinformation categories, because we do not always know if the author of the news had the deliberate intention to deceive, or if he/she really believes in what is being written.Despite these limitations, we believe that this work can offer help so that scientists, journalists and health educators understand the characteristics of the misinformation health agenda during the pandemic and are better able to counter this problem.']"
      ]
     },
     "execution_count": 69,
     "metadata": {},
     "output_type": "execute_result"
    }
   ],
   "source": [
    "# What is COVID-19?\n",
    "# What are the symptoms of COVID-19?\n",
    "# How is COVID-19 transmitted?\n",
    "# What are the best ways to prevent the spread of COVID-19?\n",
    "# How is COVID-19 diagnosed?\n",
    "# What are the treatment options for COVID-19?\n",
    "# How many people have been infected with COVID-19?\n",
    "# What are the long-term effects of COVID-19?\n",
    "# What is the current status of COVID-19 vaccines?\n",
    "# How effective are the COVID-19 vaccines in preventing infection and severe disease?\n",
    "\n",
    "query = \"how to use face masks?\"\n",
    "q_df = s1.text_matching(query,2)\n",
    "s1.snip_summary(s1.model_pegasus_covid,s1.tokenizer_pegasus_covid,q_df,query,num_sentences=10)"
   ]
  },
  {
   "cell_type": "markdown",
   "id": "P680uoAmMJyA",
   "metadata": {
    "id": "P680uoAmMJyA"
   },
   "source": [
    "Proposed Questions\n",
    "\n",
    "*   What are the side effects of the COVID-19 vaccines?\n",
    "*   What are the symptoms of COVID-19?\n",
    "*   how much money did COVID-19 cost ?\n",
    "*   How is COVID-19 diagnosed?\n",
    "*   How has COVID-19 impacted the global economy?\n",
    "\n"
   ]
  },
  {
   "cell_type": "code",
   "execution_count": 66,
   "id": "RZ3CWbUVBtGp",
   "metadata": {
    "colab": {
     "base_uri": "https://localhost:8080/"
    },
    "id": "RZ3CWbUVBtGp",
    "outputId": "84b709d8-b09a-4dad-c965-2417b606cec3"
   },
   "outputs": [
    {
     "name": "stdout",
     "output_type": "stream",
     "text": [
      "\u001bc------------------------\n",
      "|                        |\n",
      "|  Summarization System  |\n",
      "|                        |\n",
      "------------------------\n",
      "\n",
      "Please enter your query regarding COVID-19:\n",
      "\n",
      "> how do face masks work?\n",
      "--------------------------------------\n",
      "|                                      |\n",
      "|  Searching for Relevant Articles...  |\n",
      "|                                      |\n",
      "--------------------------------------\n"
     ]
    },
    {
     "name": "stderr",
     "output_type": "stream",
     "text": [
      "100%|██████████| 7/7 [00:00<00:00, 5241.01it/s]\n"
     ]
    },
    {
     "name": "stdout",
     "output_type": "stream",
     "text": [
      "--------------------------------------\n",
      "|                                      |\n",
      "|  Titles of Relevant Articles Found:  |\n",
      "|                                      |\n",
      "--------------------------------------\n",
      "0. Title: Frugal innovation in a crisis: the digital fabrication maker response to COVID‐19\n",
      "1. Title: Face mask use in the general population and optimal resource allocation during the COVID-19 pandemic\n",
      "2. Title: COVID-19 Knowledge Extractor (COKE): A Curated Repository of\n",
      "Drug–Target Associations Extracted from the CORD-19 Corpus of Scientific Publications\n",
      "on COVID-19\n",
      "3. Title: Population bottlenecks and founder effects: implications for mosquito-borne arboviral emergence\n",
      "4. Title: COVID-19 Associated Venous Thromboembolism Portends Worse Survival\n",
      "-------------------------\n",
      "|                         |\n",
      "|  Generating Summary...  |\n",
      "|                         |\n",
      "-------------------------\n"
     ]
    },
    {
     "name": "stderr",
     "output_type": "stream",
     "text": [
      "100%|██████████| 5/5 [00:02<00:00,  1.69it/s]\n"
     ]
    },
    {
     "name": "stdout",
     "output_type": "stream",
     "text": [
      "--------------------------------\n",
      "|                                |\n",
      "|  Resultant Summary Generated:  |\n",
      "|                                |\n",
      "--------------------------------\n",
      "This is a summary of the relevant articles that match your query.\n",
      "\n",
      "Since it is recommended that disposable masks should be replaced when they are\n",
      "soiled41, we assumed that masks are on average worn for one day.Later, we can\n",
      "use Eqs.Even considering these differences, it is not always easy to fit a news\n",
      "item into misinformation/disinformation categories, because we do not always\n",
      "know if the author of the news had the deliberate intention to deceive, or if\n",
      "he/she really believes in what is being written.If they can be visualized from\n",
      "color images, it will greatly benefit the following treatment.What happens is\n",
      "that many of the hospitals receive only patients referred from other health\n",
      "units, which is why they do not perform emergency care.\n",
      "\n",
      "Do you wish to enter another query? (yes/no)\n",
      "\n",
      "> yes\n",
      "\n",
      "Please enter your query regarding COVID-19:\n",
      "\n",
      "> What are the side effects of the COVID-19 vaccines?\n",
      "--------------------------------------\n",
      "|                                      |\n",
      "|  Searching for Relevant Articles...  |\n",
      "|                                      |\n",
      "--------------------------------------\n"
     ]
    },
    {
     "name": "stderr",
     "output_type": "stream",
     "text": [
      "100%|██████████| 333/333 [00:00<00:00, 9931.69it/s]\n"
     ]
    },
    {
     "name": "stdout",
     "output_type": "stream",
     "text": [
      "--------------------------------------\n",
      "|                                      |\n",
      "|  Titles of Relevant Articles Found:  |\n",
      "|                                      |\n",
      "--------------------------------------\n",
      "0. Title: A feasibility study of controlled human infection with Streptococcus pneumoniae in Malawi\n",
      "1. Title: Autoimmunity complicating SARS-CoV-2 infection in selective IgA-deficiency\n",
      "2. Title: Allium fistulosum congee as a home remedy to ward off the corona virus at an early stage\n",
      "3. Title: Intimate partner violence and associated factors among reproductive age women during COVID-19 pandemic in Southern Ethiopia, 2020\n",
      "4. Title: Conducting Digital Intervention Research among Immigrant Survivors of Intimate Partner Violence: Methodological, Safety and Ethnical Considerations\n",
      "-------------------------\n",
      "|                         |\n",
      "|  Generating Summary...  |\n",
      "|                         |\n",
      "-------------------------\n"
     ]
    },
    {
     "name": "stderr",
     "output_type": "stream",
     "text": [
      "100%|██████████| 5/5 [00:02<00:00,  1.70it/s]\n"
     ]
    },
    {
     "name": "stdout",
     "output_type": "stream",
     "text": [
      "--------------------------------\n",
      "|                                |\n",
      "|  Resultant Summary Generated:  |\n",
      "|                                |\n",
      "--------------------------------\n",
      "This is a summary of the relevant articles that match your query.\n",
      "\n",
      "The recall of the optical method is the highest in all the examples, because the\n",
      "vein patterns obtained from their method are the most distinct.For a range of\n",
      "mask effectiveness parameters, we identify the distribution strategy which\n",
      "minimizes both the number of infections and the total number of deaths in the\n",
      "population.The very fact that the president ignores health recommendations for\n",
      "the pandemic sets a dangerous precedent, causing part of the population to do\n",
      "the same and thus increasing the contagion curve and number of preventable\n",
      "deaths [61].There is an urgent need to better understand the effectiveness of\n",
      "potential interventions to limit the spread of the disease, especially in the\n",
      "context of resource limitations.Vein patterns are derived from the distributions\n",
      "of the biophysical parameters from the inverse model.\n",
      "\n",
      "Do you wish to enter another query? (yes/no)\n",
      "\n",
      "> yes\n",
      "\n",
      "Please enter your query regarding COVID-19:\n",
      "\n",
      "> What are the symptoms of COVID-19?\n",
      "--------------------------------------\n",
      "|                                      |\n",
      "|  Searching for Relevant Articles...  |\n",
      "|                                      |\n",
      "--------------------------------------\n"
     ]
    },
    {
     "name": "stderr",
     "output_type": "stream",
     "text": [
      "100%|██████████| 381/381 [00:00<00:00, 24549.57it/s]\n"
     ]
    },
    {
     "name": "stdout",
     "output_type": "stream",
     "text": [
      "--------------------------------------\n",
      "|                                      |\n",
      "|  Titles of Relevant Articles Found:  |\n",
      "|                                      |\n",
      "--------------------------------------\n",
      "0. Title: Religion in the Age of Social Distancing: How COVID-19 Presents New Directions for Research\n",
      "1. Title: Gender-Based Analysis of the Psychological Impact of the COVID-19 Pandemic on Healthcare Workers in Spain\n",
      "2. Title: Autoimmunity complicating SARS-CoV-2 infection in selective IgA-deficiency\n",
      "3. Title: Are there any changes in mothers' attitudes? Analysis of the impact of the COVID-19 quarantine on child-rearing attitudes\n",
      "4. Title: A feasibility study of controlled human infection with Streptococcus pneumoniae in Malawi\n",
      "-------------------------\n",
      "|                         |\n",
      "|  Generating Summary...  |\n",
      "|                         |\n",
      "-------------------------\n"
     ]
    },
    {
     "name": "stderr",
     "output_type": "stream",
     "text": [
      "100%|██████████| 5/5 [00:03<00:00,  1.65it/s]\n"
     ]
    },
    {
     "name": "stdout",
     "output_type": "stream",
     "text": [
      "--------------------------------\n",
      "|                                |\n",
      "|  Resultant Summary Generated:  |\n",
      "|                                |\n",
      "--------------------------------\n",
      "This is a summary of the relevant articles that match your query.\n",
      "\n",
      "Some of the misinformation shows people filming or taking pictures of hospitals\n",
      "with empty receptions.Vein patterns are visualized from the distribution of\n",
      "blood.Remaining masks are distributed to detected infectious individuals until\n",
      "supplies are diminished.Strategy 3b: 0.5M0 susceptible individuals wear masks at\n",
      "the start of the epidemic, prioritizing the elderly.This suggests that trade\n",
      "negotiations are informed and may include concerns of Member States.\n",
      "\n",
      "Do you wish to enter another query? (yes/no)\n",
      "\n",
      "> yes\n",
      "\n",
      "Please enter your query regarding COVID-19:\n",
      "\n",
      "> how much money did COVID-19 cost ?\n",
      "--------------------------------------\n",
      "|                                      |\n",
      "|  Searching for Relevant Articles...  |\n",
      "|                                      |\n",
      "--------------------------------------\n"
     ]
    },
    {
     "name": "stderr",
     "output_type": "stream",
     "text": [
      "100%|██████████| 332/332 [00:00<00:00, 9709.78it/s]\n"
     ]
    },
    {
     "name": "stdout",
     "output_type": "stream",
     "text": [
      "--------------------------------------\n",
      "|                                      |\n",
      "|  Titles of Relevant Articles Found:  |\n",
      "|                                      |\n",
      "--------------------------------------\n",
      "0. Title: Religion in the Age of Social Distancing: How COVID-19 Presents New Directions for Research\n",
      "1. Title: A brief outlook on the current emerging trends of COVID 19 vaccines\n",
      "2. Title: Caregiver-reported delay in presentation to pediatric emergency departments for fear of contracting COVID-19: a multi-national cross-sectional study\n",
      "3. Title: ISCCM Guidelines for the Use of Non-invasive Ventilation in Acute Respiratory Failure in Adult ICUs\n",
      "4. Title: Oral Health-Related Quality of Life (OHRQoL) of Children with Down Syndrome and Their Families: A Cross-Sectional Study\n",
      "-------------------------\n",
      "|                         |\n",
      "|  Generating Summary...  |\n",
      "|                         |\n",
      "-------------------------\n"
     ]
    },
    {
     "name": "stderr",
     "output_type": "stream",
     "text": [
      "100%|██████████| 5/5 [00:03<00:00,  1.66it/s]\n"
     ]
    },
    {
     "name": "stdout",
     "output_type": "stream",
     "text": [
      "--------------------------------\n",
      "|                                |\n",
      "|  Resultant Summary Generated:  |\n",
      "|                                |\n",
      "--------------------------------\n",
      "This is a summary of the relevant articles that match your query.\n",
      "\n",
      "Even considering these differences, it is not always easy to fit a news item\n",
      "into misinformation/disinformation categories, because we do not always know if\n",
      "the author of the news had the deliberate intention to deceive, or if he/she\n",
      "really believes in what is being written.If they can be visualized from color\n",
      "images, it will greatly benefit the following treatment.Despite these\n",
      "limitations, we believe that this work can offer help so that scientists,\n",
      "journalists and health educators understand the characteristics of the\n",
      "misinformation health agenda during the pandemic and are better able to counter\n",
      "this problem.What happens is that many of the hospitals receive only patients\n",
      "referred from other health units, which is why they do not perform emergency\n",
      "care.Later, we can use Eqs.\n",
      "\n",
      "Do you wish to enter another query? (yes/no)\n",
      "\n",
      "> yes\n",
      "\n",
      "Please enter your query regarding COVID-19:\n",
      "\n",
      "> How is COVID-19 diagnosed?\n",
      "--------------------------------------\n",
      "|                                      |\n",
      "|  Searching for Relevant Articles...  |\n",
      "|                                      |\n",
      "--------------------------------------\n"
     ]
    },
    {
     "name": "stderr",
     "output_type": "stream",
     "text": [
      "100%|██████████| 331/331 [00:00<00:00, 16554.95it/s]\n"
     ]
    },
    {
     "name": "stdout",
     "output_type": "stream",
     "text": [
      "--------------------------------------\n",
      "|                                      |\n",
      "|  Titles of Relevant Articles Found:  |\n",
      "|                                      |\n",
      "--------------------------------------\n",
      "0. Title: Religion in the Age of Social Distancing: How COVID-19 Presents New Directions for Research\n",
      "1. Title: Oral Health-Related Quality of Life (OHRQoL) of Children with Down Syndrome and Their Families: A Cross-Sectional Study\n",
      "2. Title: Pedagogies for peacebuilding in higher education: How and why should higher education institutions get involved in teaching for peace?\n",
      "3. Title: Treating Neutrophilic Inflammation in Airways Diseases\n",
      "4. Title: Are there any changes in mothers' attitudes? Analysis of the impact of the COVID-19 quarantine on child-rearing attitudes\n",
      "-------------------------\n",
      "|                         |\n",
      "|  Generating Summary...  |\n",
      "|                         |\n",
      "-------------------------\n"
     ]
    },
    {
     "name": "stderr",
     "output_type": "stream",
     "text": [
      "100%|██████████| 5/5 [00:03<00:00,  1.66it/s]\n"
     ]
    },
    {
     "name": "stdout",
     "output_type": "stream",
     "text": [
      "--------------------------------\n",
      "|                                |\n",
      "|  Resultant Summary Generated:  |\n",
      "|                                |\n",
      "--------------------------------\n",
      "This is a summary of the relevant articles that match your query.\n",
      "\n",
      "What happens is that many of the hospitals receive only patients referred from\n",
      "other health units, which is why they do not perform emergency care.It is likely\n",
      "that face mask use is also more beneficial in populations with higher contact\n",
      "rates.No other professional equipment is required.However, the model is\n",
      "completely learned from a dataset, so it is only a numerical solution.MC\n",
      "simulation is adopted to get prior information.\n",
      "\n",
      "Do you wish to enter another query? (yes/no)\n",
      "\n",
      "> yes\n",
      "\n",
      "Please enter your query regarding COVID-19:\n",
      "\n",
      "> How has COVID-19 impacted the global economy?\n",
      "--------------------------------------\n",
      "|                                      |\n",
      "|  Searching for Relevant Articles...  |\n",
      "|                                      |\n",
      "--------------------------------------\n"
     ]
    },
    {
     "name": "stderr",
     "output_type": "stream",
     "text": [
      "100%|██████████| 349/349 [00:00<00:00, 1834.86it/s]\n"
     ]
    },
    {
     "name": "stdout",
     "output_type": "stream",
     "text": [
      "--------------------------------------\n",
      "|                                      |\n",
      "|  Titles of Relevant Articles Found:  |\n",
      "|                                      |\n",
      "--------------------------------------\n",
      "0. Title: A feasibility study of controlled human infection with Streptococcus pneumoniae in Malawi\n",
      "1. Title: Gender-Based Analysis of the Psychological Impact of the COVID-19 Pandemic on Healthcare Workers in Spain\n",
      "2. Title: Nuclear medicine in responding to global pandemic COVID-19—American College of Nuclear Medicine member experience\n",
      "3. Title: Medical masks vs N95 respirators for preventing COVID‐19 in healthcare workers: A systematic review and meta‐analysis of randomized trials\n",
      "4. Title: Neuropsychological functioning in post-ICU patients after severe COVID-19 infection: The role of cognitive reserve\n",
      "-------------------------\n",
      "|                         |\n",
      "|  Generating Summary...  |\n",
      "|                         |\n",
      "-------------------------\n"
     ]
    },
    {
     "name": "stderr",
     "output_type": "stream",
     "text": [
      "100%|██████████| 5/5 [00:03<00:00,  1.58it/s]\n"
     ]
    },
    {
     "name": "stdout",
     "output_type": "stream",
     "text": [
      "--------------------------------\n",
      "|                                |\n",
      "|  Resultant Summary Generated:  |\n",
      "|                                |\n",
      "--------------------------------\n",
      "This is a summary of the relevant articles that match your query.\n",
      "\n",
      "COKE has been developed to provide the scientific community with data that could\n",
      "potentially contribute to COVID-19 drug repurposing efforts.The rapid spread of\n",
      "the virus has raised concerns that healthcare systems lack sufficient resources\n",
      "and will be unable to bear the burden of accommodating patients suffering from\n",
      "COVID-197, resulting in significantly increased morbidity and mortality.However,\n",
      "it can be expected that trade policies and negotiation of trade agreements will\n",
      "emerge as the remedy for ailing economies in the aftermath of covid-19 crisis\n",
      "measures.On the ground of the results from the three tests we conclude that the\n",
      "EU has not safeguarded health services in trade and investment negotiations,\n",
      "that it could have done it more extensively on the basis of outcomes with\n",
      "respect to audiovisual services, and that there are no indications that this\n",
      "could have been achieved through other means.Online access to health information\n",
      "has been growing exponentially in the last few years.\n",
      "\n",
      "Do you wish to enter another query? (yes/no)\n",
      "\n",
      "> no\n",
      "-------------------------------------------------\n",
      "|                                                 |\n",
      "|  Thank you for using our Summarization System!  |\n",
      "|                                                 |\n",
      "-------------------------------------------------\n"
     ]
    }
   ],
   "source": [
    "import time\n",
    "\n",
    "def print_slow(text):\n",
    "    for char in text:\n",
    "        print(char, end='', flush=True)\n",
    "        time.sleep(0.03)\n",
    "    print()\n",
    "\n",
    "def print_box(text):\n",
    "    length = len(text) + 4\n",
    "    print(f\"{'-' * length}\")\n",
    "    print(f\"|{' ' * length}|\")\n",
    "    print(f\"|  {text}  |\")\n",
    "    print(f\"|{' ' * length}|\")\n",
    "    print(f\"{'-' * length}\")\n",
    "\n",
    "def clear_screen():\n",
    "    print(\"\\033c\", end=\"\")\n",
    "\n",
    "def user_interface():\n",
    "    clear_screen()\n",
    "\n",
    "    print_box(\"Summarization System\")\n",
    "    response = \"yes\"\n",
    "    while response.lower() in ['yes','y','ye','ni hao','haan']:\n",
    "        print(\"\\nPlease enter your query regarding COVID-19:\\n\")\n",
    "        query = input(\"> \")\n",
    "\n",
    "        # #Declaring an object for text matching class\n",
    "        # s1 = summarize()\n",
    "\n",
    "        print_box(\"Searching for Relevant Articles...\")\n",
    "        #Finding All relevant articles utilizing spacy Word-vector\n",
    "        redl_df = s1.text_matching(query,2)\n",
    "        time.sleep(2)\n",
    "        print_box(\"Titles of Relevant Articles Found:\")\n",
    "        for  num,title in enumerate(redl_df['title']):\n",
    "          print(f\"{num}. Title: {title}\")\n",
    "        print_box(\"Generating Summary...\")\n",
    "        time.sleep(2)\n",
    "        res_summ = s1.snip_summary(s1.model_pegasus_covid,s1.tokenizer_pegasus_covid,q_df,query)\n",
    "        print_box(\"Resultant Summary Generated:\")\n",
    "        print_slow(\"This is a summary of the relevant articles that match your query.\\n\")\n",
    "        #Make output easily readable\n",
    "        formatted_output = \"\\n\".join(textwrap.wrap(res_summ[0], width=80, break_long_words=False, replace_whitespace=False))\n",
    "        print(formatted_output)\n",
    "\n",
    "        print(\"\\nDo you wish to enter another query? (yes/no)\\n\")\n",
    "        response = input(\"> \")\n",
    "    print_box(\"Thank you for using our Summarization System!\")\n",
    "\n",
    "user_interface()\n"
   ]
  },
  {
   "cell_type": "markdown",
   "id": "hIpDPIAN4N4L",
   "metadata": {
    "id": "hIpDPIAN4N4L"
   },
   "source": [
    "#### Comparing the Effectiveness of Summarization by Pre-trained Language Models given Unprocessed and Processed Article Text\n",
    " ---"
   ]
  },
  {
   "cell_type": "code",
   "execution_count": null,
   "id": "MbVwaSCL7qij",
   "metadata": {
    "colab": {
     "base_uri": "https://localhost:8080/",
     "height": 127
    },
    "id": "MbVwaSCL7qij",
    "outputId": "f719d102-ecac-4b8d-9322-7adbee6b58a7"
   },
   "outputs": [
    {
     "data": {
      "application/vnd.google.colaboratory.intrinsic+json": {
       "type": "string"
      },
      "text/plain": [
       "'The rapid global spread of SARS-CoV-2 and the resulting coronavirus disease (COVID-19) pandemic has led to urgent efforts to contain and mitigate transmission, leading to significant, and widespread socioeconomic disruption. By July 2020, over 10 million cases have been reported worldwide, as well as over 500,000 deaths, with ongoing spread in most parts of the world2. In order to mitigate the burden of infection, many countries have imposed both international and domestic travel restrictions, closed schools and nonessential businesses, and strictly limited public gatherings. Such measures are designed to minimize person-to-person exposures, reducing the effective reproduction number, and thus the growth rate of the epidemic. Interventions such as these can offer protection (in risk of infection) to susceptible individuals, and/or containment (reduction in risk of onward transmission) to infected individuals. While such measures are near universally encouraged by governments and public health departments9, there has been limited international consensus on the use of face masks – whether surgical masks or simple reusable cloth masks—among the general public. The use of surgical masks as an infection control measure is common in East and South East Asia, and was recommended early on in the pandemic by governments in China, Hong Kong, and Taiwan for healthy persons in crowded public spaces, while masks were also recommended for symptomatic persons in Japan and Singapore10,11. Recognizing a growing recognition that this should be part of public health policy'"
      ]
     },
     "execution_count": 34,
     "metadata": {},
     "output_type": "execute_result"
    }
   ],
   "source": [
    "# Providing Unprocessed data\n",
    "num_sentences = 10\n",
    "query = \"how to use face masks?\"\n",
    "q_df = s1.text_matching(query,2)\n",
    "unprocessed_data = s1.combined_summary(s1.model_pegasus_covid,s1.tokenizer_pegasus_covid,q_df,choice=False)\n",
    "unprocessed_data[0]"
   ]
  },
  {
   "cell_type": "code",
   "execution_count": null,
   "id": "7XADy8tqdaou",
   "metadata": {
    "colab": {
     "base_uri": "https://localhost:8080/"
    },
    "id": "7XADy8tqdaou",
    "outputId": "4e3923f9-2e0b-4caf-b0e5-b56bfcfd49a6"
   },
   "outputs": [
    {
     "data": {
      "text/plain": [
       "['rapid global spread sarscov2 resulting coronavirus disease covid19 pandemic led urgent effort contain transmission leading significant widespread socioeconomic disruption. july 2020 10 million case reported worldwide well 500000 death ongoing spread part world2. infection frequently asymptomatic associated mild symptom many people34 cause severe lifethreatening illness immunocompromised elderly case fatality ratio 10 latter group4–6. urgent need better understand effectiveness potential intervention limit spread disease especially context resource limitation. order mitigate burden infection many country imposed international domestic travel restriction closed school nonessential business strictly limited public gatherings8. measure designed minimize persontoperson exposure reducing effective reproduction number thus growth rate epidemic. intervention offer protection reduction risk infection susceptible individual andor containment reduction risk onward transmission detected infected individual. use surgical mask infection control measure common east south east asia recommended early pandemic government china hong kong taiwan healthy person crowded public space also recommended symptomatic person japan singapore1011. contrast western country slower encourage adoption mask although growing recognition part public health policy mitigating spread covid191213. united state cdc recommended cloth face covering april 202014 many control measure already implemented uk government recommended cloth mask june limited public transport setting only15. also updated guidance june recommend face covering public well medical grade mask high risk symptomatic individual area known suspected community transmission16. conflicting national guideline variable public compliance selfreported mask use differs considerably']"
      ]
     },
     "execution_count": 26,
     "metadata": {},
     "output_type": "execute_result"
    }
   ],
   "source": [
    "# Providing Processed data\n",
    "processed_data = s1.combined_summary(s1.model_pegasus_covid,s1.tokenizer_pegasus_covid,q_df,choice=True)\n",
    "processed_data"
   ]
  },
  {
   "cell_type": "markdown",
   "id": "CJAUn7Goyel8",
   "metadata": {
    "id": "CJAUn7Goyel8"
   },
   "source": [
    "#### Summary Baseline\n",
    "\n",
    "---\n",
    "\n"
   ]
  },
  {
   "cell_type": "code",
   "execution_count": null,
   "id": "wKRbfWGGnotj",
   "metadata": {
    "colab": {
     "base_uri": "https://localhost:8080/",
     "height": 181
    },
    "id": "wKRbfWGGnotj",
    "outputId": "000b2d9d-d6c5-41f7-9cee-daaa08b2ac35"
   },
   "outputs": [
    {
     "name": "stderr",
     "output_type": "stream",
     "text": [
      "100%|██████████| 6/6 [00:00<00:00, 7254.49it/s]\n",
      "100%|██████████| 5/5 [00:00<00:00, 136.51it/s]"
     ]
    },
    {
     "name": "stdout",
     "output_type": "stream",
     "text": [
      "Time taken by Baseline pre-trained Model : 0.06547832489013672 seconds\n"
     ]
    },
    {
     "name": "stderr",
     "output_type": "stream",
     "text": [
      "\n"
     ]
    },
    {
     "data": {
      "application/vnd.google.colaboratory.intrinsic+json": {
       "type": "string"
      },
      "text/plain": [
       "'We assume that the mask is worn on average for μ days before requiring replacement, and the rate of nonwearers acquiring masks depends on both demand (ωA for healthy and asymptomatic individuals, or ωS for symptomatic individuals) and current supply (M/N, the proportion of mask in the overall population).The use of face masks can be implemented simultaneously with other strategies, including social distancing, travel restrictions and self-isolation, to mitigate the spread of a pandemic disease such as COVID-19.The use of face masks can be implemented simultaneously with other strategies, including social distancing, travel restrictions and self-isolation, to mitigate the spread of a pandemic disease such as COVID-19.The use of face masks can be implemented simultaneously with other strategies, including social distancing, travel restrictions and self-isolation, to mitigate the spread of a pandemic disease such as COVID-19.In this study, we investigate the role of face mask use and distribution among the general public during a coronavirus outbreak using mathematical modeling, in order to better understand (1) the overall reduction in infections and deaths associated with mask distribution and use, (2) how best to optimize distribution in a resource-limited setting, and (3) the role of dynamic supply and demand during an ongoing outbreak.In this study, we investigate the role of face mask use and distribution among the general public during a coronavirus outbreak using mathematical modeling, in order to better understand (1) the overall reduction in infections and deaths associated with mask distribution and use, (2) how best to optimize distribution in a resource-limited setting, and (3) the role of dynamic supply and demand during an ongoing outbreak.In this study, we investigate the role of face mask use and distribution among the general public during a coronavirus outbreak using mathematical modeling, in order to better understand (1) the overall reduction in infections and deaths associated with mask distribution and use, (2) how best to optimize distribution in a resource-limited setting, and (3) the role of dynamic supply and demand during an ongoing outbreak.For convenience, we also define the terms “protection” and “containment” as 1– rs and 1– rt, respectively, and use “mask effectiveness” to refer to these properties collectively.For convenience, we also define the terms “protection” and “containment” as 1– rs and 1– rt, respectively, and use “mask effectiveness” to refer to these properties collectively.Unless production is ramped up during the outbreak, an inability to build a stockpile of available resources prevents people from obtaining masks readily during peak transmission (Fig.Consistently, we found the reduction in total deaths and infections increased with mask effectiveness and availability.As a higher proportion of infectious persons—both symptomatic and asymptomatic (and possibly unaware)—are wearing masks offering a high level of containment, a smaller number of onward transmissions occur, requiring fewer masks to be provided for newly diagnosed individuals.Our models show that the more effective a mask is, the fewer masks are required to suppress an epidemic.Until now, we have only considered the distribution of resource-limited face masks (i.e.Until now, we have only considered the distribution of resource-limited face masks (i.e.'"
      ]
     },
     "execution_count": 21,
     "metadata": {},
     "output_type": "execute_result"
    }
   ],
   "source": [
    "#Baseline\n",
    "start_time = time.time()\n",
    "num_sentences = 10\n",
    "query = \"how to use face masks?\"\n",
    "# query = \"how to use face masks?\"\n",
    "q_df = s1.text_matching(query,2)\n",
    "res = s1.baseline(q_df,query,num_sentences=15)\n",
    "print(f'Time taken by Baseline pre-trained Model : {(time.time() - start_time)} seconds')\n",
    "res"
   ]
  },
  {
   "cell_type": "markdown",
   "id": "tUaCnQKZ3X3p",
   "metadata": {
    "id": "tUaCnQKZ3X3p"
   },
   "source": [
    "#### Getting Summary From Snips using different similarity\n",
    "\n",
    "---\n",
    "\n"
   ]
  },
  {
   "cell_type": "code",
   "execution_count": null,
   "id": "CT0Tpk8wgT1c",
   "metadata": {
    "colab": {
     "base_uri": "https://localhost:8080/"
    },
    "id": "CT0Tpk8wgT1c",
    "outputId": "b1da40d0-64ae-458a-8438-2d4671e17842"
   },
   "outputs": [
    {
     "name": "stderr",
     "output_type": "stream",
     "text": [
      "100%|██████████| 5/5 [00:02<00:00,  1.73it/s]\n"
     ]
    },
    {
     "name": "stdout",
     "output_type": "stream",
     "text": [
      "Time taken by BART pre-trained Model : 0.22 mins\n"
     ]
    },
    {
     "data": {
      "text/plain": [
       "['At present, the most common way to locate veins is still to see with naked eyes or to touch with fingers, which depends significantly on the clinicians’ experience.Once these efforts are made to stabilize the patient, sense-making can occur with a more formal, informed response to follow.This gives governments freedom to manage, subsidise and organise services and reserves the right to return more easily to public services from outsourced services.3.3.1, we try to find the inverse model in this section.Later, we can use Eqs.However, this restriction is not applied to all public services.We sought to only use proteins that have been hand-reviewed by UniProt.COKE has been developed to provide the scientific community with data that could potentially contribute to COVID-19 drug repurposing efforts.Our final test concerns alternative means to achieve the same outcome.It indicates that further study is required to enhance vein patterns and reduce noise.']"
      ]
     },
     "execution_count": 56,
     "metadata": {},
     "output_type": "execute_result"
    }
   ],
   "source": [
    "#Using Cosine word-embeddings\n",
    "start_time = time.time()\n",
    "num_sentences = 10\n",
    "query = \"how to use face masks?\"\n",
    "q_df = s1.text_matching(query,1)\n",
    "res = s1.snip_summary(s1.model_pegasus_covid,s1.tokenizer_pegasus_covid,q_df,query,cos=False,num_sentences=15)\n",
    "print(f'Time taken by BART pre-trained Model : {(time.time() - start_time) / 60:.2f} mins')\n",
    "res"
   ]
  },
  {
   "cell_type": "code",
   "execution_count": null,
   "id": "IijsDo7xyFDi",
   "metadata": {
    "colab": {
     "base_uri": "https://localhost:8080/"
    },
    "id": "IijsDo7xyFDi",
    "outputId": "f038ce82-7b38-476f-a5a4-845f5c7c0f55"
   },
   "outputs": [
    {
     "name": "stderr",
     "output_type": "stream",
     "text": [
      "100%|██████████| 6/6 [00:00<00:00, 10250.84it/s]\n",
      "100%|██████████| 5/5 [00:03<00:00,  1.64it/s]\n"
     ]
    },
    {
     "name": "stdout",
     "output_type": "stream",
     "text": [
      "Time taken by Pegasus_large pre-trained Model : 0.18 mins\n"
     ]
    },
    {
     "data": {
      "text/plain": [
       "['Masks must be continually acquired to remain a mask.Governments need to define and articulate reservations and exceptions to keep these outside negotiations.If they can be visualized from color images, it will greatly benefit the following treatment.Exposure to misinformation can affect people’s knowledge, beliefs and memory.For this reason, families began to gather to open sealed coffins with victims of COVID-19, to check if the body they were about to bury was really their family member [52].Sclerotherapy involves injecting a medicine called sclerosant to the affected veins, making them to shrink.Even considering these differences, it is not always easy to fit a news item into misinformation/disinformation categories, because we do not always know if the author of the news had the deliberate intention to deceive, or if he/she really believes in what is being written.Despite these limitations, we believe that this work can offer help so that scientists, journalists and health educators understand the characteristics of the misinformation health agenda during the pandemic and are better able to counter this problem.']"
      ]
     },
     "execution_count": 57,
     "metadata": {},
     "output_type": "execute_result"
    }
   ],
   "source": [
    "#Using Spacy word-embeddings\n",
    "start_time = time.time()\n",
    "num_sentences = 10\n",
    "# query = \"how to use face masks?\"\n",
    "q_df = s1.text_matching(query,2)\n",
    "res = s1.snip_summary(s1.model_pegasus_covid,s1.tokenizer_pegasus_covid,q_df,query,cos=False,num_sentences=15)\n",
    "print(f'Time taken by Pegasus_large pre-trained Model : {(time.time() - start_time) / 60:.2f} mins')\n",
    "res"
   ]
  },
  {
   "cell_type": "code",
   "execution_count": null,
   "id": "UHgHPn6XyMDt",
   "metadata": {
    "colab": {
     "base_uri": "https://localhost:8080/"
    },
    "id": "UHgHPn6XyMDt",
    "outputId": "65d5001c-4551-4f99-bd5e-360bfe72a44d"
   },
   "outputs": [
    {
     "name": "stderr",
     "output_type": "stream",
     "text": [
      "100%|██████████| 6/6 [00:00<00:00, 1615.68it/s]\n",
      "100%|██████████| 5/5 [00:03<00:00,  1.57it/s]\n"
     ]
    },
    {
     "name": "stdout",
     "output_type": "stream",
     "text": [
      "Time taken by Pegasus_large_Covid pre-trained Model : 0.19 mins\n"
     ]
    },
    {
     "data": {
      "text/plain": [
       "['Masks must be continually acquired to remain a mask.Governments need to define and articulate reservations and exceptions to keep these outside negotiations.If they can be visualized from color images, it will greatly benefit the following treatment.Exposure to misinformation can affect people’s knowledge, beliefs and memory.For this reason, families began to gather to open sealed coffins with victims of COVID-19, to check if the body they were about to bury was really their family member [52].Sclerotherapy involves injecting a medicine called sclerosant to the affected veins, making them to shrink.Even considering these differences, it is not always easy to fit a news item into misinformation/disinformation categories, because we do not always know if the author of the news had the deliberate intention to deceive, or if he/she really believes in what is being written.Despite these limitations, we believe that this work can offer help so that scientists, journalists and health educators understand the characteristics of the misinformation health agenda during the pandemic and are better able to counter this problem.']"
      ]
     },
     "execution_count": 58,
     "metadata": {},
     "output_type": "execute_result"
    }
   ],
   "source": [
    "#Using Custom word-embeddings\n",
    "start_time = time.time()\n",
    "num_sentences = 10\n",
    "# query = \"how to use face masks?\"\n",
    "q_df = s1.text_matching(query,3)\n",
    "res = s1.snip_summary(s1.model_pegasus_covid,s1.tokenizer_pegasus_covid,q_df,query,cos=False,num_sentences=15)\n",
    "print(f'Time taken by Pegasus_large_Covid pre-trained Model : {(time.time() - start_time) / 60:.2f} mins')\n",
    "res"
   ]
  },
  {
   "cell_type": "markdown",
   "id": "BYRpRkOV0rQy",
   "metadata": {
    "id": "BYRpRkOV0rQy"
   },
   "source": [
    "#### Getting Summary From Combining Body\n",
    "\n",
    "---\n",
    "\n"
   ]
  },
  {
   "cell_type": "code",
   "execution_count": null,
   "id": "pVLTojaT0wIA",
   "metadata": {
    "colab": {
     "base_uri": "https://localhost:8080/"
    },
    "id": "pVLTojaT0wIA",
    "outputId": "6c387a6a-b58f-465b-92ce-e434f94a8657"
   },
   "outputs": [
    {
     "name": "stdout",
     "output_type": "stream",
     "text": [
      "Time taken by BERT pre-trained Model : 0.20 mins\n"
     ]
    },
    {
     "data": {
      "text/plain": [
       "['The rapid global spread of SARS-CoV-2 and the resulting coronavirus disease (COVID-19) pandemic has led to urgent efforts to contain and mitigate transmission, leading to significant, and widespread socioeconomic disruption. By July 2020, over 10 million cases have been reported worldwide, as well as over 500,000 deaths, with ongoing spread in most parts of the world2. In order to mitigate the burden of infection, many countries have imposed both international and domestic travel restrictions, closed schools and nonessential businesses, and strictly limited public gatherings. Such measures are designed to minimize person-to-person exposures, reducing the effective reproduction number, and thus the growth rate of the epidemic. Interventions such as these can offer protection (in risk of infection) to susceptible individuals, and/or containment (reduction in risk of onward transmission) to infected individuals. While such measures are near universally encouraged by governments and public health departments9, there has been limited international consensus on the use of face masks – whether surgical masks or simple reusable cloth masks—among the general public. The use of surgical masks as an infection control measure is common in East and South East Asia, and was recommended early on in the pandemic by governments in China, Hong Kong, and Taiwan for healthy persons in crowded public spaces, while masks were also recommended for symptomatic persons in Japan and Singapore10,11. Recognizing a growing recognition that this should be part of public health policy']"
      ]
     },
     "execution_count": 59,
     "metadata": {},
     "output_type": "execute_result"
    }
   ],
   "source": [
    "#Using Cosine word-embeddings\n",
    "start_time = time.time()\n",
    "num_sentences = 10\n",
    "# query = \"how to use face masks?\"\n",
    "q_df = s1.text_matching(query,1)\n",
    "res = s1.combined_summary(s1.model_pegasus_covid,s1.tokenizer_pegasus_covid,q_df)\n",
    "print(f'Time taken by BART pre-trained Model : {(time.time() - start_time) / 60:.2f} mins')\n",
    "res"
   ]
  },
  {
   "cell_type": "code",
   "execution_count": null,
   "id": "W1HByk000wXB",
   "metadata": {
    "colab": {
     "base_uri": "https://localhost:8080/"
    },
    "id": "W1HByk000wXB",
    "outputId": "433c580d-b1f5-4490-da80-df732412e672"
   },
   "outputs": [
    {
     "name": "stderr",
     "output_type": "stream",
     "text": [
      "100%|██████████| 6/6 [00:00<00:00, 4685.50it/s]\n"
     ]
    },
    {
     "name": "stdout",
     "output_type": "stream",
     "text": [
      "Time taken by Pegasus_large pre-trained Model : 0.20 mins\n"
     ]
    },
    {
     "data": {
      "text/plain": [
       "['The rapid global spread of SARS-CoV-2 and the resulting coronavirus disease (COVID-19) pandemic has led to urgent efforts to contain and mitigate transmission, leading to significant, and widespread socioeconomic disruption. By July 2020, over 10 million cases have been reported worldwide, as well as over 500,000 deaths, with ongoing spread in most parts of the world2. In order to mitigate the burden of infection, many countries have imposed both international and domestic travel restrictions, closed schools and nonessential businesses, and strictly limited public gatherings. Such measures are designed to minimize person-to-person exposures, reducing the effective reproduction number, and thus the growth rate of the epidemic. Interventions such as these can offer protection (in risk of infection) to susceptible individuals, and/or containment (reduction in risk of onward transmission) to infected individuals. While such measures are near universally encouraged by governments and public health departments9, there has been limited international consensus on the use of face masks – whether surgical masks or simple reusable cloth masks—among the general public. The use of surgical masks as an infection control measure is common in East and South East Asia, and was recommended early on in the pandemic by governments in China, Hong Kong, and Taiwan for healthy persons in crowded public spaces, while masks were also recommended for symptomatic persons in Japan and Singapore10,11. Recognizing a growing recognition that this should be part of public health policy']"
      ]
     },
     "execution_count": 60,
     "metadata": {},
     "output_type": "execute_result"
    }
   ],
   "source": [
    "#Using Spacy word-embeddings\n",
    "start_time = time.time()\n",
    "num_sentences = 10\n",
    "# query = \"how to use face masks?\"\n",
    "q_df = s1.text_matching(query,2)\n",
    "res = s1.combined_summary(s1.model_pegasus_covid,s1.tokenizer_pegasus_covid,q_df)\n",
    "print(f'Time taken by Pegasus_large pre-trained Model : {(time.time() - start_time) / 60:.2f} mins')\n",
    "res"
   ]
  },
  {
   "cell_type": "code",
   "execution_count": null,
   "id": "JHlVZpMO0wff",
   "metadata": {
    "colab": {
     "base_uri": "https://localhost:8080/"
    },
    "id": "JHlVZpMO0wff",
    "outputId": "51080a5a-c801-468d-a7ad-5fc02ed106f9"
   },
   "outputs": [
    {
     "name": "stderr",
     "output_type": "stream",
     "text": [
      "100%|██████████| 6/6 [00:00<00:00, 2184.72it/s]\n"
     ]
    },
    {
     "name": "stdout",
     "output_type": "stream",
     "text": [
      "Time taken by Pegasus_large_Covid pre-trained Model : 0.18 mins\n"
     ]
    },
    {
     "data": {
      "text/plain": [
       "['Recently, the Allen Institute for AI, the National Institutes for Health (NIH), the White House, Georgetown University, and several other organizations collaborated to produce the COVID-19 Open Research Data set (CORD-19). As of June of 2021, this data set consisted of 660,000 articles about SARS-CoV-2, including over 390,000 with full text. SciBiteAI, a semantic research group based in the United Kingdom, has curated an ontologically annotated version of the data set to identify biomedical terms within sentences of full papers or abstracts. Using this semantically annotated collection of research papers, we have developed a web application summarizing all drug–target–coronavirus relationships annotated in the CORD-19 data set. COKE has been developed to provide the scientific community with data that could potentially contribute to drug repurposing efforts. We developed a scoring system to rate the confidence of a co-occurrence pair, and we highlighted specific sections of manuscripts where respective terms co-occur. The COKE portal (https://SciBite.mml.unc.edu/) provides data on human and viral proteins associated with SARS–CoV-2 and other coronaviruses as well as chemicals targeting those proteins that are indexed in the DrugBank.9,10']"
      ]
     },
     "execution_count": 61,
     "metadata": {},
     "output_type": "execute_result"
    }
   ],
   "source": [
    "#Using Custom word-embeddings\n",
    "start_time = time.time()\n",
    "num_sentences = 10\n",
    "# query = \"how to use face masks?\"\n",
    "q_df = s1.text_matching(query,3)\n",
    "res = s1.combined_summary(s1.model_pegasus_covid,s1.tokenizer_pegasus_covid,q_df)\n",
    "print(f'Time taken by Pegasus_large_Covid pre-trained Model : {(time.time() - start_time) / 60:.2f} mins')\n",
    "res"
   ]
  },
  {
   "cell_type": "markdown",
   "id": "nEL5V9Ix0w9y",
   "metadata": {
    "id": "nEL5V9Ix0w9y"
   },
   "source": [
    "#### Getting Summary From recursive Summary\n",
    "\n",
    "---"
   ]
  },
  {
   "cell_type": "code",
   "execution_count": null,
   "id": "7rVuECIT1y_i",
   "metadata": {
    "colab": {
     "base_uri": "https://localhost:8080/"
    },
    "id": "7rVuECIT1y_i",
    "outputId": "3a6d2731-ccbd-456d-ab00-93e3ea62e164"
   },
   "outputs": [
    {
     "name": "stdout",
     "output_type": "stream",
     "text": [
      "Time taken by BART pre-trained Model : 1.13 mins\n"
     ]
    },
    {
     "data": {
      "text/plain": [
       "['The rapid global spread of SARS-CoV-2 and the resulting coronavirus disease (COVID-19) pandemic has led to urgent efforts to contain and mitigate transmission, leading to significant, and widespread socioeconomic disruption. By July 2020, over 10 million cases have been reported worldwide, as well as over 500,000 deaths, with ongoing spread in most parts of the world2. Recognizing a growing recognition that this should be part of public health policy, the Allen Institute for AI, the National Institutes for Health (NIH), the White House, Georgetown University, and several other organizations collaborated to produce the COVID-19 Open Research Data set (CORD-19). While such measures are near universally encouraged by governments and public health departments9, there has been limited international consensus on the use of face masks – whether surgical masks or simple reusable cloth masks—among the general public. The use of surgical masks as an infection control measure is common in East and South East Asia, and was recommended early on in the pandemic by governments in China, Hong Kong, and Taiwan for healthy persons in crowded public spaces, while masks were also recommended for symptomatic persons in Japan and Singapore,']"
      ]
     },
     "execution_count": 62,
     "metadata": {},
     "output_type": "execute_result"
    }
   ],
   "source": [
    "#Using Cosine word-embeddings\n",
    "start_time = time.time()\n",
    "num_sentences = 10\n",
    "# query = \"how to use face masks?\"\n",
    "q_df = s1.text_matching(query,1)\n",
    "res = s1.recursive_summary(s1.model_pegasus_covid,s1.tokenizer_pegasus_covid,q_df)\n",
    "print(f'Time taken by BART pre-trained Model : {(time.time() - start_time) / 60:.2f} mins')\n",
    "res"
   ]
  },
  {
   "cell_type": "code",
   "execution_count": null,
   "id": "8LSfKcX8nsJy",
   "metadata": {
    "colab": {
     "base_uri": "https://localhost:8080/"
    },
    "id": "8LSfKcX8nsJy",
    "outputId": "dde51ed8-d171-4b23-f1b3-c69167a24444"
   },
   "outputs": [
    {
     "name": "stderr",
     "output_type": "stream",
     "text": [
      "100%|██████████| 6/6 [00:00<00:00, 10856.70it/s]\n"
     ]
    },
    {
     "name": "stdout",
     "output_type": "stream",
     "text": [
      "Time taken by Pegasus_large pre-trained Model : 1.15 mins\n"
     ]
    },
    {
     "data": {
      "text/plain": [
       "['The rapid global spread of SARS-CoV-2 and the resulting coronavirus disease (COVID-19) pandemic has led to urgent efforts to contain and mitigate transmission, leading to significant, and widespread socioeconomic disruption. By July 2020, over 10 million cases have been reported worldwide, as well as over 500,000 deaths, with ongoing spread in most parts of the world2. In order to mitigate the burden of infection, many countries have imposed both international and domestic travel restrictions, closed schools and nonessential businesses, and strictly limited public gatherings. Such measures are designed to minimize person-to-person exposures, reducing the effective reproduction number, and thus the growth rate of the epidemic. Interventions such as these can offer protection (in risk of infection) to susceptible individuals, and/or containment (symptom reduction in risk of onward transmission) to infected individuals. While such measures are near universally encouraged by governments and public health departments9, there has been limited international consensus on the use of face masks – whether surgical masks or simple reusable cloth masks—among the general public. The use of surgical masks as an infection control measure is common in East and South East Asia, and was recommended early on in the pandemic by governments in China, Hong Kong, and Taiwan for healthy persons in crowded public spaces, while masks were also recommended for symptomatic persons in Japan and Singapore10,11. Recognizing a growing recognition that this should be part of public health policyIn clinical treatment, when trying to eliminate varicose veins and spider veins, clinicians also']"
      ]
     },
     "execution_count": 63,
     "metadata": {},
     "output_type": "execute_result"
    }
   ],
   "source": [
    "#Using Spacy word-embeddings\n",
    "start_time = time.time()\n",
    "num_sentences = 10\n",
    "# query = \"how to use face masks?\"\n",
    "q_df = s1.text_matching(query,2)\n",
    "res = s1.recursive_summary(s1.model_pegasus_covid,s1.tokenizer_pegasus_covid,q_df)\n",
    "print(f'Time taken by Pegasus_large pre-trained Model : {(time.time() - start_time) / 60:.2f} mins')\n",
    "res"
   ]
  },
  {
   "cell_type": "code",
   "execution_count": null,
   "id": "CQvjSZl311JE",
   "metadata": {
    "colab": {
     "base_uri": "https://localhost:8080/"
    },
    "id": "CQvjSZl311JE",
    "outputId": "f26d2f37-f0b8-4488-d2e2-bfbe450088e4"
   },
   "outputs": [
    {
     "name": "stderr",
     "output_type": "stream",
     "text": [
      "100%|██████████| 6/6 [00:00<00:00, 2013.75it/s]\n"
     ]
    },
    {
     "name": "stdout",
     "output_type": "stream",
     "text": [
      "Time taken by Pegasus_large_Covid pre-trained Model : 1.12 mins\n"
     ]
    },
    {
     "data": {
      "text/plain": [
       "['Recently, the Allen Institute for AI, the National Institutes for Health (NIH), the White House, Georgetown University, and several other organizations collaborated to produce the COVID-19 Open Research Data set (CORD-19). As of June of 2021, this data set consisted of 660,000 articles about SARS-CoV-2, including over 390,000 with full text. SciBiteAI, a semantic research group based in the United Kingdom, has curated an ontologically annotated version of the data set to identify biomedical terms within sentences of full papers or abstracts. Using this semantically annotated collection of research papers, we have developed a web application summarizing all drug–target–coronavirus relationships annotated in the CORD-19 data set. COKE has been developed to provide the scientific community with data that could potentially contribute to drug repurposing efforts. We developed a scoring system to rate the confidence of a co-occurrence pair, and we highlighted specific sections of manuscripts where respective terms co-occur. The COKE portal (https://SciBite.mml.Theunc.edu/) provides data on human and viral proteins associated with SARS–CoV-2 and other coronaviruses as well as chemicals targeting those proteins that are indexed in the DrugBank.9,10']"
      ]
     },
     "execution_count": 64,
     "metadata": {},
     "output_type": "execute_result"
    }
   ],
   "source": [
    "#Using Custom word-embeddings\n",
    "start_time = time.time()\n",
    "num_sentences = 10\n",
    "# query = \"how to use face masks?\"\n",
    "q_df = s1.text_matching(query,3)\n",
    "res = s1.recursive_summary(s1.model_pegasus_covid,s1.tokenizer_pegasus_covid,q_df)\n",
    "print(f'Time taken by Pegasus_large_Covid pre-trained Model : {(time.time() - start_time) / 60:.2f} mins')\n",
    "res"
   ]
  },
  {
   "cell_type": "markdown",
   "id": "WigDpOwHtYsm",
   "metadata": {
    "id": "WigDpOwHtYsm"
   },
   "source": [
    "#### Computation time comparison between different summarization techniques\n",
    "---\n",
    "<table  border=\"1\" style=\"border:2px solid black;\">\n",
    "<!-- <caption><b>Time taken by different pre-trained Models</b></caption> -->\n",
    "  <tr>\n",
    "    <th>Word-Embedding Model</th>\n",
    "    <th>Summarization Type</th>\n",
    "    <th>Time Taken</th>\n",
    "  </tr>\n",
    "  <tr>\n",
    "    <td>Tf-ivf</td>\n",
    "    <td>All Text Summarization</td>\n",
    "    <td>0.20 mins</td>\n",
    "  </tr>\n",
    "  <tr>\n",
    "    <td></td>\n",
    "    <td>Double Summarization</td>\n",
    "    <td>1.13 mins</td>\n",
    "  </tr>\n",
    "  <tr>\n",
    "    <td></td>\n",
    "    <td>Relevant Snippets Summarization</td>\n",
    "    <td>0.22 mins</td>\n",
    "  </tr>\n",
    "  <tr>\n",
    "    <td class=\"divider\"><hr/></td>\n",
    "    <td class=\"divider\"><hr/></td>\n",
    "    <td class=\"divider\"><hr/></td>\n",
    "  </tr>\n",
    "  <tr>\n",
    "    <td>Spacy Embedding</td>\n",
    "    <td>All Text Summarization</td>\n",
    "    <td>0.20 mins</td>\n",
    "  </tr>\n",
    "  <tr>\n",
    "    <td></td>\n",
    "    <td>Double Summarization</td>\n",
    "    <td>1.15 mins</td>\n",
    "  </tr>\n",
    "  <tr>\n",
    "    <td></td>\n",
    "    <td>Relevant Snippets Summarization</td>\n",
    "    <td>0.18 mins</td>\n",
    "  </tr>\n",
    "  <tr>\n",
    "    <td class=\"divider\"><hr/></td>\n",
    "    <td class=\"divider\"><hr/></td>\n",
    "    <td class=\"divider\"><hr/></td>\n",
    "  </tr>\n",
    "  <tr>\n",
    "    <td>Custom Embedding</td>\n",
    "    <td>All Text Summarization</td>\n",
    "    <td>0.18 mins</td>\n",
    "  </tr>\n",
    "  <tr>\n",
    "    <td></td>\n",
    "    <td>Double Summarization</td>\n",
    "    <td>1.12 mins</td>\n",
    "  </tr>\n",
    "  <tr>\n",
    "    <td></td>\n",
    "    <td>Relevant Snippets Summarization</td>\n",
    "    <td>0.19 mins</td>\n",
    "  </tr>\n",
    "  \n",
    "  \n",
    "</table>\n",
    "\n",
    "---"
   ]
  },
  {
   "cell_type": "markdown",
   "id": "DIe7pzsPvJoA",
   "metadata": {
    "id": "DIe7pzsPvJoA"
   },
   "source": [
    "### Future Work\n",
    "\n",
    "* Pre trained word-vector models could be used to replace cosine similarity\n",
    "* A larger subsample of data may be considered from the available Kaggle dataset\n",
    "* Spacy has another pretrained NER model trained for processing biomedical, scientific or clinical text. that may be used\n",
    "* Maintaining a Index of entities for every article may help in faster and most efficient Query resolution\n"
   ]
  },
  {
   "cell_type": "markdown",
   "id": "7GvbH_BPvGoa",
   "metadata": {
    "id": "7GvbH_BPvGoa"
   },
   "source": [
    "### 7. References\n",
    "\n",
    "For reading and subsampeling:<br />\n",
    "https://www.kaggle.com/code/xhlulu/cord-19-eda-parse-json-and-generate-clean-csv\n",
    "\n",
    "For preprocessing the data: <br />\n",
    "Pilehvar, Mohammad. \"On the Role of Text Preprocessing in Neural Network Architectures: An Evaluation Study on Text Categorization and Sentiment Analysis.\" ArXiv, 2017,  /abs/1707.01780. Accessed 22 Mar. 2023.<br />\n",
    "\n",
    "For NER and KB: <br />\n",
    "Section 8.6 Speech and Language Processing Dan Jurafsky & James H. Martin  Stanford University 2021\n",
    "https://spacy.io/usage/spacy-101 # Documentation for Spacy\n",
    "\n",
    "For KnowledgeBase: <br />\n",
    "https://github.com/knowitall/reverb \n",
    "\n",
    "For Text Matching: <br/>\n",
    "documentation of NLTK sentence tokenizer\n",
    " https://www.nltk.org/api/nltk.tokenize.html\n",
    "\n",
    "For MRR score: <br />\n",
    " https://huggingface.co/spaces/evaluate-metric/rouge\n",
    "\n",
    "NLP Workshop codes\n",
    "\n",
    "For Fact checking: <br />\n",
    "ChatGPT"
   ]
  },
  {
   "cell_type": "code",
   "execution_count": null,
   "id": "0A6WO_cyw-RH",
   "metadata": {
    "id": "0A6WO_cyw-RH"
   },
   "outputs": [],
   "source": []
  }
 ],
 "metadata": {
  "accelerator": "GPU",
  "colab": {
   "collapsed_sections": [
    "hIpDPIAN4N4L",
    "CJAUn7Goyel8",
    "tUaCnQKZ3X3p",
    "BYRpRkOV0rQy"
   ],
   "machine_shape": "hm",
   "provenance": []
  },
  "gpuClass": "standard",
  "kernelspec": {
   "display_name": "Python 3 (ipykernel)",
   "language": "python",
   "name": "python3"
  },
  "language_info": {
   "codemirror_mode": {
    "name": "ipython",
    "version": 3
   },
   "file_extension": ".py",
   "mimetype": "text/x-python",
   "name": "python",
   "nbconvert_exporter": "python",
   "pygments_lexer": "ipython3",
   "version": "3.9.13"
  }
 },
 "nbformat": 4,
 "nbformat_minor": 5
}
